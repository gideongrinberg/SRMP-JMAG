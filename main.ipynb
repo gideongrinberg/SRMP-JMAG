{
 "cells": [
  {
   "cell_type": "code",
   "execution_count": 2,
   "id": "4ec60d75-37e2-45e0-962a-f43d25c14a5a",
   "metadata": {},
   "outputs": [
    {
     "name": "stdout",
     "output_type": "stream",
     "text": [
      "Collecting pylatex\n",
      "  Using cached PyLaTeX-1.4.2-py3-none-any.whl\n",
      "Collecting ordered-set (from pylatex)\n",
      "  Using cached ordered_set-4.1.0-py3-none-any.whl.metadata (5.3 kB)\n",
      "Using cached ordered_set-4.1.0-py3-none-any.whl (7.6 kB)\n",
      "Installing collected packages: ordered-set, pylatex\n",
      "Successfully installed ordered-set-4.1.0 pylatex-1.4.2\n"
     ]
    }
   ],
   "source": [
    "!pip install pylatex"
   ]
  },
  {
   "cell_type": "code",
   "execution_count": 38,
   "id": "c28b65c7-e91e-4ae3-884c-c853ebf44cfd",
   "metadata": {
    "editable": true,
    "slideshow": {
     "slide_type": ""
    },
    "tags": []
   },
   "outputs": [],
   "source": [
    "import os\n",
    "import uuid\n",
    "import shutil\n",
    "import pylatex\n",
    "import pandas as pd\n",
    "import lightkurve as lk \n",
    "import matplotlib.pyplot as plt\n",
    "\n",
    "from datetime import datetime\n",
    "from tqdm.notebook import tqdm\n",
    "from multiprocessing import cpu_count, Pool\n",
    "from pylatex.section import Chapter, Subsection\n",
    "from pylatex import Document, Section, Figure, NoEscape, Command\n",
    "\n",
    "plt.ioff()\n",
    "%run pipeline.ipynb\n",
    "\n",
    "OUTPUT_PATH = \"/home/jovyan/SRMP-JMAG/output\"\n",
    "AFTER_56_ONLY = False"
   ]
  },
  {
   "cell_type": "code",
   "execution_count": 31,
   "id": "b24f8ac4-c12d-41ba-a0cc-04425c82877c",
   "metadata": {
    "editable": true,
    "slideshow": {
     "slide_type": ""
    },
    "tags": []
   },
   "outputs": [
    {
     "data": {
      "application/vnd.jupyter.widget-view+json": {
       "model_id": "5be0ba160b9d4d4c8b315f6267dc6f76",
       "version_major": 2,
       "version_minor": 0
      },
      "text/plain": [
       "  0%|          | 0/3 [00:00<?, ?it/s]"
      ]
     },
     "metadata": {},
     "output_type": "display_data"
    }
   ],
   "source": [
    "def get_sectors(tic):\n",
    "    \"\"\"Returns a list of available sectors given an TIC.\"\"\"\n",
    "    sectors = []\n",
    "    for result in lk.search_tesscut(str(tic)):\n",
    "        sectors.append(int(result.mission[0].split(\" \")[2]))\n",
    "        \n",
    "    return {\"tic\": tic, \"sectors\": sectors}\n",
    "\n",
    "def get_targets(tics):\n",
    "    \"\"\"Constructs a dictionary of TICs and available sectors from a list of TICs\"\"\"\n",
    "    targets = []\n",
    "\n",
    "    with tqdm(total=len(tics)) as pbar:\n",
    "        for tic in tics:\n",
    "            targets.append(get_sectors(tic))\n",
    "            pbar.update()\n",
    "    return targets\n",
    "                \n",
    "targets = get_targets([\"TIC 404144841\", \"TIC 363963079\", \"TIC 206544316\"])"
   ]
  },
  {
   "cell_type": "code",
   "execution_count": 18,
   "id": "6449cd17-0f26-4efb-a605-c3ab79353c97",
   "metadata": {},
   "outputs": [],
   "source": [
    "import json\n",
    "with open(\"./output/targets.json\", \"w+\") as f:\n",
    "    f.write(json.dumps(targets))"
   ]
  },
  {
   "cell_type": "code",
   "execution_count": 35,
   "id": "d3b68364-4483-40ee-a321-92f9cfb973f0",
   "metadata": {
    "editable": true,
    "slideshow": {
     "slide_type": ""
    },
    "tags": []
   },
   "outputs": [
    {
     "data": {
      "application/vnd.jupyter.widget-view+json": {
       "model_id": "c76f244a58ad473889437cdcbbd92c39",
       "version_major": 2,
       "version_minor": 0
      },
      "text/plain": [
       "  0%|          | 0/3 [00:00<?, ?it/s]"
      ]
     },
     "metadata": {},
     "output_type": "display_data"
    },
    {
     "data": {
      "application/vnd.jupyter.widget-view+json": {
       "model_id": "",
       "version_major": 2,
       "version_minor": 0
      },
      "text/plain": [
       "TIC 404144841:   0%|          | 0/4 [00:00<?, ?it/s]"
      ]
     },
     "metadata": {},
     "output_type": "display_data"
    },
    {
     "name": "stdout",
     "output_type": "stream",
     "text": [
      "Downloading TIC 404144841:11\n",
      "Downloading URL https://mast.stsci.edu/tesscut/api/v0.1/astrocut?ra=195.14483964764&dec=-51.2181269239804&y=50&x=50&units=px&sector=11 to ./data/tesscut_20240701204558.zip ... [Done]\n",
      "Inflating...\n",
      "Removing 103 bad data points (out of 1248) using the TESS provided QUALITY array\n",
      "Summing over 1 x 1 pixel lightcurves. Weighting=None\n"
     ]
    },
    {
     "name": "stderr",
     "output_type": "stream",
     "text": [
      "/opt/conda/envs/tess/lib/python3.11/site-packages/astropy/units/quantity.py:666: RuntimeWarning: invalid value encountered in sqrt\n",
      "  result = super().__array_ufunc__(function, method, *arrays, **kwargs)\n"
     ]
    },
    {
     "name": "stdout",
     "output_type": "stream",
     "text": [
      "Downloading TIC 404144841:37\n",
      "Downloading URL https://mast.stsci.edu/tesscut/api/v0.1/astrocut?ra=195.14483964764&dec=-51.2181269239804&y=50&x=50&units=px&sector=37 to ./data/tesscut_20240701204606.zip ... [Done]\n",
      "Inflating...\n",
      "Removing 16 bad data points (out of 3477) using the TESS provided QUALITY array\n",
      "Summing over 1 x 1 pixel lightcurves. Weighting=None\n",
      "Downloading TIC 404144841:38\n",
      "Downloading URL https://mast.stsci.edu/tesscut/api/v0.1/astrocut?ra=195.14483964764&dec=-51.2181269239804&y=50&x=50&units=px&sector=38 to ./data/tesscut_20240701204620.zip ... [Done]\n",
      "Inflating...\n",
      "Removing 12 bad data points (out of 3705) using the TESS provided QUALITY array\n",
      "Summing over 1 x 1 pixel lightcurves. Weighting=None\n",
      "Downloading TIC 404144841:64\n",
      "Downloading URL https://mast.stsci.edu/tesscut/api/v0.1/astrocut?ra=195.14483964764&dec=-51.2181269239804&y=50&x=50&units=px&sector=64 to ./data/tesscut_20240701204635.zip ... [Done]\n",
      "Inflating...\n",
      "Removing 155 bad data points (out of 11356) using the TESS provided QUALITY array\n",
      "Summing over 1 x 1 pixel lightcurves. Weighting=None\n"
     ]
    },
    {
     "data": {
      "application/vnd.jupyter.widget-view+json": {
       "model_id": "",
       "version_major": 2,
       "version_minor": 0
      },
      "text/plain": [
       "TIC 363963079:   0%|          | 0/7 [00:00<?, ?it/s]"
      ]
     },
     "metadata": {},
     "output_type": "display_data"
    },
    {
     "name": "stdout",
     "output_type": "stream",
     "text": [
      "Downloading TIC 363963079:8\n",
      "Downloading URL https://mast.stsci.edu/tesscut/api/v0.1/astrocut?ra=110.480166495772&dec=-49.6348536637814&y=50&x=50&units=px&sector=8 to ./data/tesscut_20240701204718.zip ... [Done]\n",
      "Inflating...\n",
      "Removing 17 bad data points (out of 968) using the TESS provided QUALITY array\n",
      "Summing over 1 x 1 pixel lightcurves. Weighting=None\n",
      "Downloading TIC 363963079:7\n",
      "Downloading URL https://mast.stsci.edu/tesscut/api/v0.1/astrocut?ra=110.480166495772&dec=-49.6348536637814&y=50&x=50&units=px&sector=7 to ./data/tesscut_20240701204727.zip ... [Done]\n",
      "Inflating...\n",
      "Removing 7 bad data points (out of 1093) using the TESS provided QUALITY array\n",
      "Summing over 1 x 1 pixel lightcurves. Weighting=None\n",
      "Downloading TIC 363963079:33\n",
      "Downloading URL https://mast.stsci.edu/tesscut/api/v0.1/astrocut?ra=110.480166495772&dec=-49.6348536637814&y=50&x=50&units=px&sector=33 to ./data/tesscut_20240701204736.zip ... [Done]\n",
      "Inflating...\n",
      "Removing 10 bad data points (out of 3495) using the TESS provided QUALITY array\n",
      "Summing over 1 x 1 pixel lightcurves. Weighting=None\n",
      "Downloading TIC 363963079:34\n",
      "Downloading URL https://mast.stsci.edu/tesscut/api/v0.1/astrocut?ra=110.480166495772&dec=-49.6348536637814&y=50&x=50&units=px&sector=34 to ./data/tesscut_20240701204754.zip ... [Done]\n",
      "Inflating...\n",
      "Removing 15 bad data points (out of 3489) using the TESS provided QUALITY array\n",
      "Summing over 1 x 1 pixel lightcurves. Weighting=None\n",
      "Downloading TIC 363963079:35\n",
      "Downloading URL https://mast.stsci.edu/tesscut/api/v0.1/astrocut?ra=110.480166495772&dec=-49.6348536637814&y=50&x=50&units=px&sector=35 to ./data/tesscut_20240701204815.zip ... [Done]\n",
      "Inflating...\n",
      "Removing 538 bad data points (out of 3353) using the TESS provided QUALITY array\n",
      "Summing over 1 x 1 pixel lightcurves. Weighting=None\n"
     ]
    },
    {
     "name": "stderr",
     "output_type": "stream",
     "text": [
      "/opt/conda/envs/tess/lib/python3.11/site-packages/astropy/units/quantity.py:666: RuntimeWarning: invalid value encountered in sqrt\n",
      "  result = super().__array_ufunc__(function, method, *arrays, **kwargs)\n"
     ]
    },
    {
     "name": "stdout",
     "output_type": "stream",
     "text": [
      "Downloading TIC 363963079:61\n",
      "Downloading URL https://mast.stsci.edu/tesscut/api/v0.1/astrocut?ra=110.480166495772&dec=-49.6348536637814&y=50&x=50&units=px&sector=61 to ./data/tesscut_20240701204829.zip ... [Done]\n",
      "Inflating...\n",
      "Removing 59 bad data points (out of 10713) using the TESS provided QUALITY array\n",
      "Summing over 1 x 1 pixel lightcurves. Weighting=None\n",
      "Downloading TIC 363963079:62\n",
      "Downloading URL https://mast.stsci.edu/tesscut/api/v0.1/astrocut?ra=110.480166495772&dec=-49.6348536637814&y=50&x=50&units=px&sector=62 to ./data/tesscut_20240701204919.zip ... [Done]\n",
      "Inflating...\n",
      "Removing 26 bad data points (out of 10837) using the TESS provided QUALITY array\n",
      "Summing over 1 x 1 pixel lightcurves. Weighting=None\n"
     ]
    },
    {
     "name": "stderr",
     "output_type": "stream",
     "text": [
      "/opt/conda/envs/tess/lib/python3.11/site-packages/astropy/units/quantity.py:666: RuntimeWarning: invalid value encountered in sqrt\n",
      "  result = super().__array_ufunc__(function, method, *arrays, **kwargs)\n",
      "/opt/conda/envs/tess/lib/python3.11/site-packages/astropy/units/quantity.py:666: RuntimeWarning: invalid value encountered in sqrt\n",
      "  result = super().__array_ufunc__(function, method, *arrays, **kwargs)\n"
     ]
    },
    {
     "data": {
      "application/vnd.jupyter.widget-view+json": {
       "model_id": "",
       "version_major": 2,
       "version_minor": 0
      },
      "text/plain": [
       "TIC 206544316:   0%|          | 0/6 [00:00<?, ?it/s]"
      ]
     },
     "metadata": {},
     "output_type": "display_data"
    },
    {
     "name": "stdout",
     "output_type": "stream",
     "text": [
      "Downloading TIC 206544316:1\n",
      "Downloading URL https://mast.stsci.edu/tesscut/api/v0.1/astrocut?ra=18.4180198356956&dec=-59.6595635897008&y=50&x=50&units=px&sector=1 to ./data/tesscut_20240701204952.zip ... [Done]\n",
      "Inflating...\n",
      "Removing 15 bad data points (out of 1282) using the TESS provided QUALITY array\n",
      "Summing over 1 x 1 pixel lightcurves. Weighting=None\n",
      "Downloading TIC 206544316:2\n",
      "Downloading URL https://mast.stsci.edu/tesscut/api/v0.1/astrocut?ra=18.4180198356956&dec=-59.6595635897008&y=50&x=50&units=px&sector=2 to ./data/tesscut_20240701205000.zip ... [Done]\n",
      "Inflating...\n",
      "Removing 49 bad data points (out of 1245) using the TESS provided QUALITY array\n",
      "Summing over 1 x 1 pixel lightcurves. Weighting=None\n",
      "Downloading TIC 206544316:28\n",
      "Downloading URL https://mast.stsci.edu/tesscut/api/v0.1/astrocut?ra=18.4180198356956&dec=-59.6595635897008&y=50&x=50&units=px&sector=28 to ./data/tesscut_20240701205008.zip ... [Done]\n",
      "Inflating...\n",
      "Removing 15 bad data points (out of 3464) using the TESS provided QUALITY array\n",
      "Summing over 1 x 1 pixel lightcurves. Weighting=None\n",
      "Downloading TIC 206544316:29\n",
      "Downloading URL https://mast.stsci.edu/tesscut/api/v0.1/astrocut?ra=18.4180198356956&dec=-59.6595635897008&y=50&x=50&units=px&sector=29 to ./data/tesscut_20240701205023.zip ... [Done]\n",
      "Inflating...\n",
      "Removing 63 bad data points (out of 3635) using the TESS provided QUALITY array\n",
      "Summing over 1 x 1 pixel lightcurves. Weighting=None\n",
      "Downloading TIC 206544316:68\n",
      "Downloading URL https://mast.stsci.edu/tesscut/api/v0.1/astrocut?ra=18.4180198356956&dec=-59.6595635897008&y=50&x=50&units=px&sector=68 to ./data/tesscut_20240701205037.zip ... [Done]\n",
      "Inflating...\n",
      "Removing 421 bad data points (out of 11639) using the TESS provided QUALITY array\n",
      "Summing over 1 x 1 pixel lightcurves. Weighting=None\n",
      "Downloading TIC 206544316:69\n",
      "Downloading URL https://mast.stsci.edu/tesscut/api/v0.1/astrocut?ra=18.4180198356956&dec=-59.6595635897008&y=50&x=50&units=px&sector=69 to ./data/tesscut_20240701205110.zip ... [Done]\n",
      "Inflating...\n",
      "Removing 1425 bad data points (out of 10856) using the TESS provided QUALITY array\n",
      "Summing over 1 x 1 pixel lightcurves. Weighting=None\n"
     ]
    }
   ],
   "source": [
    "complex = {}\n",
    "not_complex = {}\n",
    "\n",
    "for target in tqdm(targets):\n",
    "    for sector in tqdm(target[\"sectors\"], leave=False, desc=target[\"tic\"]):\n",
    "        if sector <= 56 and AFTER_56_ONLY:\n",
    "            continue\n",
    "        lc = load_lc(f\"{target['tic']}\", sector)\n",
    "        \n",
    "        # Determine complexity\n",
    "        if complexitycheck(lc):\n",
    "            if target[\"tic\"] not in complex.keys():\n",
    "                complex[target[\"tic\"]] = []\n",
    "            complex[target[\"tic\"]].append(sector)\n",
    "        else:\n",
    "            if target[\"tic\"] not in not_complex.keys():\n",
    "                not_complex[target[\"tic\"]] = []\n",
    "            not_complex[target[\"tic\"]].append(sector)\n",
    "        if not os.path.isdir(f\"{OUTPUT_PATH}/{target['tic']}\"):\n",
    "            os.mkdir(f\"{OUTPUT_PATH}/{target['tic']}\")\n",
    "\n",
    "        try:\n",
    "            # Plot river and save\n",
    "            plt.figure(river_plot(lc).number) # this is necessary to make the output current and save the correct figure.\n",
    "            plt.savefig(f\"{OUTPUT_PATH}/{target['tic']}/{sector}_river.png\")\n",
    "            plt.close()\n",
    "    \n",
    "            # Plot lc and save\n",
    "            plt.figure(graph_lc(lc).number) \n",
    "            plt.savefig(f\"{OUTPUT_PATH}/{target['tic']}/{sector}_plot.png\")\n",
    "            plt.close()\n",
    "    \n",
    "            # Make periodogram and save\n",
    "            plt.figure(lombscargle(lc).number) \n",
    "            plt.savefig(f\"{OUTPUT_PATH}/{target['tic']}/{sector}_periodogram.png\")\n",
    "            plt.close()\n",
    "        except:\n",
    "            print(f\"Failed to generate one or more plots for {tic}:{sector}\")"
   ]
  },
  {
   "cell_type": "code",
   "execution_count": 36,
   "id": "20c8343f-7279-4753-b012-3736a1de6b90",
   "metadata": {
    "editable": true,
    "slideshow": {
     "slide_type": ""
    },
    "tags": []
   },
   "outputs": [],
   "source": [
    "def make_dataframes(l):\n",
    "    \n",
    "    df = pd.DataFrame()\n",
    "    \n",
    "    tics = []\n",
    "    sectors = []\n",
    "    for tic in list(l.keys()):\n",
    "        for sector in l[tic]:\n",
    "            tics.append(tic)\n",
    "            sectors.append(sector)\n",
    "    \n",
    "    df[\"TIC\"] = tics\n",
    "    df[\"Sectors\"] = sectors\n",
    "\n",
    "    return df\n",
    "\n",
    "make_dataframes(complex).to_csv(f\"{OUTPUT_PATH}/complex.csv\")\n",
    "make_dataframes(not_complex).to_csv(f\"{OUTPUT_PATH}/not_complex.csv\")"
   ]
  },
  {
   "cell_type": "code",
   "execution_count": 40,
   "id": "615e9024-3dc2-45f0-a2d8-0bb482d1a4e9",
   "metadata": {
    "editable": true,
    "scrolled": true,
    "slideshow": {
     "slide_type": ""
    },
    "tags": []
   },
   "outputs": [
    {
     "name": "stdout",
     "output_type": "stream",
     "text": [
      "This is pdfTeX, Version 3.14159265-2.6-1.40.20 (TeX Live 2019/Debian) (preloaded format=pdflatex)\n",
      " restricted \\write18 enabled.\n",
      "entering extended mode\n",
      "(./main.tex\n",
      "LaTeX2e <2020-02-02> patch level 2\n",
      "L3 programming layer <2020-02-14>\n",
      "(/usr/share/texlive/texmf-dist/tex/latex/base/report.cls\n",
      "Document Class: report 2019/12/20 v1.4l Standard LaTeX document class\n",
      "(/usr/share/texlive/texmf-dist/tex/latex/base/size10.clo))\n",
      "(/usr/share/texlive/texmf-dist/tex/latex/base/fontenc.sty)\n",
      "(/usr/share/texlive/texmf-dist/tex/latex/base/inputenc.sty)\n",
      "(/usr/share/texlive/texmf-dist/tex/latex/base/textcomp.sty)\n",
      "(/usr/share/texlive/texmf-dist/tex/latex/lastpage/lastpage.sty)\n",
      "(/usr/share/texlive/texmf-dist/tex/latex/geometry/geometry.sty\n",
      "(/usr/share/texlive/texmf-dist/tex/latex/graphics/keyval.sty)\n",
      "(/usr/share/texlive/texmf-dist/tex/generic/iftex/ifvtex.sty\n",
      "(/usr/share/texlive/texmf-dist/tex/generic/iftex/iftex.sty)))\n",
      "(/usr/share/texlive/texmf-dist/tex/latex/graphics/graphicx.sty\n",
      "(/usr/share/texlive/texmf-dist/tex/latex/graphics/graphics.sty\n",
      "(/usr/share/texlive/texmf-dist/tex/latex/graphics/trig.sty)\n",
      "(/usr/share/texlive/texmf-dist/tex/latex/graphics-cfg/graphics.cfg)\n",
      "(/usr/share/texlive/texmf-dist/tex/latex/graphics-def/pdftex.def)))\n",
      "(/usr/share/texlive/texmf-dist/tex/latex/float/float.sty)\n",
      "(/usr/share/texlive/texmf-dist/tex/latex/hyperref/hyperref.sty\n",
      "(/usr/share/texlive/texmf-dist/tex/generic/ltxcmds/ltxcmds.sty)\n",
      "(/usr/share/texlive/texmf-dist/tex/latex/pdftexcmds/pdftexcmds.sty\n",
      "(/usr/share/texlive/texmf-dist/tex/generic/infwarerr/infwarerr.sty))\n",
      "(/usr/share/texlive/texmf-dist/tex/generic/kvsetkeys/kvsetkeys.sty)\n",
      "(/usr/share/texlive/texmf-dist/tex/generic/kvdefinekeys/kvdefinekeys.sty)\n",
      "(/usr/share/texlive/texmf-dist/tex/generic/pdfescape/pdfescape.sty)\n",
      "(/usr/share/texlive/texmf-dist/tex/latex/hycolor/hycolor.sty)\n",
      "(/usr/share/texlive/texmf-dist/tex/latex/letltxmacro/letltxmacro.sty)\n",
      "(/usr/share/texlive/texmf-dist/tex/latex/auxhook/auxhook.sty)\n",
      "(/usr/share/texlive/texmf-dist/tex/latex/kvoptions/kvoptions.sty)\n",
      "(/usr/share/texlive/texmf-dist/tex/latex/hyperref/pd1enc.def)\n",
      "(/usr/share/texlive/texmf-dist/tex/generic/intcalc/intcalc.sty)\n",
      "(/usr/share/texlive/texmf-dist/tex/generic/etexcmds/etexcmds.sty)\n",
      "(/usr/share/texlive/texmf-dist/tex/latex/url/url.sty)\n",
      "(/usr/share/texlive/texmf-dist/tex/generic/bitset/bitset.sty\n",
      "(/usr/share/texlive/texmf-dist/tex/generic/bigintcalc/bigintcalc.sty))\n",
      "(/usr/share/texlive/texmf-dist/tex/generic/atbegshi/atbegshi.sty))\n",
      "(/usr/share/texlive/texmf-dist/tex/latex/hyperref/hpdftex.def\n",
      "(/usr/share/texlive/texmf-dist/tex/latex/atveryend/atveryend.sty)\n",
      "(/usr/share/texlive/texmf-dist/tex/latex/rerunfilecheck/rerunfilecheck.sty\n",
      "(/usr/share/texlive/texmf-dist/tex/generic/uniquecounter/uniquecounter.sty)))\n",
      "(/usr/share/texlive/texmf-dist/tex/latex/l3backend/l3backend-pdfmode.def)\n",
      "No file main.aux.\n",
      "*geometry* driver: auto-detecting\n",
      "*geometry* detected driver: pdftex\n",
      "(/usr/share/texlive/texmf-dist/tex/context/base/mkii/supp-pdf.mkii\n",
      "[Loading MPS to PDF converter (version 2006.09.02).]\n",
      ") (/usr/share/texlive/texmf-dist/tex/latex/epstopdf-pkg/epstopdf-base.sty\n",
      "(/usr/share/texlive/texmf-dist/tex/latex/latexconfig/epstopdf-sys.cfg))\n",
      "(/usr/share/texlive/texmf-dist/tex/latex/graphics/color.sty\n",
      "(/usr/share/texlive/texmf-dist/tex/latex/graphics-cfg/color.cfg))\n",
      "(/usr/share/texlive/texmf-dist/tex/latex/hyperref/nameref.sty\n",
      "(/usr/share/texlive/texmf-dist/tex/latex/refcount/refcount.sty)\n",
      "(/usr/share/texlive/texmf-dist/tex/generic/gettitlestring/gettitlestring.sty))\n",
      "\n",
      "LaTeX Warning: No \\author given.\n",
      "\n",
      "[1{/var/lib/texmf/fonts/map/pdftex/updmap/pdftex.map}]pdfTeX warning (ext4): de\n",
      "stination with the same identifier (name{page.1}) has been already used, duplic\n",
      "ate ignored\n",
      "<to be read again> \n",
      "                   \\relax \n",
      "l.20 \\chapter\n",
      "             {Complex Rotators}% [1]\n",
      "Chapter 1.\n",
      "[2] [3 </home/jovyan/SRMP-JMAG/output/TIC 404144841/11_plot.png> </home/jovyan/\n",
      "SRMP-JMAG/output/TIC 404144841/11_river.png> </home/jovyan/SRMP-JMAG/output/TIC\n",
      " 404144841/11_periodogram.png>] [4 </home/jovyan/SRMP-JMAG/output/TIC 404144841\n",
      "/37_plot.png> </home/jovyan/SRMP-JMAG/output/TIC 404144841/37_river.png> </home\n",
      "/jovyan/SRMP-JMAG/output/TIC 404144841/37_periodogram.png>] [5 </home/jovyan/SR\n",
      "MP-JMAG/output/TIC 404144841/38_plot.png> </home/jovyan/SRMP-JMAG/output/TIC 40\n",
      "4144841/38_river.png> </home/jovyan/SRMP-JMAG/output/TIC 404144841/38_periodogr\n",
      "am.png>] [6 </home/jovyan/SRMP-JMAG/output/TIC 404144841/64_plot.png> </home/jo\n",
      "vyan/SRMP-JMAG/output/TIC 404144841/64_river.png> </home/jovyan/SRMP-JMAG/outpu\n",
      "t/TIC 404144841/64_periodogram.png>] [7 </home/jovyan/SRMP-JMAG/output/TIC 3639\n",
      "63079/8_plot.png> </home/jovyan/SRMP-JMAG/output/TIC 363963079/8_river.png> </h\n",
      "ome/jovyan/SRMP-JMAG/output/TIC 363963079/8_periodogram.png>] [8 </home/jovyan/\n",
      "SRMP-JMAG/output/TIC 363963079/7_plot.png> </home/jovyan/SRMP-JMAG/output/TIC 3\n",
      "63963079/7_river.png> </home/jovyan/SRMP-JMAG/output/TIC 363963079/7_periodogra\n",
      "m.png>] [9 </home/jovyan/SRMP-JMAG/output/TIC 363963079/33_plot.png> </home/jov\n",
      "yan/SRMP-JMAG/output/TIC 363963079/33_river.png> </home/jovyan/SRMP-JMAG/output\n",
      "/TIC 363963079/33_periodogram.png>] [10 </home/jovyan/SRMP-JMAG/output/TIC 3639\n",
      "63079/34_plot.png> </home/jovyan/SRMP-JMAG/output/TIC 363963079/34_river.png> <\n",
      "/home/jovyan/SRMP-JMAG/output/TIC 363963079/34_periodogram.png>] [11 </home/jov\n",
      "yan/SRMP-JMAG/output/TIC 363963079/35_plot.png> </home/jovyan/SRMP-JMAG/output/\n",
      "TIC 363963079/35_river.png> </home/jovyan/SRMP-JMAG/output/TIC 363963079/35_per\n",
      "iodogram.png>] [12 </home/jovyan/SRMP-JMAG/output/TIC 363963079/61_plot.png> </\n",
      "home/jovyan/SRMP-JMAG/output/TIC 363963079/61_river.png> </home/jovyan/SRMP-JMA\n",
      "G/output/TIC 363963079/61_periodogram.png>] [13 </home/jovyan/SRMP-JMAG/output/\n",
      "TIC 206544316/1_plot.png> </home/jovyan/SRMP-JMAG/output/TIC 206544316/1_river.\n",
      "png> </home/jovyan/SRMP-JMAG/output/TIC 206544316/1_periodogram.png>] [14 </hom\n",
      "e/jovyan/SRMP-JMAG/output/TIC 206544316/2_plot.png> </home/jovyan/SRMP-JMAG/out\n",
      "put/TIC 206544316/2_river.png> </home/jovyan/SRMP-JMAG/output/TIC 206544316/2_p\n",
      "eriodogram.png>] [15 </home/jovyan/SRMP-JMAG/output/TIC 206544316/28_plot.png> \n",
      "</home/jovyan/SRMP-JMAG/output/TIC 206544316/28_river.png> </home/jovyan/SRMP-J\n",
      "MAG/output/TIC 206544316/28_periodogram.png>] [16 </home/jovyan/SRMP-JMAG/outpu\n",
      "t/TIC 206544316/29_plot.png> </home/jovyan/SRMP-JMAG/output/TIC 206544316/29_ri\n",
      "ver.png> </home/jovyan/SRMP-JMAG/output/TIC 206544316/29_periodogram.png>]\n",
      "[17 </home/jovyan/SRMP-JMAG/output/TIC 206544316/68_plot.png> </home/jovyan/SRM\n",
      "P-JMAG/output/TIC 206544316/68_river.png> </home/jovyan/SRMP-JMAG/output/TIC 20\n",
      "6544316/68_periodogram.png>] [18 </home/jovyan/SRMP-JMAG/output/TIC 206544316/6\n",
      "9_plot.png> </home/jovyan/SRMP-JMAG/output/TIC 206544316/69_river.png> </home/j\n",
      "ovyan/SRMP-JMAG/output/TIC 206544316/69_periodogram.png>]\n",
      "Chapter 2.\n",
      "[19]\n",
      "\n",
      "Package lastpage Warning: Rerun to get the references right on input line 593.\n",
      "\n",
      "\n",
      "AED: lastpage setting LastPage\n",
      "[20 </home/jovyan/SRMP-JMAG/output/TIC 363963079/62_plot.png> </home/jovyan/SRM\n",
      "P-JMAG/output/TIC 363963079/62_river.png> </home/jovyan/SRMP-JMAG/output/TIC 36\n",
      "3963079/62_periodogram.png>] (./main.aux)\n",
      "\n",
      "Package rerunfilecheck Warning: File `main.out' has changed.\n",
      "(rerunfilecheck)                Rerun to get outlines right\n",
      "(rerunfilecheck)                or use package `bookmark'.\n",
      "\n",
      "\n",
      "LaTeX Warning: Label(s) may have changed. Rerun to get cross-references right.\n",
      "\n",
      " )\n",
      "(see the transcript file for additional information){/usr/share/texmf/fonts/enc\n",
      "/dvips/cm-super/cm-super-t1.enc}</usr/share/texmf/fonts/type1/public/cm-super/s\n",
      "fbx1200.pfb></usr/share/texmf/fonts/type1/public/cm-super/sfbx1440.pfb></usr/sh\n",
      "are/texmf/fonts/type1/public/cm-super/sfbx2074.pfb></usr/share/texmf/fonts/type\n",
      "1/public/cm-super/sfbx2488.pfb></usr/share/texmf/fonts/type1/public/cm-super/sf\n",
      "rm1000.pfb></usr/share/texmf/fonts/type1/public/cm-super/sfrm1200.pfb></usr/sha\n",
      "re/texmf/fonts/type1/public/cm-super/sfrm1728.pfb>\n",
      "Output written on main.pdf (21 pages, 2393338 bytes).\n",
      "Transcript written on main.log.\n",
      "This is pdfTeX, Version 3.14159265-2.6-1.40.20 (TeX Live 2019/Debian) (preloaded format=pdflatex)\n",
      " restricted \\write18 enabled.\n",
      "entering extended mode\n",
      "(./main.tex\n",
      "LaTeX2e <2020-02-02> patch level 2\n",
      "L3 programming layer <2020-02-14>\n",
      "(/usr/share/texlive/texmf-dist/tex/latex/base/report.cls\n",
      "Document Class: report 2019/12/20 v1.4l Standard LaTeX document class\n",
      "(/usr/share/texlive/texmf-dist/tex/latex/base/size10.clo))\n",
      "(/usr/share/texlive/texmf-dist/tex/latex/base/fontenc.sty)\n",
      "(/usr/share/texlive/texmf-dist/tex/latex/base/inputenc.sty)\n",
      "(/usr/share/texlive/texmf-dist/tex/latex/base/textcomp.sty)\n",
      "(/usr/share/texlive/texmf-dist/tex/latex/lastpage/lastpage.sty)\n",
      "(/usr/share/texlive/texmf-dist/tex/latex/geometry/geometry.sty\n",
      "(/usr/share/texlive/texmf-dist/tex/latex/graphics/keyval.sty)\n",
      "(/usr/share/texlive/texmf-dist/tex/generic/iftex/ifvtex.sty\n",
      "(/usr/share/texlive/texmf-dist/tex/generic/iftex/iftex.sty)))\n",
      "(/usr/share/texlive/texmf-dist/tex/latex/graphics/graphicx.sty\n",
      "(/usr/share/texlive/texmf-dist/tex/latex/graphics/graphics.sty\n",
      "(/usr/share/texlive/texmf-dist/tex/latex/graphics/trig.sty)\n",
      "(/usr/share/texlive/texmf-dist/tex/latex/graphics-cfg/graphics.cfg)\n",
      "(/usr/share/texlive/texmf-dist/tex/latex/graphics-def/pdftex.def)))\n",
      "(/usr/share/texlive/texmf-dist/tex/latex/float/float.sty)\n",
      "(/usr/share/texlive/texmf-dist/tex/latex/hyperref/hyperref.sty\n",
      "(/usr/share/texlive/texmf-dist/tex/generic/ltxcmds/ltxcmds.sty)\n",
      "(/usr/share/texlive/texmf-dist/tex/latex/pdftexcmds/pdftexcmds.sty\n",
      "(/usr/share/texlive/texmf-dist/tex/generic/infwarerr/infwarerr.sty))\n",
      "(/usr/share/texlive/texmf-dist/tex/generic/kvsetkeys/kvsetkeys.sty)\n",
      "(/usr/share/texlive/texmf-dist/tex/generic/kvdefinekeys/kvdefinekeys.sty)\n",
      "(/usr/share/texlive/texmf-dist/tex/generic/pdfescape/pdfescape.sty)\n",
      "(/usr/share/texlive/texmf-dist/tex/latex/hycolor/hycolor.sty)\n",
      "(/usr/share/texlive/texmf-dist/tex/latex/letltxmacro/letltxmacro.sty)\n",
      "(/usr/share/texlive/texmf-dist/tex/latex/auxhook/auxhook.sty)\n",
      "(/usr/share/texlive/texmf-dist/tex/latex/kvoptions/kvoptions.sty)\n",
      "(/usr/share/texlive/texmf-dist/tex/latex/hyperref/pd1enc.def)\n",
      "(/usr/share/texlive/texmf-dist/tex/generic/intcalc/intcalc.sty)\n",
      "(/usr/share/texlive/texmf-dist/tex/generic/etexcmds/etexcmds.sty)\n",
      "(/usr/share/texlive/texmf-dist/tex/latex/url/url.sty)\n",
      "(/usr/share/texlive/texmf-dist/tex/generic/bitset/bitset.sty\n",
      "(/usr/share/texlive/texmf-dist/tex/generic/bigintcalc/bigintcalc.sty))\n",
      "(/usr/share/texlive/texmf-dist/tex/generic/atbegshi/atbegshi.sty))\n",
      "(/usr/share/texlive/texmf-dist/tex/latex/hyperref/hpdftex.def\n",
      "(/usr/share/texlive/texmf-dist/tex/latex/atveryend/atveryend.sty)\n",
      "(/usr/share/texlive/texmf-dist/tex/latex/rerunfilecheck/rerunfilecheck.sty\n",
      "(/usr/share/texlive/texmf-dist/tex/generic/uniquecounter/uniquecounter.sty)))\n",
      "(/usr/share/texlive/texmf-dist/tex/latex/l3backend/l3backend-pdfmode.def)\n",
      "(./main.aux\n",
      "\n",
      "LaTeX Warning: Label `sec:TIC363963079' multiply defined.\n",
      "\n",
      ")\n",
      "*geometry* driver: auto-detecting\n",
      "*geometry* detected driver: pdftex\n",
      "(/usr/share/texlive/texmf-dist/tex/context/base/mkii/supp-pdf.mkii\n",
      "[Loading MPS to PDF converter (version 2006.09.02).]\n",
      ") (/usr/share/texlive/texmf-dist/tex/latex/epstopdf-pkg/epstopdf-base.sty\n",
      "(/usr/share/texlive/texmf-dist/tex/latex/latexconfig/epstopdf-sys.cfg))\n",
      "(/usr/share/texlive/texmf-dist/tex/latex/graphics/color.sty\n",
      "(/usr/share/texlive/texmf-dist/tex/latex/graphics-cfg/color.cfg))\n",
      "(/usr/share/texlive/texmf-dist/tex/latex/hyperref/nameref.sty\n",
      "(/usr/share/texlive/texmf-dist/tex/latex/refcount/refcount.sty)\n",
      "(/usr/share/texlive/texmf-dist/tex/generic/gettitlestring/gettitlestring.sty))\n",
      "(./main.out) (./main.out)\n",
      "\n",
      "LaTeX Warning: No \\author given.\n",
      "\n",
      "[1{/var/lib/texmf/fonts/map/pdftex/updmap/pdftex.map}] (./main.toc)pdfTeX warni\n",
      "ng (ext4): destination with the same identifier (name{page.1}) has been already\n",
      " used, duplicate ignored\n",
      "<to be read again> \n",
      "                   \\relax \n",
      "l.20 \\chapter\n",
      "             {Complex Rotators}% [1]\n",
      "Chapter 1.\n",
      "[2] [3 </home/jovyan/SRMP-JMAG/output/TIC 404144841/11_plot.png> </home/jovyan/\n",
      "SRMP-JMAG/output/TIC 404144841/11_river.png> </home/jovyan/SRMP-JMAG/output/TIC\n",
      " 404144841/11_periodogram.png>] [4 </home/jovyan/SRMP-JMAG/output/TIC 404144841\n",
      "/37_plot.png> </home/jovyan/SRMP-JMAG/output/TIC 404144841/37_river.png> </home\n",
      "/jovyan/SRMP-JMAG/output/TIC 404144841/37_periodogram.png>] [5 </home/jovyan/SR\n",
      "MP-JMAG/output/TIC 404144841/38_plot.png> </home/jovyan/SRMP-JMAG/output/TIC 40\n",
      "4144841/38_river.png> </home/jovyan/SRMP-JMAG/output/TIC 404144841/38_periodogr\n",
      "am.png>] [6 </home/jovyan/SRMP-JMAG/output/TIC 404144841/64_plot.png> </home/jo\n",
      "vyan/SRMP-JMAG/output/TIC 404144841/64_river.png> </home/jovyan/SRMP-JMAG/outpu\n",
      "t/TIC 404144841/64_periodogram.png>] [7 </home/jovyan/SRMP-JMAG/output/TIC 3639\n",
      "63079/8_plot.png> </home/jovyan/SRMP-JMAG/output/TIC 363963079/8_river.png> </h\n",
      "ome/jovyan/SRMP-JMAG/output/TIC 363963079/8_periodogram.png>] [8 </home/jovyan/\n",
      "SRMP-JMAG/output/TIC 363963079/7_plot.png> </home/jovyan/SRMP-JMAG/output/TIC 3\n",
      "63963079/7_river.png> </home/jovyan/SRMP-JMAG/output/TIC 363963079/7_periodogra\n",
      "m.png>] [9 </home/jovyan/SRMP-JMAG/output/TIC 363963079/33_plot.png> </home/jov\n",
      "yan/SRMP-JMAG/output/TIC 363963079/33_river.png> </home/jovyan/SRMP-JMAG/output\n",
      "/TIC 363963079/33_periodogram.png>] [10 </home/jovyan/SRMP-JMAG/output/TIC 3639\n",
      "63079/34_plot.png> </home/jovyan/SRMP-JMAG/output/TIC 363963079/34_river.png> <\n",
      "/home/jovyan/SRMP-JMAG/output/TIC 363963079/34_periodogram.png>] [11 </home/jov\n",
      "yan/SRMP-JMAG/output/TIC 363963079/35_plot.png> </home/jovyan/SRMP-JMAG/output/\n",
      "TIC 363963079/35_river.png> </home/jovyan/SRMP-JMAG/output/TIC 363963079/35_per\n",
      "iodogram.png>] [12 </home/jovyan/SRMP-JMAG/output/TIC 363963079/61_plot.png> </\n",
      "home/jovyan/SRMP-JMAG/output/TIC 363963079/61_river.png> </home/jovyan/SRMP-JMA\n",
      "G/output/TIC 363963079/61_periodogram.png>] [13 </home/jovyan/SRMP-JMAG/output/\n",
      "TIC 206544316/1_plot.png> </home/jovyan/SRMP-JMAG/output/TIC 206544316/1_river.\n",
      "png> </home/jovyan/SRMP-JMAG/output/TIC 206544316/1_periodogram.png>] [14 </hom\n",
      "e/jovyan/SRMP-JMAG/output/TIC 206544316/2_plot.png> </home/jovyan/SRMP-JMAG/out\n",
      "put/TIC 206544316/2_river.png> </home/jovyan/SRMP-JMAG/output/TIC 206544316/2_p\n",
      "eriodogram.png>] [15 </home/jovyan/SRMP-JMAG/output/TIC 206544316/28_plot.png> \n",
      "</home/jovyan/SRMP-JMAG/output/TIC 206544316/28_river.png> </home/jovyan/SRMP-J\n",
      "MAG/output/TIC 206544316/28_periodogram.png>] [16 </home/jovyan/SRMP-JMAG/outpu\n",
      "t/TIC 206544316/29_plot.png> </home/jovyan/SRMP-JMAG/output/TIC 206544316/29_ri\n",
      "ver.png> </home/jovyan/SRMP-JMAG/output/TIC 206544316/29_periodogram.png>]\n",
      "[17 </home/jovyan/SRMP-JMAG/output/TIC 206544316/68_plot.png> </home/jovyan/SRM\n",
      "P-JMAG/output/TIC 206544316/68_river.png> </home/jovyan/SRMP-JMAG/output/TIC 20\n",
      "6544316/68_periodogram.png>] [18 </home/jovyan/SRMP-JMAG/output/TIC 206544316/6\n",
      "9_plot.png> </home/jovyan/SRMP-JMAG/output/TIC 206544316/69_river.png> </home/j\n",
      "ovyan/SRMP-JMAG/output/TIC 206544316/69_periodogram.png>]\n",
      "Chapter 2.\n",
      "[19] \n",
      "AED: lastpage setting LastPage\n",
      "[20 </home/jovyan/SRMP-JMAG/output/TIC 363963079/62_plot.png> </home/jovyan/SRM\n",
      "P-JMAG/output/TIC 363963079/62_river.png> </home/jovyan/SRMP-JMAG/output/TIC 36\n",
      "3963079/62_periodogram.png>] (./main.aux)\n",
      "\n",
      "LaTeX Warning: There were multiply-defined labels.\n",
      "\n",
      " )\n",
      "(see the transcript file for additional information){/usr/share/texmf/fonts/enc\n",
      "/dvips/cm-super/cm-super-t1.enc}</usr/share/texmf/fonts/type1/public/cm-super/s\n",
      "fbx1000.pfb></usr/share/texmf/fonts/type1/public/cm-super/sfbx1200.pfb></usr/sh\n",
      "are/texmf/fonts/type1/public/cm-super/sfbx1440.pfb></usr/share/texmf/fonts/type\n",
      "1/public/cm-super/sfbx2074.pfb></usr/share/texmf/fonts/type1/public/cm-super/sf\n",
      "bx2488.pfb></usr/share/texmf/fonts/type1/public/cm-super/sfrm1000.pfb></usr/sha\n",
      "re/texmf/fonts/type1/public/cm-super/sfrm1200.pfb></usr/share/texmf/fonts/type1\n",
      "/public/cm-super/sfrm1728.pfb>\n",
      "Output written on main.pdf (21 pages, 2412170 bytes).\n",
      "Transcript written on main.log.\n"
     ]
    }
   ],
   "source": [
    "def make_chapter(title, data, doc):\n",
    "    with doc.create(Chapter(title)):\n",
    "        for tic in data.keys():\n",
    "            doc.append(NoEscape(r'\\newpage'))\n",
    "            with doc.create(Section(f\"{tic}\")):\n",
    "                for i, sector in enumerate(data[tic]):\n",
    "                    if i > 0:\n",
    "                        doc.append(NoEscape(r'\\newpage'))\n",
    "                    with doc.create(Subsection(f\"Sector {sector}\", label=f\"{tic}_{sector}\")):\n",
    "                        lc = load_lc(f\"{tic}\", sector)\n",
    "\n",
    "                        failed = []\n",
    "                        for plot_type in [\"plot\", \"river\", \"periodogram\"]:\n",
    "                            if not os.path.exists(f\"{OUTPUT_PATH}/{tic}/{sector}_{plot_type}.png\"):\n",
    "                                failed.append(plot_type)\n",
    "                                continue\n",
    "                            with doc.create(Figure(position=\"H\")) as plot:\n",
    "                                doc.append(NoEscape(r'\\begin{center}'))\n",
    "                                plot.add_image(f\"{OUTPUT_PATH}/{tic}/{sector}_{plot_type}.png\", width=NoEscape(r'0.5\\textwidth'))\n",
    "                                doc.append(NoEscape(r'\\end{center}'))\n",
    "\n",
    "                        if failed != []:\n",
    "                            doc.append(\"Failed to generate \" + \", \".join(failed) + f\" for {tic}.\")\n",
    "\n",
    "def make_pdf_report():\n",
    "    try:\n",
    "        shutil.rmtree(\"./build\")\n",
    "    except:\n",
    "        pass\n",
    "    os.mkdir(\"./build\")\n",
    "\n",
    "    doc = Document(documentclass=\"report\", lmodern=False, geometry_options={\"margin\": \"0.5in\", \"top\": \"0.5in\", \"bottom\": \"0.5in\"})\n",
    "\n",
    "    doc.preamble.append(Command(\"title\", \"JMAG Complex Rotator Pipeline Results\"))\n",
    "    doc.preamble.append(Command(\"date\", f\"Generated on {datetime.now().strftime('%x %X')}\"))\n",
    "    doc.preamble.append(NoEscape(r'\\usepackage{float}'))\n",
    "    doc.preamble.append(NoEscape(r'\\usepackage{hyperref}'))\n",
    "    doc.preamble.append(NoEscape(r'\\hypersetup{colorlinks=true}'))\n",
    "\n",
    "\n",
    "    doc.append(NoEscape(r'\\maketitle'))\n",
    "    doc.append(NoEscape(r'\\tableofcontents'))\n",
    "    \n",
    "    make_chapter(\"Complex Rotators\", complex, doc)\n",
    "    make_chapter(\"Non-Complex Rotators\", not_complex, doc)\n",
    "    doc.generate_tex(\"./build/main\")\n",
    "    \n",
    "    os.system(\"cd build && pdflatex -interaction=nonstopmode main.tex && pdflatex -interaction=nonstopmode main.tex\")\n",
    "    \n",
    "make_pdf_report()"
   ]
  },
  {
   "cell_type": "code",
   "execution_count": 13,
   "id": "4a2fb1e9-b57e-4de3-83fd-6587f772ce34",
   "metadata": {},
   "outputs": [],
   "source": [
    "lc = load_lc(\"TIC 224283342\", 29)"
   ]
  },
  {
   "cell_type": "code",
   "execution_count": 14,
   "id": "690072e0-d154-4f64-95a0-9ac71550e338",
   "metadata": {},
   "outputs": [
    {
     "data": {
      "text/latex": [
       "$0.89048408 \\; \\mathrm{d}$"
      ],
      "text/plain": [
       "<Quantity 0.89048408 d>"
      ]
     },
     "execution_count": 14,
     "metadata": {},
     "output_type": "execute_result"
    }
   ],
   "source": [
    "lc.to_periodogram().period_at_max_power"
   ]
  },
  {
   "cell_type": "code",
   "execution_count": 23,
   "id": "46a7c85a-d99b-403d-b48c-8b80405c5e36",
   "metadata": {
    "editable": true,
    "slideshow": {
     "slide_type": ""
    },
    "tags": []
   },
   "outputs": [
    {
     "data": {
      "text/plain": [
       "<Axes: title={'center': 'TIC 224283342'}, xlabel='Phase', ylabel='Cycle'>"
      ]
     },
     "execution_count": 23,
     "metadata": {},
     "output_type": "execute_result"
    },
    {
     "data": {
      "image/png": "[encoded data removed]",
      "text/plain": [
       "<Figure size 1200x300 with 2 Axes>"
      ]
     },
     "metadata": {},
     "output_type": "display_data"
    }
   ],
   "source": [
    "lc.fold(period=0.887).plot_river()"
   ]
  },
  {
   "cell_type": "code",
   "execution_count": 29,
   "id": "c07eae61-e68b-487e-b58e-d4a8fcea8bc7",
   "metadata": {},
   "outputs": [
    {
     "data": {
      "text/plain": [
       "<Axes: xlabel='Phase [JD]', ylabel='Flux'>"
      ]
     },
     "execution_count": 29,
     "metadata": {},
     "output_type": "execute_result"
    },
    {
     "data": {
      "image/png": "[encoded data removed]",
      "text/plain": [
       "<Figure size 848.5x400 with 1 Axes>"
      ]
     },
     "metadata": {},
     "output_type": "display_data"
    }
   ],
   "source": [
    "period = 0.887\n",
    "lc.fold(period=period, epoch_time=0.7).scatter()"
   ]
  }
 ],
 "metadata": {
  "kernelspec": {
   "display_name": "TESS Environment",
   "language": "python",
   "name": "tess"
  },
  "language_info": {
   "codemirror_mode": {
    "name": "ipython",
    "version": 3
   },
   "file_extension": ".py",
   "mimetype": "text/x-python",
   "name": "python",
   "nbconvert_exporter": "python",
   "pygments_lexer": "ipython3",
   "version": "3.11.9"
  }
 },
 "nbformat": 4,
 "nbformat_minor": 5
}
