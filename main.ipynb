{
 "cells": [
  {
   "cell_type": "code",
   "execution_count": 9,
   "id": "4ec60d75-37e2-45e0-962a-f43d25c14a5a",
   "metadata": {},
   "outputs": [
    {
     "name": "stdout",
     "output_type": "stream",
     "text": [
      "Requirement already satisfied: pylatex in /opt/conda/envs/tess/lib/python3.11/site-packages (1.4.2)\n",
      "Requirement already satisfied: ordered-set in /opt/conda/envs/tess/lib/python3.11/site-packages (from pylatex) (4.1.0)\n"
     ]
    }
   ],
   "source": [
    "!pip install pylatex"
   ]
  },
  {
   "cell_type": "code",
   "execution_count": 1,
   "id": "c28b65c7-e91e-4ae3-884c-c853ebf44cfd",
   "metadata": {},
   "outputs": [
    {
     "ename": "ModuleNotFoundError",
     "evalue": "No module named 'pylatex'",
     "output_type": "error",
     "traceback": [
      "\u001b[0;31m---------------------------------------------------------------------------\u001b[0m",
      "\u001b[0;31mModuleNotFoundError\u001b[0m                       Traceback (most recent call last)",
      "Cell \u001b[0;32mIn[1], line 4\u001b[0m\n\u001b[1;32m      2\u001b[0m \u001b[38;5;28;01mimport\u001b[39;00m \u001b[38;5;21;01muuid\u001b[39;00m\n\u001b[1;32m      3\u001b[0m \u001b[38;5;28;01mimport\u001b[39;00m \u001b[38;5;21;01mshutil\u001b[39;00m\n\u001b[0;32m----> 4\u001b[0m \u001b[38;5;28;01mimport\u001b[39;00m \u001b[38;5;21;01mpylatex\u001b[39;00m\n\u001b[1;32m      5\u001b[0m \u001b[38;5;28;01mimport\u001b[39;00m \u001b[38;5;21;01mpandas\u001b[39;00m \u001b[38;5;28;01mas\u001b[39;00m \u001b[38;5;21;01mpd\u001b[39;00m\n\u001b[1;32m      6\u001b[0m \u001b[38;5;28;01mimport\u001b[39;00m \u001b[38;5;21;01mlightkurve\u001b[39;00m \u001b[38;5;28;01mas\u001b[39;00m \u001b[38;5;21;01mlk\u001b[39;00m \n",
      "\u001b[0;31mModuleNotFoundError\u001b[0m: No module named 'pylatex'"
     ]
    }
   ],
   "source": [
    "import os\n",
    "import uuid\n",
    "import shutil\n",
    "import pylatex\n",
    "import pandas as pd\n",
    "import lightkurve as lk \n",
    "import matplotlib.pyplot as plt\n",
    "\n",
    "from datetime import datetime\n",
    "from tqdm.notebook import tqdm\n",
    "from multiprocessing import cpu_count, Pool\n",
    "from pylatex.section import Chapter, Subsection\n",
    "from pylatex import Document, Section, Figure, NoEscape, Command\n",
    "\n",
    "plt.ioff()\n",
    "%run pipeline.ipynb\n",
    "\n",
    "OUTPUT_PATH = \"/home/jovyan/SRMP-JMAG/output\""
   ]
  },
  {
   "cell_type": "code",
   "execution_count": 16,
   "id": "b24f8ac4-c12d-41ba-a0cc-04425c82877c",
   "metadata": {},
   "outputs": [
    {
     "data": {
      "application/vnd.jupyter.widget-view+json": {
       "model_id": "a6fff868cfe8412ba716c9aeca7c1ff3",
       "version_major": 2,
       "version_minor": 0
      },
      "text/plain": [
       "  0%|          | 0/67 [00:00<?, ?it/s]"
      ]
     },
     "metadata": {},
     "output_type": "display_data"
    }
   ],
   "source": [
    "def get_sectors(tic):\n",
    "    \"\"\"Returns a list of available sectors given an TIC.\"\"\"\n",
    "    sectors = []\n",
    "    for result in lk.search_tesscut(str(tic)):\n",
    "        sectors.append(int(result.mission[0].split(\" \")[2]))\n",
    "        \n",
    "    return {\"tic\": tic, \"sectors\": sectors}\n",
    "\n",
    "def get_targets(tics):\n",
    "    \"\"\"Constructs a dictionary of TICs and available sectors from a list of TICs\"\"\"\n",
    "    targets = []\n",
    "\n",
    "    with tqdm(total=len(tics)) as pbar:\n",
    "        for tic in tics:\n",
    "            targets.append(get_sectors(tic))\n",
    "            pbar.update()\n",
    "    return targets\n",
    "                \n",
    "targets = get_targets(list(pd.read_csv(\"./mast_results.csv\")[\"TIC\"]))\n"
   ]
  },
  {
   "cell_type": "code",
   "execution_count": 18,
   "id": "6449cd17-0f26-4efb-a605-c3ab79353c97",
   "metadata": {},
   "outputs": [],
   "source": [
    "import json\n",
    "with open(\"./output/targets.json\", \"w+\") as f:\n",
    "    f.write(json.dumps(targets))"
   ]
  },
  {
   "cell_type": "code",
   "execution_count": 46,
   "id": "d3b68364-4483-40ee-a321-92f9cfb973f0",
   "metadata": {},
   "outputs": [
    {
     "data": {
      "application/vnd.jupyter.widget-view+json": {
       "model_id": "a5b81fc6a37842eb93f3f6aaa1c84a2b",
       "version_major": 2,
       "version_minor": 0
      },
      "text/plain": [
       "  0%|          | 0/40 [00:00<?, ?it/s]"
      ]
     },
     "metadata": {},
     "output_type": "display_data"
    },
    {
     "data": {
      "application/vnd.jupyter.widget-view+json": {
       "model_id": "",
       "version_major": 2,
       "version_minor": 0
      },
      "text/plain": [
       "TIC 33736757:   0%|          | 0/35 [00:00<?, ?it/s]"
      ]
     },
     "metadata": {},
     "output_type": "display_data"
    },
    {
     "data": {
      "application/vnd.jupyter.widget-view+json": {
       "model_id": "",
       "version_major": 2,
       "version_minor": 0
      },
      "text/plain": [
       "TIC 33736757:   0%|          | 0/34 [00:00<?, ?it/s]"
      ]
     },
     "metadata": {},
     "output_type": "display_data"
    },
    {
     "data": {
      "application/vnd.jupyter.widget-view+json": {
       "model_id": "",
       "version_major": 2,
       "version_minor": 0
      },
      "text/plain": [
       "TIC 33736757:   0%|          | 0/34 [00:00<?, ?it/s]"
      ]
     },
     "metadata": {},
     "output_type": "display_data"
    },
    {
     "name": "stderr",
     "output_type": "stream",
     "text": [
      "/opt/conda/envs/tess/lib/python3.11/site-packages/astropy/units/quantity.py:666: RuntimeWarning: invalid value encountered in sqrt\n",
      "  result = super().__array_ufunc__(function, method, *arrays, **kwargs)\n"
     ]
    },
    {
     "data": {
      "application/vnd.jupyter.widget-view+json": {
       "model_id": "",
       "version_major": 2,
       "version_minor": 0
      },
      "text/plain": [
       "TIC 33736757:   0%|          | 0/6 [00:00<?, ?it/s]"
      ]
     },
     "metadata": {},
     "output_type": "display_data"
    },
    {
     "data": {
      "application/vnd.jupyter.widget-view+json": {
       "model_id": "",
       "version_major": 2,
       "version_minor": 0
      },
      "text/plain": [
       "TIC 33736757:   0%|          | 0/12 [00:00<?, ?it/s]"
      ]
     },
     "metadata": {},
     "output_type": "display_data"
    },
    {
     "name": "stderr",
     "output_type": "stream",
     "text": [
      "/opt/conda/envs/tess/lib/python3.11/site-packages/lightkurve/lightcurve.py:2776: UserWarning: Attempting to set identical low and high ylims makes transformation singular; automatically expanding.\n",
      "  ax.set_ylim(cyc.max(), 0)\n",
      "/opt/conda/envs/tess/lib/python3.11/site-packages/lightkurve/lightcurve.py:2780: RuntimeWarning: invalid value encountered in scalar divide\n",
      "  ax.set_aspect(a / b)\n"
     ]
    },
    {
     "name": "stdout",
     "output_type": "stream",
     "text": [
      "Failed to generate one or more plots for TIC 33736757:61\n"
     ]
    },
    {
     "data": {
      "application/vnd.jupyter.widget-view+json": {
       "model_id": "",
       "version_major": 2,
       "version_minor": 0
      },
      "text/plain": [
       "TIC 33736757:   0%|          | 0/27 [00:00<?, ?it/s]"
      ]
     },
     "metadata": {},
     "output_type": "display_data"
    },
    {
     "name": "stdout",
     "output_type": "stream",
     "text": [
      "Downloading TIC 261417900:68\n",
      "Downloading URL https://mast.stsci.edu/tesscut/api/v0.1/astrocut?ra=95.2094820671149&dec=-79.0887753287733&y=50&x=50&units=px&sector=68 to ./data/tesscut_20240513150934.zip ... [Done]\n",
      "Inflating...\n",
      "Removing 107 bad data points (out of 11639) using the TESS provided QUALITY array\n",
      "Summing over 1 x 1 pixel lightcurves. Weighting=None\n",
      "Downloading TIC 261417900:67\n",
      "Downloading URL https://mast.stsci.edu/tesscut/api/v0.1/astrocut?ra=95.2094820671149&dec=-79.0887753287733&y=50&x=50&units=px&sector=67 to ./data/tesscut_20240513151012.zip ... [Done]\n",
      "Inflating...\n",
      "Removing 229 bad data points (out of 11719) using the TESS provided QUALITY array\n",
      "Summing over 1 x 1 pixel lightcurves. Weighting=None\n",
      "Downloading TIC 261417900:61\n",
      "Downloading URL https://mast.stsci.edu/tesscut/api/v0.1/astrocut?ra=95.2094820671149&dec=-79.0887753287733&y=50&x=50&units=px&sector=61 to ./data/tesscut_20240513151106.zip ... [Done]\n",
      "Inflating...\n",
      "Removing 60 bad data points (out of 10713) using the TESS provided QUALITY array\n",
      "Summing over 1 x 1 pixel lightcurves. Weighting=None\n",
      "Downloading TIC 261417900:65\n",
      "Downloading URL https://mast.stsci.edu/tesscut/api/v0.1/astrocut?ra=95.2094820671149&dec=-79.0887753287733&y=50&x=50&units=px&sector=65 to ./data/tesscut_20240513151142.zip ... [Done]\n",
      "Inflating...\n",
      "Removing 96 bad data points (out of 11759) using the TESS provided QUALITY array\n",
      "Summing over 1 x 1 pixel lightcurves. Weighting=None\n",
      "Downloading TIC 261417900:66\n",
      "Downloading URL https://mast.stsci.edu/tesscut/api/v0.1/astrocut?ra=95.2094820671149&dec=-79.0887753287733&y=50&x=50&units=px&sector=66 to ./data/tesscut_20240513151254.zip ... [Done]\n",
      "Inflating...\n",
      "Removing 1013 bad data points (out of 12154) using the TESS provided QUALITY array\n",
      "Summing over 1 x 1 pixel lightcurves. Weighting=None\n",
      "Downloading TIC 261417900:62\n",
      "Downloading URL https://mast.stsci.edu/tesscut/api/v0.1/astrocut?ra=95.2094820671149&dec=-79.0887753287733&y=50&x=50&units=px&sector=62 to ./data/tesscut_20240513151337.zip ... [Done]\n",
      "Inflating...\n",
      "Removing 26 bad data points (out of 10837) using the TESS provided QUALITY array\n",
      "Summing over 1 x 1 pixel lightcurves. Weighting=None\n"
     ]
    },
    {
     "name": "stderr",
     "output_type": "stream",
     "text": [
      "/opt/conda/envs/tess/lib/python3.11/site-packages/astropy/units/quantity.py:666: RuntimeWarning: invalid value encountered in sqrt\n",
      "  result = super().__array_ufunc__(function, method, *arrays, **kwargs)\n"
     ]
    },
    {
     "name": "stdout",
     "output_type": "stream",
     "text": [
      "Downloading TIC 261417900:63\n",
      "Downloading URL https://mast.stsci.edu/tesscut/api/v0.1/astrocut?ra=95.2094820671149&dec=-79.0887753287733&y=50&x=50&units=px&sector=63 to ./data/tesscut_20240513151415.zip ... [Done]\n",
      "Inflating...\n",
      "Removing 248 bad data points (out of 11190) using the TESS provided QUALITY array\n",
      "Summing over 1 x 1 pixel lightcurves. Weighting=None\n",
      "Downloading TIC 261417900:64\n",
      "Downloading URL https://mast.stsci.edu/tesscut/api/v0.1/astrocut?ra=95.2094820671149&dec=-79.0887753287733&y=50&x=50&units=px&sector=64 to ./data/tesscut_20240513151454.zip ... [Done]\n",
      "Inflating...\n",
      "Removing 80 bad data points (out of 11356) using the TESS provided QUALITY array\n",
      "Summing over 1 x 1 pixel lightcurves. Weighting=None\n"
     ]
    },
    {
     "data": {
      "application/vnd.jupyter.widget-view+json": {
       "model_id": "",
       "version_major": 2,
       "version_minor": 0
      },
      "text/plain": [
       "TIC 33736757:   0%|          | 0/26 [00:00<?, ?it/s]"
      ]
     },
     "metadata": {},
     "output_type": "display_data"
    },
    {
     "name": "stdout",
     "output_type": "stream",
     "text": [
      "Downloading TIC 260607779:68\n",
      "Downloading URL https://mast.stsci.edu/tesscut/api/v0.1/astrocut?ra=97.6028028552187&dec=-54.5464291240162&y=50&x=50&units=px&sector=68 to ./data/tesscut_20240513151533.zip ... [Done]\n",
      "Inflating...\n",
      "Removing 107 bad data points (out of 11639) using the TESS provided QUALITY array\n",
      "Summing over 1 x 1 pixel lightcurves. Weighting=None\n",
      "Downloading TIC 260607779:61\n",
      "Downloading URL https://mast.stsci.edu/tesscut/api/v0.1/astrocut?ra=97.6028028552187&dec=-54.5464291240162&y=50&x=50&units=px&sector=61 to ./data/tesscut_20240513151633.zip ... [Done]\n",
      "Inflating...\n",
      "Removing 59 bad data points (out of 10713) using the TESS provided QUALITY array\n",
      "Summing over 1 x 1 pixel lightcurves. Weighting=None\n",
      "Downloading TIC 260607779:65\n",
      "Downloading URL https://mast.stsci.edu/tesscut/api/v0.1/astrocut?ra=97.6028028552187&dec=-54.5464291240162&y=50&x=50&units=px&sector=65 to ./data/tesscut_20240513151711.zip ... [Done]\n",
      "Inflating...\n",
      "Removing 96 bad data points (out of 11758) using the TESS provided QUALITY array\n",
      "Summing over 1 x 1 pixel lightcurves. Weighting=None\n",
      "Downloading TIC 260607779:66\n",
      "Downloading URL https://mast.stsci.edu/tesscut/api/v0.1/astrocut?ra=97.6028028552187&dec=-54.5464291240162&y=50&x=50&units=px&sector=66 to ./data/tesscut_20240513151752.zip ... [Done]\n",
      "Inflating...\n",
      "Removing 1013 bad data points (out of 12154) using the TESS provided QUALITY array\n",
      "Summing over 1 x 1 pixel lightcurves. Weighting=None\n",
      "Downloading TIC 260607779:67\n",
      "Downloading URL https://mast.stsci.edu/tesscut/api/v0.1/astrocut?ra=97.6028028552187&dec=-54.5464291240162&y=50&x=50&units=px&sector=67 to ./data/tesscut_20240513151848.zip ... [Done]\n",
      "Inflating...\n",
      "Removing 229 bad data points (out of 11719) using the TESS provided QUALITY array\n",
      "Summing over 1 x 1 pixel lightcurves. Weighting=None\n",
      "Downloading TIC 260607779:69\n",
      "Downloading URL https://mast.stsci.edu/tesscut/api/v0.1/astrocut?ra=97.6028028552187&dec=-54.5464291240162&y=50&x=50&units=px&sector=69 to ./data/tesscut_20240513151938.zip ... [Done]\n",
      "Inflating...\n",
      "Removing 1001 bad data points (out of 10856) using the TESS provided QUALITY array\n",
      "Summing over 1 x 1 pixel lightcurves. Weighting=None\n"
     ]
    },
    {
     "name": "stderr",
     "output_type": "stream",
     "text": [
      "/opt/conda/envs/tess/lib/python3.11/site-packages/astropy/units/quantity.py:666: RuntimeWarning: invalid value encountered in sqrt\n",
      "  result = super().__array_ufunc__(function, method, *arrays, **kwargs)\n"
     ]
    },
    {
     "name": "stdout",
     "output_type": "stream",
     "text": [
      "Downloading TIC 260607779:62\n",
      "Downloading URL https://mast.stsci.edu/tesscut/api/v0.1/astrocut?ra=97.6028028552187&dec=-54.5464291240162&y=50&x=50&units=px&sector=62 to ./data/tesscut_20240513152012.zip ... [Done]\n",
      "Inflating...\n",
      "Removing 26 bad data points (out of 10837) using the TESS provided QUALITY array\n",
      "Summing over 1 x 1 pixel lightcurves. Weighting=None\n"
     ]
    },
    {
     "data": {
      "application/vnd.jupyter.widget-view+json": {
       "model_id": "",
       "version_major": 2,
       "version_minor": 0
      },
      "text/plain": [
       "TIC 33736757:   0%|          | 0/4 [00:00<?, ?it/s]"
      ]
     },
     "metadata": {},
     "output_type": "display_data"
    },
    {
     "data": {
      "application/vnd.jupyter.widget-view+json": {
       "model_id": "",
       "version_major": 2,
       "version_minor": 0
      },
      "text/plain": [
       "TIC 33736757:   0%|          | 0/6 [00:00<?, ?it/s]"
      ]
     },
     "metadata": {},
     "output_type": "display_data"
    },
    {
     "name": "stderr",
     "output_type": "stream",
     "text": [
      "/opt/conda/envs/tess/lib/python3.11/site-packages/astropy/units/quantity.py:666: RuntimeWarning: invalid value encountered in sqrt\n",
      "  result = super().__array_ufunc__(function, method, *arrays, **kwargs)\n"
     ]
    },
    {
     "data": {
      "application/vnd.jupyter.widget-view+json": {
       "model_id": "",
       "version_major": 2,
       "version_minor": 0
      },
      "text/plain": [
       "TIC 33736757:   0%|          | 0/6 [00:00<?, ?it/s]"
      ]
     },
     "metadata": {},
     "output_type": "display_data"
    },
    {
     "data": {
      "application/vnd.jupyter.widget-view+json": {
       "model_id": "",
       "version_major": 2,
       "version_minor": 0
      },
      "text/plain": [
       "TIC 33736757:   0%|          | 0/6 [00:00<?, ?it/s]"
      ]
     },
     "metadata": {},
     "output_type": "display_data"
    },
    {
     "name": "stdout",
     "output_type": "stream",
     "text": [
      "Downloading TIC 231907750:68\n",
      "Downloading URL https://mast.stsci.edu/tesscut/api/v0.1/astrocut?ra=6.27468532070907&dec=-62.6186353779855&y=50&x=50&units=px&sector=68 to ./data/tesscut_20240513152059.zip ... [Done]\n",
      "Inflating...\n",
      "Removing 421 bad data points (out of 11639) using the TESS provided QUALITY array\n",
      "Summing over 1 x 1 pixel lightcurves. Weighting=None\n",
      "Downloading TIC 231907750:69\n",
      "Downloading URL https://mast.stsci.edu/tesscut/api/v0.1/astrocut?ra=6.27468532070907&dec=-62.6186353779855&y=50&x=50&units=px&sector=69 to ./data/tesscut_20240513152135.zip ... [Done]\n",
      "Inflating...\n",
      "Removing 1425 bad data points (out of 10856) using the TESS provided QUALITY array\n",
      "Summing over 1 x 1 pixel lightcurves. Weighting=None\n"
     ]
    },
    {
     "data": {
      "application/vnd.jupyter.widget-view+json": {
       "model_id": "",
       "version_major": 2,
       "version_minor": 0
      },
      "text/plain": [
       "TIC 33736757:   0%|          | 0/3 [00:00<?, ?it/s]"
      ]
     },
     "metadata": {},
     "output_type": "display_data"
    },
    {
     "name": "stdout",
     "output_type": "stream",
     "text": [
      "Downloading TIC 231494945:61\n",
      "Downloading URL https://mast.stsci.edu/tesscut/api/v0.1/astrocut?ra=109.328292650827&dec=-35.7183101747328&y=50&x=50&units=px&sector=61 to ./data/tesscut_20240513152207.zip ... [Done]\n",
      "Inflating...\n",
      "Removing 59 bad data points (out of 10713) using the TESS provided QUALITY array\n",
      "Summing over 1 x 1 pixel lightcurves. Weighting=None\n"
     ]
    },
    {
     "data": {
      "application/vnd.jupyter.widget-view+json": {
       "model_id": "",
       "version_major": 2,
       "version_minor": 0
      },
      "text/plain": [
       "TIC 33736757:   0%|          | 0/6 [00:00<?, ?it/s]"
      ]
     },
     "metadata": {},
     "output_type": "display_data"
    },
    {
     "data": {
      "application/vnd.jupyter.widget-view+json": {
       "model_id": "",
       "version_major": 2,
       "version_minor": 0
      },
      "text/plain": [
       "TIC 33736757:   0%|          | 0/5 [00:00<?, ?it/s]"
      ]
     },
     "metadata": {},
     "output_type": "display_data"
    },
    {
     "data": {
      "application/vnd.jupyter.widget-view+json": {
       "model_id": "",
       "version_major": 2,
       "version_minor": 0
      },
      "text/plain": [
       "TIC 33736757:   0%|          | 0/21 [00:00<?, ?it/s]"
      ]
     },
     "metadata": {},
     "output_type": "display_data"
    },
    {
     "name": "stdout",
     "output_type": "stream",
     "text": [
      "Downloading TIC 219212901:68\n",
      "Downloading URL https://mast.stsci.edu/tesscut/api/v0.1/astrocut?ra=93.4089463884483&dec=-53.3919601757599&y=50&x=50&units=px&sector=68 to ./data/tesscut_20240513152252.zip ... [Done]\n",
      "Inflating...\n",
      "Removing 107 bad data points (out of 11639) using the TESS provided QUALITY array\n",
      "Summing over 1 x 1 pixel lightcurves. Weighting=None\n",
      "Downloading TIC 219212901:61\n",
      "Downloading URL https://mast.stsci.edu/tesscut/api/v0.1/astrocut?ra=93.4089463884483&dec=-53.3919601757599&y=50&x=50&units=px&sector=61 to ./data/tesscut_20240513152331.zip ... [Done]\n",
      "Inflating...\n",
      "Removing 59 bad data points (out of 10713) using the TESS provided QUALITY array\n",
      "Summing over 1 x 1 pixel lightcurves. Weighting=None\n",
      "Downloading TIC 219212901:65\n",
      "Downloading URL https://mast.stsci.edu/tesscut/api/v0.1/astrocut?ra=93.4089463884483&dec=-53.3919601757599&y=50&x=50&units=px&sector=65 to ./data/tesscut_20240513152422.zip ... [Done]\n",
      "Inflating...\n",
      "Removing 96 bad data points (out of 11758) using the TESS provided QUALITY array\n",
      "Summing over 1 x 1 pixel lightcurves. Weighting=None\n",
      "Downloading TIC 219212901:66\n",
      "Downloading URL https://mast.stsci.edu/tesscut/api/v0.1/astrocut?ra=93.4089463884483&dec=-53.3919601757599&y=50&x=50&units=px&sector=66 to ./data/tesscut_20240513152511.zip ... [Done]\n",
      "Inflating...\n",
      "Removing 1013 bad data points (out of 12154) using the TESS provided QUALITY array\n",
      "Summing over 1 x 1 pixel lightcurves. Weighting=None\n",
      "Downloading TIC 219212901:67\n",
      "Downloading URL https://mast.stsci.edu/tesscut/api/v0.1/astrocut?ra=93.4089463884483&dec=-53.3919601757599&y=50&x=50&units=px&sector=67 to ./data/tesscut_20240513152559.zip ... [Done]\n",
      "Inflating...\n",
      "Removing 229 bad data points (out of 11719) using the TESS provided QUALITY array\n",
      "Summing over 1 x 1 pixel lightcurves. Weighting=None\n",
      "Downloading TIC 219212901:69\n",
      "Downloading URL https://mast.stsci.edu/tesscut/api/v0.1/astrocut?ra=93.4089463884483&dec=-53.3919601757599&y=50&x=50&units=px&sector=69 to ./data/tesscut_20240513152638.zip ... [Done]\n",
      "Inflating...\n",
      "Removing 1001 bad data points (out of 10856) using the TESS provided QUALITY array\n",
      "Summing over 1 x 1 pixel lightcurves. Weighting=None\n"
     ]
    },
    {
     "name": "stderr",
     "output_type": "stream",
     "text": [
      "/opt/conda/envs/tess/lib/python3.11/site-packages/astropy/units/quantity.py:666: RuntimeWarning: invalid value encountered in sqrt\n",
      "  result = super().__array_ufunc__(function, method, *arrays, **kwargs)\n"
     ]
    },
    {
     "data": {
      "application/vnd.jupyter.widget-view+json": {
       "model_id": "",
       "version_major": 2,
       "version_minor": 0
      },
      "text/plain": [
       "TIC 33736757:   0%|          | 0/8 [00:00<?, ?it/s]"
      ]
     },
     "metadata": {},
     "output_type": "display_data"
    },
    {
     "name": "stdout",
     "output_type": "stream",
     "text": [
      "Downloading TIC 219167848:68\n",
      "Downloading URL https://mast.stsci.edu/tesscut/api/v0.1/astrocut?ra=90.8976984995493&dec=-49.1904465566075&y=50&x=50&units=px&sector=68 to ./data/tesscut_20240513152715.zip ... [Done]\n",
      "Inflating...\n",
      "Removing 107 bad data points (out of 11639) using the TESS provided QUALITY array\n",
      "Summing over 1 x 1 pixel lightcurves. Weighting=None\n",
      "Downloading TIC 219167848:61\n",
      "Downloading URL https://mast.stsci.edu/tesscut/api/v0.1/astrocut?ra=90.8976984995493&dec=-49.1904465566075&y=50&x=50&units=px&sector=61 to ./data/tesscut_20240513152754.zip ... [Done]\n",
      "Inflating...\n",
      "Removing 59 bad data points (out of 10713) using the TESS provided QUALITY array\n",
      "Summing over 1 x 1 pixel lightcurves. Weighting=None\n"
     ]
    },
    {
     "data": {
      "application/vnd.jupyter.widget-view+json": {
       "model_id": "",
       "version_major": 2,
       "version_minor": 0
      },
      "text/plain": [
       "TIC 33736757:   0%|          | 0/4 [00:00<?, ?it/s]"
      ]
     },
     "metadata": {},
     "output_type": "display_data"
    },
    {
     "data": {
      "application/vnd.jupyter.widget-view+json": {
       "model_id": "",
       "version_major": 2,
       "version_minor": 0
      },
      "text/plain": [
       "TIC 33736757:   0%|          | 0/4 [00:00<?, ?it/s]"
      ]
     },
     "metadata": {},
     "output_type": "display_data"
    },
    {
     "data": {
      "application/vnd.jupyter.widget-view+json": {
       "model_id": "",
       "version_major": 2,
       "version_minor": 0
      },
      "text/plain": [
       "TIC 33736757:   0%|          | 0/4 [00:00<?, ?it/s]"
      ]
     },
     "metadata": {},
     "output_type": "display_data"
    },
    {
     "data": {
      "application/vnd.jupyter.widget-view+json": {
       "model_id": "",
       "version_major": 2,
       "version_minor": 0
      },
      "text/plain": [
       "TIC 33736757:   0%|          | 0/4 [00:00<?, ?it/s]"
      ]
     },
     "metadata": {},
     "output_type": "display_data"
    },
    {
     "data": {
      "application/vnd.jupyter.widget-view+json": {
       "model_id": "",
       "version_major": 2,
       "version_minor": 0
      },
      "text/plain": [
       "TIC 33736757:   0%|          | 0/5 [00:00<?, ?it/s]"
      ]
     },
     "metadata": {},
     "output_type": "display_data"
    },
    {
     "data": {
      "application/vnd.jupyter.widget-view+json": {
       "model_id": "",
       "version_major": 2,
       "version_minor": 0
      },
      "text/plain": [
       "TIC 33736757:   0%|          | 0/5 [00:00<?, ?it/s]"
      ]
     },
     "metadata": {},
     "output_type": "display_data"
    },
    {
     "data": {
      "application/vnd.jupyter.widget-view+json": {
       "model_id": "",
       "version_major": 2,
       "version_minor": 0
      },
      "text/plain": [
       "TIC 33736757:   0%|          | 0/6 [00:00<?, ?it/s]"
      ]
     },
     "metadata": {},
     "output_type": "display_data"
    },
    {
     "data": {
      "application/vnd.jupyter.widget-view+json": {
       "model_id": "",
       "version_major": 2,
       "version_minor": 0
      },
      "text/plain": [
       "TIC 33736757:   0%|          | 0/3 [00:00<?, ?it/s]"
      ]
     },
     "metadata": {},
     "output_type": "display_data"
    },
    {
     "data": {
      "application/vnd.jupyter.widget-view+json": {
       "model_id": "",
       "version_major": 2,
       "version_minor": 0
      },
      "text/plain": [
       "TIC 33736757:   0%|          | 0/35 [00:00<?, ?it/s]"
      ]
     },
     "metadata": {},
     "output_type": "display_data"
    },
    {
     "name": "stdout",
     "output_type": "stream",
     "text": [
      "Downloading TIC 167655367:68\n",
      "Downloading URL https://mast.stsci.edu/tesscut/api/v0.1/astrocut?ra=102.373350533361&dec=-61.6808681936094&y=50&x=50&units=px&sector=68 to ./data/tesscut_20240513152841.zip ... [Done]\n",
      "Inflating...\n",
      "Removing 107 bad data points (out of 11639) using the TESS provided QUALITY array\n",
      "Summing over 1 x 1 pixel lightcurves. Weighting=None\n",
      "Downloading TIC 167655367:67\n",
      "Downloading URL https://mast.stsci.edu/tesscut/api/v0.1/astrocut?ra=102.373350533361&dec=-61.6808681936094&y=50&x=50&units=px&sector=67 to ./data/tesscut_20240513152917.zip ... [Done]\n",
      "Inflating...\n",
      "Removing 229 bad data points (out of 11719) using the TESS provided QUALITY array\n",
      "Summing over 1 x 1 pixel lightcurves. Weighting=None\n",
      "Downloading TIC 167655367:66\n",
      " [Done]\n",
      "Inflating...\n",
      "Removing 60 bad data points (out of 10713) using the TESS provided QUALITY array\n",
      "Summing over 1 x 1 pixel lightcurves. Weighting=None\n",
      "Downloading TIC 167655367:69\n",
      "Downloading URL https://mast.stsci.edu/tesscut/api/v0.1/astrocut?ra=102.373350533361&dec=-61.6808681936094&y=50&x=50&units=px&sector=69 to ./data/tesscut_20240513153224.zip ... [Done]\n",
      "Inflating...\n",
      "Removing 1001 bad data points (out of 10856) using the TESS provided QUALITY array\n",
      "Summing over 1 x 1 pixel lightcurves. Weighting=None\n",
      "Downloading TIC 167655367:63\n",
      "Downloading URL https://mast.stsci.edu/tesscut/api/v0.1/astrocut?ra=102.373350533361&dec=-61.6808681936094&y=50&x=50&units=px&sector=63 to ./data/tesscut_20240513153259.zip ... [Done]\n",
      "Inflating...\n",
      "Removing 248 bad data points (out of 11190) using the TESS provided QUALITY array\n",
      "Summing over 1 x 1 pixel lightcurves. Weighting=None\n",
      "Downloading TIC 167655367:62\n",
      "Downloading URL https://mast.stsci.edu/tesscut/api/v0.1/astrocut?ra=102.373350533361&dec=-61.6808681936094&y=50&x=50&units=px&sector=62 to ./data/tesscut_20240513153342.zip ... [Done]\n",
      "Inflating...\n",
      "Removing 26 bad data points (out of 10837) using the TESS provided QUALITY array\n",
      "Summing over 1 x 1 pixel lightcurves. Weighting=None\n",
      "Downloading TIC 167655367:64\n",
      "Downloading URL https://mast.stsci.edu/tesscut/api/v0.1/astrocut?ra=102.373350533361&dec=-61.6808681936094&y=50&x=50&units=px&sector=64 to ./data/tesscut_20240513153419.zip ... [Done]\n",
      "Inflating...\n",
      "Removing 80 bad data points (out of 11356) using the TESS provided QUALITY array\n",
      "Summing over 1 x 1 pixel lightcurves. Weighting=None\n"
     ]
    },
    {
     "name": "stderr",
     "output_type": "stream",
     "text": [
      "/opt/conda/envs/tess/lib/python3.11/site-packages/astropy/units/quantity.py:666: RuntimeWarning: invalid value encountered in sqrt\n",
      "  result = super().__array_ufunc__(function, method, *arrays, **kwargs)\n"
     ]
    },
    {
     "data": {
      "application/vnd.jupyter.widget-view+json": {
       "model_id": "",
       "version_major": 2,
       "version_minor": 0
      },
      "text/plain": [
       "TIC 33736757:   0%|          | 0/33 [00:00<?, ?it/s]"
      ]
     },
     "metadata": {},
     "output_type": "display_data"
    },
    {
     "name": "stdout",
     "output_type": "stream",
     "text": [
      "Downloading TIC 167169329:68\n",
      "Downloading URL https://mast.stsci.edu/tesscut/api/v0.1/astrocut?ra=97.0550969726771&dec=-66.0721304568016&y=50&x=50&units=px&sector=68 to ./data/tesscut_20240513153453.zip ... [Done]\n",
      "Inflating...\n",
      "Removing 107 bad data points (out of 11639) using the TESS provided QUALITY array\n",
      "Summing over 1 x 1 pixel lightcurves. Weighting=None\n",
      "Downloading TIC 167169329:61\n",
      "Downloading URL https://mast.stsci.edu/tesscut/api/v0.1/astrocut?ra=97.0550969726771&dec=-66.0721304568016&y=50&x=50&units=px&sector=61 to ./data/tesscut_20240513153612.zip ... [Done]\n",
      "Inflating...\n",
      "Removing 60 bad data points (out of 10713) using the TESS provided QUALITY array\n",
      "Summing over 1 x 1 pixel lightcurves. Weighting=None\n",
      "Downloading TIC 167169329:65\n",
      "Downloading URL https://mast.stsci.edu/tesscut/api/v0.1/astrocut?ra=97.0550969726771&dec=-66.0721304568016&y=50&x=50&units=px&sector=65 to ./data/tesscut_20240513153710.zip ... [Done]\n",
      "Inflating...\n",
      "Removing 96 bad data points (out of 11758) using the TESS provided QUALITY array\n",
      "Summing over 1 x 1 pixel lightcurves. Weighting=None\n",
      "Downloading TIC 167169329:66\n",
      "Downloading URL https://mast.stsci.edu/tesscut/api/v0.1/astrocut?ra=97.0550969726771&dec=-66.0721304568016&y=50&x=50&units=px&sector=66 to ./data/tesscut_20240513153816.zip ... [Done]\n",
      "Inflating...\n",
      "Removing 1013 bad data points (out of 12154) using the TESS provided QUALITY array\n",
      "Summing over 1 x 1 pixel lightcurves. Weighting=None\n",
      "Downloading TIC 167169329:67\n",
      "Downloading URL https://mast.stsci.edu/tesscut/api/v0.1/astrocut?ra=97.0550969726771&dec=-66.0721304568016&y=50&x=50&units=px&sector=67 to ./data/tesscut_20240513153855.zip ... [Done]\n",
      "Inflating...\n",
      "Removing 229 bad data points (out of 11719) using the TESS provided QUALITY array\n"
     ]
    },
    {
     "name": "stderr",
     "output_type": "stream",
     "text": [
      "/opt/conda/envs/tess/lib/python3.11/site-packages/numpy/lib/nanfunctions.py:1217: RuntimeWarning: All-NaN slice encountered\n",
      "  return function_base._ureduce(a, func=_nanmedian, keepdims=keepdims,\n",
      "/home/jovyan/SRMP-JMAG/tess_cpm/cutout_data.py:102: RuntimeWarning: invalid value encountered in divide\n",
      "  self.normalized_fluxes = (self.fluxes / self.flux_medians) - 1\n",
      "/home/jovyan/SRMP-JMAG/tess_cpm/cutout_data.py:108: RuntimeWarning: invalid value encountered in divide\n",
      "  self.normalized_flux_errors = self.flux_errors / self.flux_medians\n"
     ]
    },
    {
     "name": "stdout",
     "output_type": "stream",
     "text": [
      "Summing over 1 x 1 pixel lightcurves. Weighting=None\n",
      "Downloading TIC 167169329:69\n",
      "Downloading URL https://mast.stsci.edu/tesscut/api/v0.1/astrocut?ra=97.0550969726771&dec=-66.0721304568016&y=50&x=50&units=px&sector=69 to ./data/tesscut_20240513153934.zip ... [Done]\n",
      "Inflating...\n",
      "Removing 1001 bad data points (out of 10856) using the TESS provided QUALITY array\n",
      "Summing over 1 x 1 pixel lightcurves. Weighting=None\n"
     ]
    },
    {
     "name": "stderr",
     "output_type": "stream",
     "text": [
      "/opt/conda/envs/tess/lib/python3.11/site-packages/astropy/units/quantity.py:666: RuntimeWarning: invalid value encountered in sqrt\n",
      "  result = super().__array_ufunc__(function, method, *arrays, **kwargs)\n"
     ]
    },
    {
     "name": "stdout",
     "output_type": "stream",
     "text": [
      "Downloading TIC 167169329:63\n",
      "Downloading URL https://mast.stsci.edu/tesscut/api/v0.1/astrocut?ra=97.0550969726771&dec=-66.0721304568016&y=50&x=50&units=px&sector=63 to ./data/tesscut_20240513154010.zip ... [Done]\n",
      "Inflating...\n",
      "Removing 248 bad data points (out of 11190) using the TESS provided QUALITY array\n",
      "Summing over 1 x 1 pixel lightcurves. Weighting=None\n",
      "Downloading TIC 167169329:64\n",
      "Downloading URL https://mast.stsci.edu/tesscut/api/v0.1/astrocut?ra=97.0550969726771&dec=-66.0721304568016&y=50&x=50&units=px&sector=64 to ./data/tesscut_20240513154052.zip ... [Done]\n",
      "Inflating...\n",
      "Removing 80 bad data points (out of 11356) using the TESS provided QUALITY array\n",
      "Summing over 1 x 1 pixel lightcurves. Weighting=None\n"
     ]
    },
    {
     "data": {
      "application/vnd.jupyter.widget-view+json": {
       "model_id": "",
       "version_major": 2,
       "version_minor": 0
      },
      "text/plain": [
       "TIC 33736757:   0%|          | 0/4 [00:00<?, ?it/s]"
      ]
     },
     "metadata": {},
     "output_type": "display_data"
    },
    {
     "data": {
      "application/vnd.jupyter.widget-view+json": {
       "model_id": "eef5c362756747cfafe9a3753f3cc874",
       "version_major": 2,
       "version_minor": 0
      },
      "text/plain": [
       "TIC 33736757:   0%|          | 0/4 [00:00<?, ?it/s]"
      ]
     },
     "metadata": {},
     "output_type": "display_data"
    },
    {
     "data": {
      "application/vnd.jupyter.widget-view+json": {
       "model_id": "687826defd344c82a56fc45a0e8b6a1e",
       "version_major": 2,
       "version_minor": 0
      },
      "text/plain": [
       "TIC 33736757:   0%|          | 0/2 [00:00<?, ?it/s]"
      ]
     },
     "metadata": {},
     "output_type": "display_data"
    },
    {
     "data": {
      "application/vnd.jupyter.widget-view+json": {
       "model_id": "dbdecd662298429a802a1987b17e40bd",
       "version_major": 2,
       "version_minor": 0
      },
      "text/plain": [
       "TIC 33736757:   0%|          | 0/35 [00:00<?, ?it/s]"
      ]
     },
     "metadata": {},
     "output_type": "display_data"
    },
    {
     "name": "stdout",
     "output_type": "stream",
     "text": [
      "Downloading TIC 150249278:68\n",
      "Downloading URL https://mast.stsci.edu/tesscut/api/v0.1/astrocut?ra=94.4336007326277&dec=-61.4580158220182&y=50&x=50&units=px&sector=68 to ./data/tesscut_20240513154129.zip ... [Done]\n",
      "Inflating...\n",
      "Removing 107 bad data points (out of 11639) using the TESS provided QUALITY array\n",
      "Summing over 1 x 1 pixel lightcurves. Weighting=None\n",
      "Downloading TIC 150249278:67\n",
      "Downloading URL https://mast.stsci.edu/tesscut/api/v0.1/astrocut?ra=94.4336007326277&dec=-61.4580158220182&y=50&x=50&units=px&sector=67 to ./data/tesscut_20240513154225.zip ... [Done]\n",
      "Inflating...\n",
      "Removing 229 bad data points (out of 11719) using the TESS provided QUALITY array\n",
      "Summing over 1 x 1 pixel lightcurves. Weighting=None\n",
      "Downloading TIC 150249278:66\n",
      "Downloading URL https://mast.stsci.edu/tesscut/api/v0.1/astrocut?ra=94.4336007326277&dec=-61.4580158220182&y=50&x=50&units=px&sector=66 to ./data/tesscut_20240513154312.zip ... [Done]\n",
      "Inflating...\n",
      "Removing 1013 bad data points (out of 12154) using the TESS provided QUALITY array\n",
      "Summing over 1 x 1 pixel lightcurves. Weighting=None\n",
      "Downloading TIC 150249278:65\n",
      "Downloading URL https://mast.stsci.edu/tesscut/api/v0.1/astrocut?ra=94.4336007326277&dec=-61.4580158220182&y=50&x=50&units=px&sector=65 to ./data/tesscut_20240513154358.zip ... [Done]\n",
      "Inflating...\n",
      "Removing 96 bad data points (out of 11758) using the TESS provided QUALITY array\n",
      "Summing over 1 x 1 pixel lightcurves. Weighting=None\n",
      "Downloading TIC 150249278:61\n",
      "Downloading URL https://mast.stsci.edu/tesscut/api/v0.1/astrocut?ra=94.4336007326277&dec=-61.4580158220182&y=50&x=50&units=px&sector=61 to ./data/tesscut_20240513154453.zip ... [Done]\n",
      "Inflating...\n",
      "Removing 60 bad data points (out of 10713) using the TESS provided QUALITY array\n",
      "Summing over 1 x 1 pixel lightcurves. Weighting=None\n"
     ]
    },
    {
     "name": "stderr",
     "output_type": "stream",
     "text": [
      "/opt/conda/envs/tess/lib/python3.11/site-packages/astropy/units/quantity.py:666: RuntimeWarning: invalid value encountered in sqrt\n",
      "  result = super().__array_ufunc__(function, method, *arrays, **kwargs)\n"
     ]
    },
    {
     "name": "stdout",
     "output_type": "stream",
     "text": [
      "Downloading TIC 150249278:69\n",
      "Downloading URL https://mast.stsci.edu/tesscut/api/v0.1/astrocut?ra=94.4336007326277&dec=-61.4580158220182&y=50&x=50&units=px&sector=69 to ./data/tesscut_20240513154525.zip ... [Done]\n",
      "Inflating...\n",
      "Removing 1001 bad data points (out of 10856) using the TESS provided QUALITY array\n",
      "Summing over 1 x 1 pixel lightcurves. Weighting=None\n",
      "Downloading TIC 150249278:63\n",
      "Downloading URL https://mast.stsci.edu/tesscut/api/v0.1/astrocut?ra=94.4336007326277&dec=-61.4580158220182&y=50&x=50&units=px&sector=63 to ./data/tesscut_20240513154601.zip ... [Done]\n",
      "Inflating...\n",
      "Removing 248 bad data points (out of 11190) using the TESS provided QUALITY array\n",
      "Summing over 1 x 1 pixel lightcurves. Weighting=None\n",
      "Downloading TIC 150249278:62\n",
      "Downloading URL https://mast.stsci.edu/tesscut/api/v0.1/astrocut?ra=94.4336007326277&dec=-61.4580158220182&y=50&x=50&units=px&sector=62 to ./data/tesscut_20240513154633.zip ... [Done]\n",
      "Inflating...\n",
      "Removing 26 bad data points (out of 10837) using the TESS provided QUALITY array\n",
      "Summing over 1 x 1 pixel lightcurves. Weighting=None\n",
      "Downloading TIC 150249278:64\n",
      "Downloading URL https://mast.stsci.edu/tesscut/api/v0.1/astrocut?ra=94.4336007326277&dec=-61.4580158220182&y=50&x=50&units=px&sector=64 to ./data/tesscut_20240513154729.zip ... [Done]\n",
      "Inflating...\n",
      "Removing 80 bad data points (out of 11356) using the TESS provided QUALITY array\n",
      "Summing over 1 x 1 pixel lightcurves. Weighting=None\n"
     ]
    },
    {
     "data": {
      "application/vnd.jupyter.widget-view+json": {
       "model_id": "8a4a351e66af4f68bc24084b7ec8497c",
       "version_major": 2,
       "version_minor": 0
      },
      "text/plain": [
       "TIC 33736757:   0%|          | 0/34 [00:00<?, ?it/s]"
      ]
     },
     "metadata": {},
     "output_type": "display_data"
    },
    {
     "name": "stdout",
     "output_type": "stream",
     "text": [
      "Downloading TIC 149930020:68\n",
      "Downloading URL https://mast.stsci.edu/tesscut/api/v0.1/astrocut?ra=89.6967511650743&dec=-61.4115896609055&y=50&x=50&units=px&sector=68 to ./data/tesscut_20240513154812.zip ... [Done]\n",
      "Inflating...\n",
      "Removing 107 bad data points (out of 11639) using the TESS provided QUALITY array\n",
      "Summing over 1 x 1 pixel lightcurves. Weighting=None\n",
      "Downloading TIC 149930020:65\n",
      "Downloading URL https://mast.stsci.edu/tesscut/api/v0.1/astrocut?ra=89.6967511650743&dec=-61.4115896609055&y=50&x=50&units=px&sector=65 to ./data/tesscut_20240513154849.zip ... [Done]\n",
      "Inflating...\n",
      "Removing 96 bad data points (out of 11758) using the TESS provided QUALITY array\n",
      "Summing over 1 x 1 pixel lightcurves. Weighting=None\n",
      "Downloading TIC 149930020:66\n",
      "Downloading URL https://mast.stsci.edu/tesscut/api/v0.1/astrocut?ra=89.6967511650743&dec=-61.4115896609055&y=50&x=50&units=px&sector=66 to ./data/tesscut_20240513154941.zip ... [Done]\n",
      "Inflating...\n",
      "Removing 1013 bad data points (out of 12154) using the TESS provided QUALITY array\n",
      "Summing over 1 x 1 pixel lightcurves. Weighting=None\n",
      "Downloading TIC 149930020:67\n",
      "Downloading URL https://mast.stsci.edu/tesscut/api/v0.1/astrocut?ra=89.6967511650743&dec=-61.4115896609055&y=50&x=50&units=px&sector=67 to ./data/tesscut_20240513155022.zip ... [Done]\n",
      "Inflating...\n",
      "Removing 229 bad data points (out of 11719) using the TESS provided QUALITY array\n",
      "Summing over 1 x 1 pixel lightcurves. Weighting=None\n",
      "Downloading TIC 149930020:61\n",
      "Downloading URL https://mast.stsci.edu/tesscut/api/v0.1/astrocut?ra=89.6967511650743&dec=-61.4115896609055&y=50&x=50&units=px&sector=61 to ./data/tesscut_20240513155121.zip ... [Done]\n",
      "Inflating...\n",
      "Removing 60 bad data points (out of 10713) using the TESS provided QUALITY array\n",
      "Summing over 1 x 1 pixel lightcurves. Weighting=None\n"
     ]
    },
    {
     "name": "stderr",
     "output_type": "stream",
     "text": [
      "/opt/conda/envs/tess/lib/python3.11/site-packages/lightkurve/lightcurve.py:2776: UserWarning: Attempting to set identical low and high ylims makes transformation singular; automatically expanding.\n",
      "  ax.set_ylim(cyc.max(), 0)\n",
      "/opt/conda/envs/tess/lib/python3.11/site-packages/lightkurve/lightcurve.py:2780: RuntimeWarning: invalid value encountered in scalar divide\n",
      "  ax.set_aspect(a / b)\n"
     ]
    },
    {
     "name": "stdout",
     "output_type": "stream",
     "text": [
      "Failed to generate one or more plots for TIC 33736757:61\n",
      "Downloading TIC 149930020:69\n",
      "Downloading URL https://mast.stsci.edu/tesscut/api/v0.1/astrocut?ra=89.6967511650743&dec=-61.4115896609055&y=50&x=50&units=px&sector=69 to ./data/tesscut_20240513155208.zip ... [Done]\n",
      "Inflating...\n",
      "Removing 1001 bad data points (out of 10856) using the TESS provided QUALITY array\n"
     ]
    },
    {
     "name": "stderr",
     "output_type": "stream",
     "text": [
      "/home/jovyan/SRMP-JMAG/tess_cpm/cutout_data.py:102: RuntimeWarning: invalid value encountered in divide\n",
      "  self.normalized_fluxes = (self.fluxes / self.flux_medians) - 1\n",
      "/home/jovyan/SRMP-JMAG/tess_cpm/cutout_data.py:108: RuntimeWarning: invalid value encountered in divide\n",
      "  self.normalized_flux_errors = self.flux_errors / self.flux_medians\n"
     ]
    },
    {
     "name": "stdout",
     "output_type": "stream",
     "text": [
      "Summing over 1 x 1 pixel lightcurves. Weighting=None\n",
      "Downloading TIC 149930020:62\n",
      "Downloading URL https://mast.stsci.edu/tesscut/api/v0.1/astrocut?ra=89.6967511650743&dec=-61.4115896609055&y=50&x=50&units=px&sector=62 to ./data/tesscut_20240513155253.zip ... [Done]\n",
      "Inflating...\n",
      "Removing 26 bad data points (out of 10837) using the TESS provided QUALITY array\n",
      "Summing over 1 x 1 pixel lightcurves. Weighting=None\n",
      "Downloading TIC 149930020:63\n",
      "Downloading URL https://mast.stsci.edu/tesscut/api/v0.1/astrocut?ra=89.6967511650743&dec=-61.4115896609055&y=50&x=50&units=px&sector=63 to ./data/tesscut_20240513155353.zip ... [Done]\n",
      "Inflating...\n",
      "Removing 248 bad data points (out of 11190) using the TESS provided QUALITY array\n",
      "Summing over 1 x 1 pixel lightcurves. Weighting=None\n"
     ]
    },
    {
     "name": "stderr",
     "output_type": "stream",
     "text": [
      "/opt/conda/envs/tess/lib/python3.11/site-packages/astropy/units/quantity.py:666: RuntimeWarning: invalid value encountered in sqrt\n",
      "  result = super().__array_ufunc__(function, method, *arrays, **kwargs)\n",
      "/opt/conda/envs/tess/lib/python3.11/site-packages/astropy/units/quantity.py:666: RuntimeWarning: invalid value encountered in sqrt\n",
      "  result = super().__array_ufunc__(function, method, *arrays, **kwargs)\n"
     ]
    },
    {
     "name": "stdout",
     "output_type": "stream",
     "text": [
      "Downloading TIC 149930020:64\n",
      "Downloading URL https://mast.stsci.edu/tesscut/api/v0.1/astrocut?ra=89.6967511650743&dec=-61.4115896609055&y=50&x=50&units=px&sector=64 to ./data/tesscut_20240513155519.zip ... [Done]\n",
      "Inflating...\n",
      "Removing 80 bad data points (out of 11356) using the TESS provided QUALITY array\n",
      "Summing over 1 x 1 pixel lightcurves. Weighting=None\n"
     ]
    },
    {
     "data": {
      "application/vnd.jupyter.widget-view+json": {
       "model_id": "198790aabafd460380c37934241ecc75",
       "version_major": 2,
       "version_minor": 0
      },
      "text/plain": [
       "TIC 33736757:   0%|          | 0/32 [00:00<?, ?it/s]"
      ]
     },
     "metadata": {},
     "output_type": "display_data"
    },
    {
     "name": "stdout",
     "output_type": "stream",
     "text": [
      "Downloading TIC 149570686:68\n",
      "Downloading URL https://mast.stsci.edu/tesscut/api/v0.1/astrocut?ra=86.5200221206933&dec=-64.1184164429904&y=50&x=50&units=px&sector=68 to ./data/tesscut_20240513155617.zip ... [Done]\n",
      "Inflating...\n",
      "Removing 107 bad data points (out of 11639) using the TESS provided QUALITY array\n",
      "Summing over 1 x 1 pixel lightcurves. Weighting=None\n",
      "Downloading TIC 149570686:65\n",
      "Downloading URL https://mast.stsci.edu/tesscut/api/v0.1/astrocut?ra=86.5200221206933&dec=-64.1184164429904&y=50&x=50&units=px&sector=65 to ./data/tesscut_20240513155652.zip ... [Done]\n",
      "Inflating...\n",
      "Removing 96 bad data points (out of 11758) using the TESS provided QUALITY array\n",
      "Summing over 1 x 1 pixel lightcurves. Weighting=None\n",
      "Downloading TIC 149570686:66\n",
      "Downloading URL https://mast.stsci.edu/tesscut/api/v0.1/astrocut?ra=86.5200221206933&dec=-64.1184164429904&y=50&x=50&units=px&sector=66 to ./data/tesscut_20240513155731.zip ... [Done]\n",
      "Inflating...\n",
      "Removing 1013 bad data points (out of 12154) using the TESS provided QUALITY array\n",
      "Summing over 1 x 1 pixel lightcurves. Weighting=None\n",
      "Downloading TIC 149570686:61\n",
      "Downloading URL https://mast.stsci.edu/tesscut/api/v0.1/astrocut?ra=86.5200221206933&dec=-64.1184164429904&y=50&x=50&units=px&sector=61 to ./data/tesscut_20240513155811.zip ... [Done]\n",
      "Inflating...\n",
      "Removing 60 bad data points (out of 10713) using the TESS provided QUALITY array\n",
      "Summing over 1 x 1 pixel lightcurves. Weighting=None\n",
      "Downloading TIC 149570686:69\n",
      "Downloading URL https://mast.stsci.edu/tesscut/api/v0.1/astrocut?ra=86.5200221206933&dec=-64.1184164429904&y=50&x=50&units=px&sector=69 to ./data/tesscut_20240513155846.zip ... [Done]\n",
      "Inflating...\n",
      "Removing 1001 bad data points (out of 10856) using the TESS provided QUALITY array\n",
      "Summing over 1 x 1 pixel lightcurves. Weighting=None\n",
      "Downloading TIC 149570686:62\n",
      "Downloading URL https://mast.stsci.edu/tesscut/api/v0.1/astrocut?ra=86.5200221206933&dec=-64.1184164429904&y=50&x=50&units=px&sector=62 to ./data/tesscut_20240513155923.zip ... [Done]\n",
      "Inflating...\n",
      "Removing 26 bad data points (out of 10837) using the TESS provided QUALITY array\n",
      "Summing over 1 x 1 pixel lightcurves. Weighting=None\n",
      "Downloading TIC 149570686:64\n",
      "Downloading URL https://mast.stsci.edu/tesscut/api/v0.1/astrocut?ra=86.5200221206933&dec=-64.1184164429904&y=50&x=50&units=px&sector=64 to ./data/tesscut_20240513160014.zip ... [Done]\n",
      "Inflating...\n",
      "Removing 80 bad data points (out of 11356) using the TESS provided QUALITY array\n",
      "Summing over 1 x 1 pixel lightcurves. Weighting=None\n"
     ]
    },
    {
     "data": {
      "application/vnd.jupyter.widget-view+json": {
       "model_id": "a12397f06abb45809d2ee5625bf92eb8",
       "version_major": 2,
       "version_minor": 0
      },
      "text/plain": [
       "TIC 33736757:   0%|          | 0/2 [00:00<?, ?it/s]"
      ]
     },
     "metadata": {},
     "output_type": "display_data"
    },
    {
     "data": {
      "application/vnd.jupyter.widget-view+json": {
       "model_id": "9b6b8bcf3287412593f3f51e5a0b4dfa",
       "version_major": 2,
       "version_minor": 0
      },
      "text/plain": [
       "TIC 33736757:   0%|          | 0/2 [00:00<?, ?it/s]"
      ]
     },
     "metadata": {},
     "output_type": "display_data"
    },
    {
     "data": {
      "application/vnd.jupyter.widget-view+json": {
       "model_id": "f3f43499dcef44a99a6a001e9ecb59c9",
       "version_major": 2,
       "version_minor": 0
      },
      "text/plain": [
       "TIC 33736757:   0%|          | 0/3 [00:00<?, ?it/s]"
      ]
     },
     "metadata": {},
     "output_type": "display_data"
    },
    {
     "data": {
      "application/vnd.jupyter.widget-view+json": {
       "model_id": "72cd09485be54aae9efcdf0e60f6a780",
       "version_major": 2,
       "version_minor": 0
      },
      "text/plain": [
       "TIC 33736757:   0%|          | 0/3 [00:00<?, ?it/s]"
      ]
     },
     "metadata": {},
     "output_type": "display_data"
    },
    {
     "data": {
      "application/vnd.jupyter.widget-view+json": {
       "model_id": "9a8488379641449d98091ed7a60c863e",
       "version_major": 2,
       "version_minor": 0
      },
      "text/plain": [
       "TIC 33736757:   0%|          | 0/2 [00:00<?, ?it/s]"
      ]
     },
     "metadata": {},
     "output_type": "display_data"
    },
    {
     "data": {
      "application/vnd.jupyter.widget-view+json": {
       "model_id": "aecc17ecd62942dd9e1dea83ef0cad22",
       "version_major": 2,
       "version_minor": 0
      },
      "text/plain": [
       "TIC 33736757:   0%|          | 0/2 [00:00<?, ?it/s]"
      ]
     },
     "metadata": {},
     "output_type": "display_data"
    },
    {
     "data": {
      "application/vnd.jupyter.widget-view+json": {
       "model_id": "29bde15eed654e2c9e76ff1447b9c543",
       "version_major": 2,
       "version_minor": 0
      },
      "text/plain": [
       "TIC 33736757:   0%|          | 0/3 [00:00<?, ?it/s]"
      ]
     },
     "metadata": {},
     "output_type": "display_data"
    },
    {
     "data": {
      "application/vnd.jupyter.widget-view+json": {
       "model_id": "3ba255312cec4e1490e11d1192de3f44",
       "version_major": 2,
       "version_minor": 0
      },
      "text/plain": [
       "TIC 33736757:   0%|          | 0/2 [00:00<?, ?it/s]"
      ]
     },
     "metadata": {},
     "output_type": "display_data"
    },
    {
     "data": {
      "image/png": "[encoded data removed]",
      "text/plain": [
       "<Figure size 800x550 with 2 Axes>"
      ]
     },
     "metadata": {},
     "output_type": "display_data"
    },
    {
     "data": {
      "image/png": "[encoded data removed]",
      "text/plain": [
       "<Figure size 800x550 with 2 Axes>"
      ]
     },
     "metadata": {},
     "output_type": "display_data"
    }
   ],
   "source": [
    "complex = {}\n",
    "not_complex = {}\n",
    "\n",
    "for target in tqdm(targets):\n",
    "    for sector in tqdm(target[\"sectors\"], leave=False, desc=tic):\n",
    "        if sector <= 56: # FFIs are only high enough res after cycle (year) 5.\n",
    "            continue\n",
    "        lc = load_lc(f\"{target['tic']}\", sector)\n",
    "        \n",
    "        # Determine complexity\n",
    "        if complexitycheck(lc):\n",
    "            if target[\"tic\"] not in complex.keys():\n",
    "                complex[target[\"tic\"]] = []\n",
    "            complex[target[\"tic\"]].append(sector)\n",
    "        else:\n",
    "            if target[\"tic\"] not in not_complex.keys():\n",
    "                not_complex[target[\"tic\"]] = []\n",
    "            not_complex[target[\"tic\"]].append(sector)\n",
    "        if not os.path.isdir(f\"{OUTPUT_PATH}/{target['tic']}\"):\n",
    "            os.mkdir(f\"{OUTPUT_PATH}/{target['tic']}\")\n",
    "\n",
    "        try:\n",
    "            # Plot river and save\n",
    "            plt.figure(river_plot(lc).number) # this is necessary to make the output current and save the correct figure.\n",
    "            plt.savefig(f\"{OUTPUT_PATH}/{target['tic']}/{sector}_river.png\")\n",
    "            plt.close()\n",
    "    \n",
    "            # Plot lc and save\n",
    "            plt.figure(graph_lc(lc).number) \n",
    "            plt.savefig(f\"{OUTPUT_PATH}/{target['tic']}/{sector}_plot.png\")\n",
    "            plt.close()\n",
    "    \n",
    "            # Make periodogram and save\n",
    "            plt.figure(lombscargle(lc).number) \n",
    "            plt.savefig(f\"{OUTPUT_PATH}/{target['tic']}/{sector}_periodogram.png\")\n",
    "            plt.close()\n",
    "        except:\n",
    "            print(f\"Failed to generate one or more plots for {tic}:{sector}\")"
   ]
  },
  {
   "cell_type": "code",
   "execution_count": 47,
   "id": "20c8343f-7279-4753-b012-3736a1de6b90",
   "metadata": {},
   "outputs": [],
   "source": [
    "def make_dataframes(l):\n",
    "    \n",
    "    df = pd.DataFrame()\n",
    "    \n",
    "    tics = []\n",
    "    sectors = []\n",
    "    for tic in list(l.keys()):\n",
    "        for sector in l[tic]:\n",
    "            tics.append(tic)\n",
    "            sectors.append(sector)\n",
    "    \n",
    "    df[\"TIC\"] = tics\n",
    "    df[\"Sectors\"] = sectors\n",
    "\n",
    "    return df\n",
    "\n",
    "make_dataframes(complex).to_csv(f\"{OUTPUT_PATH}/complex.csv\")\n",
    "make_dataframes(not_complex).to_csv(f\"{OUTPUT_PATH}/not_complex.csv\")"
   ]
  },
  {
   "cell_type": "code",
   "execution_count": 53,
   "id": "615e9024-3dc2-45f0-a2d8-0bb482d1a4e9",
   "metadata": {
    "collapsed": true,
    "jupyter": {
     "outputs_hidden": true
    },
    "scrolled": true
   },
   "outputs": [
    {
     "name": "stdout",
     "output_type": "stream",
     "text": [
      "This is pdfTeX, Version 3.14159265-2.6-1.40.20 (TeX Live 2019/Debian) (preloaded format=pdflatex)\n",
      " restricted \\write18 enabled.\n",
      "entering extended mode\n",
      "(./main.tex\n",
      "LaTeX2e <2020-02-02> patch level 2\n",
      "L3 programming layer <2020-02-14>\n",
      "(/usr/share/texlive/texmf-dist/tex/latex/base/report.cls\n",
      "Document Class: report 2019/12/20 v1.4l Standard LaTeX document class\n",
      "(/usr/share/texlive/texmf-dist/tex/latex/base/size10.clo))\n",
      "(/usr/share/texlive/texmf-dist/tex/latex/base/fontenc.sty)\n",
      "(/usr/share/texlive/texmf-dist/tex/latex/base/inputenc.sty)\n",
      "(/usr/share/texlive/texmf-dist/tex/latex/base/textcomp.sty)\n",
      "(/usr/share/texlive/texmf-dist/tex/latex/lastpage/lastpage.sty)\n",
      "(/usr/share/texlive/texmf-dist/tex/latex/geometry/geometry.sty\n",
      "(/usr/share/texlive/texmf-dist/tex/latex/graphics/keyval.sty)\n",
      "(/usr/share/texlive/texmf-dist/tex/generic/iftex/ifvtex.sty\n",
      "(/usr/share/texlive/texmf-dist/tex/generic/iftex/iftex.sty)))\n",
      "(/usr/share/texlive/texmf-dist/tex/latex/graphics/graphicx.sty\n",
      "(/usr/share/texlive/texmf-dist/tex/latex/graphics/graphics.sty\n",
      "(/usr/share/texlive/texmf-dist/tex/latex/graphics/trig.sty)\n",
      "(/usr/share/texlive/texmf-dist/tex/latex/graphics-cfg/graphics.cfg)\n",
      "(/usr/share/texlive/texmf-dist/tex/latex/graphics-def/pdftex.def)))\n",
      "(/usr/share/texlive/texmf-dist/tex/latex/float/float.sty)\n",
      "(/usr/share/texlive/texmf-dist/tex/latex/hyperref/hyperref.sty\n",
      "(/usr/share/texlive/texmf-dist/tex/generic/ltxcmds/ltxcmds.sty)\n",
      "(/usr/share/texlive/texmf-dist/tex/latex/pdftexcmds/pdftexcmds.sty\n",
      "(/usr/share/texlive/texmf-dist/tex/generic/infwarerr/infwarerr.sty))\n",
      "(/usr/share/texlive/texmf-dist/tex/generic/kvsetkeys/kvsetkeys.sty)\n",
      "(/usr/share/texlive/texmf-dist/tex/generic/kvdefinekeys/kvdefinekeys.sty)\n",
      "(/usr/share/texlive/texmf-dist/tex/generic/pdfescape/pdfescape.sty)\n",
      "(/usr/share/texlive/texmf-dist/tex/latex/hycolor/hycolor.sty)\n",
      "(/usr/share/texlive/texmf-dist/tex/latex/letltxmacro/letltxmacro.sty)\n",
      "(/usr/share/texlive/texmf-dist/tex/latex/auxhook/auxhook.sty)\n",
      "(/usr/share/texlive/texmf-dist/tex/latex/kvoptions/kvoptions.sty)\n",
      "(/usr/share/texlive/texmf-dist/tex/latex/hyperref/pd1enc.def)\n",
      "(/usr/share/texlive/texmf-dist/tex/generic/intcalc/intcalc.sty)\n",
      "(/usr/share/texlive/texmf-dist/tex/generic/etexcmds/etexcmds.sty)\n",
      "(/usr/share/texlive/texmf-dist/tex/latex/url/url.sty)\n",
      "(/usr/share/texlive/texmf-dist/tex/generic/bitset/bitset.sty\n",
      "(/usr/share/texlive/texmf-dist/tex/generic/bigintcalc/bigintcalc.sty))\n",
      "(/usr/share/texlive/texmf-dist/tex/generic/atbegshi/atbegshi.sty))\n",
      "(/usr/share/texlive/texmf-dist/tex/latex/hyperref/hpdftex.def\n",
      "(/usr/share/texlive/texmf-dist/tex/latex/atveryend/atveryend.sty)\n",
      "(/usr/share/texlive/texmf-dist/tex/latex/rerunfilecheck/rerunfilecheck.sty\n",
      "(/usr/share/texlive/texmf-dist/tex/generic/uniquecounter/uniquecounter.sty)))\n",
      "(/usr/share/texlive/texmf-dist/tex/latex/l3backend/l3backend-pdfmode.def)\n",
      "No file main.aux.\n",
      "*geometry* driver: auto-detecting\n",
      "*geometry* detected driver: pdftex\n",
      "(/usr/share/texlive/texmf-dist/tex/context/base/mkii/supp-pdf.mkii\n",
      "[Loading MPS to PDF converter (version 2006.09.02).]\n",
      ") (/usr/share/texlive/texmf-dist/tex/latex/epstopdf-pkg/epstopdf-base.sty\n",
      "(/usr/share/texlive/texmf-dist/tex/latex/latexconfig/epstopdf-sys.cfg))\n",
      "(/usr/share/texlive/texmf-dist/tex/latex/graphics/color.sty\n",
      "(/usr/share/texlive/texmf-dist/tex/latex/graphics-cfg/color.cfg))\n",
      "(/usr/share/texlive/texmf-dist/tex/latex/hyperref/nameref.sty\n",
      "(/usr/share/texlive/texmf-dist/tex/latex/refcount/refcount.sty)\n",
      "(/usr/share/texlive/texmf-dist/tex/generic/gettitlestring/gettitlestring.sty))\n",
      "\n",
      "LaTeX Warning: No \\author given.\n",
      "\n",
      "[1{/var/lib/texmf/fonts/map/pdftex/updmap/pdftex.map}]pdfTeX warning (ext4): de\n",
      "stination with the same identifier (name{page.1}) has been already used, duplic\n",
      "ate ignored\n",
      "<to be read again> \n",
      "                   \\relax \n",
      "l.20 \\chapter\n",
      "             {Complex Rotators}% [1]\n",
      "Chapter 1.\n",
      "[2] [3 </home/jovyan/SRMP-JMAG/output/TIC 33736757/68_plot.png> </home/jovyan/S\n",
      "RMP-JMAG/output/TIC 33736757/68_river.png> </home/jovyan/SRMP-JMAG/output/TIC 3\n",
      "3736757/68_periodogram.png>] [4 </home/jovyan/SRMP-JMAG/output/TIC 33736757/67_\n",
      "plot.png> </home/jovyan/SRMP-JMAG/output/TIC 33736757/67_river.png> </home/jovy\n",
      "an/SRMP-JMAG/output/TIC 33736757/67_periodogram.png>] [5 </home/jovyan/SRMP-JMA\n",
      "G/output/TIC 33736757/66_plot.png> </home/jovyan/SRMP-JMAG/output/TIC 33736757/\n",
      "66_river.png> </home/jovyan/SRMP-JMAG/output/TIC 33736757/66_periodogram.png>]\n",
      "[6 </home/jovyan/SRMP-JMAG/output/TIC 33736757/65_plot.png> </home/jovyan/SRMP-\n",
      "JMAG/output/TIC 33736757/65_river.png> </home/jovyan/SRMP-JMAG/output/TIC 33736\n",
      "757/65_periodogram.png>] [7 </home/jovyan/SRMP-JMAG/output/TIC 33736757/61_plot\n",
      ".png> </home/jovyan/SRMP-JMAG/output/TIC 33736757/61_river.png> </home/jovyan/S\n",
      "RMP-JMAG/output/TIC 33736757/61_periodogram.png>] [8 </home/jovyan/SRMP-JMAG/ou\n",
      "tput/TIC 33736757/69_plot.png> </home/jovyan/SRMP-JMAG/output/TIC 33736757/69_r\n",
      "iver.png> </home/jovyan/SRMP-JMAG/output/TIC 33736757/69_periodogram.png>]\n",
      "[9 </home/jovyan/SRMP-JMAG/output/TIC 33736757/63_plot.png> </home/jovyan/SRMP-\n",
      "JMAG/output/TIC 33736757/63_river.png> </home/jovyan/SRMP-JMAG/output/TIC 33736\n",
      "757/63_periodogram.png>] [10 </home/jovyan/SRMP-JMAG/output/TIC 33736757/62_plo\n",
      "t.png> </home/jovyan/SRMP-JMAG/output/TIC 33736757/62_river.png> </home/jovyan/\n",
      "SRMP-JMAG/output/TIC 33736757/62_periodogram.png>] [11 </home/jovyan/SRMP-JMAG/\n",
      "output/TIC 33736757/64_plot.png> </home/jovyan/SRMP-JMAG/output/TIC 33736757/64\n",
      "_river.png> </home/jovyan/SRMP-JMAG/output/TIC 33736757/64_periodogram.png>]\n",
      "[12 </home/jovyan/SRMP-JMAG/output/TIC 30760081/68_plot.png> </home/jovyan/SRMP\n",
      "-JMAG/output/TIC 30760081/68_river.png> </home/jovyan/SRMP-JMAG/output/TIC 3076\n",
      "0081/68_periodogram.png>] [13 </home/jovyan/SRMP-JMAG/output/TIC 30760081/65_pl\n",
      "ot.png> </home/jovyan/SRMP-JMAG/output/TIC 30760081/65_river.png> </home/jovyan\n",
      "/SRMP-JMAG/output/TIC 30760081/65_periodogram.png>] [14 </home/jovyan/SRMP-JMAG\n",
      "/output/TIC 30760081/66_plot.png> </home/jovyan/SRMP-JMAG/output/TIC 30760081/6\n",
      "6_river.png> </home/jovyan/SRMP-JMAG/output/TIC 30760081/66_periodogram.png>]\n",
      "[15 </home/jovyan/SRMP-JMAG/output/TIC 30760081/67_plot.png> </home/jovyan/SRMP\n",
      "-JMAG/output/TIC 30760081/67_river.png> </home/jovyan/SRMP-JMAG/output/TIC 3076\n",
      "0081/67_periodogram.png>] [16 </home/jovyan/SRMP-JMAG/output/TIC 30760081/61_pl\n",
      "ot.png> </home/jovyan/SRMP-JMAG/output/TIC 30760081/61_river.png> </home/jovyan\n",
      "/SRMP-JMAG/output/TIC 30760081/61_periodogram.png>] [17 </home/jovyan/SRMP-JMAG\n",
      "/output/TIC 30760081/69_plot.png> </home/jovyan/SRMP-JMAG/output/TIC 30760081/6\n",
      "9_river.png> </home/jovyan/SRMP-JMAG/output/TIC 30760081/69_periodogram.png>]\n",
      "[18 </home/jovyan/SRMP-JMAG/output/TIC 30760081/62_plot.png> </home/jovyan/SRMP\n",
      "-JMAG/output/TIC 30760081/62_river.png> </home/jovyan/SRMP-JMAG/output/TIC 3076\n",
      "0081/62_periodogram.png>] [19 </home/jovyan/SRMP-JMAG/output/TIC 30760081/63_pl\n",
      "ot.png> </home/jovyan/SRMP-JMAG/output/TIC 30760081/63_river.png> </home/jovyan\n",
      "/SRMP-JMAG/output/TIC 30760081/63_periodogram.png>] [20 </home/jovyan/SRMP-JMAG\n",
      "/output/TIC 293220171/68_plot.png> </home/jovyan/SRMP-JMAG/output/TIC 293220171\n",
      "/68_river.png> </home/jovyan/SRMP-JMAG/output/TIC 293220171/68_periodogram.png>\n",
      "] [21 </home/jovyan/SRMP-JMAG/output/TIC 293220171/67_plot.png> </home/jovyan/S\n",
      "RMP-JMAG/output/TIC 293220171/67_river.png> </home/jovyan/SRMP-JMAG/output/TIC \n",
      "293220171/67_periodogram.png>] [22 </home/jovyan/SRMP-JMAG/output/TIC 293220171\n",
      "/66_plot.png> </home/jovyan/SRMP-JMAG/output/TIC 293220171/66_river.png> </home\n",
      "/jovyan/SRMP-JMAG/output/TIC 293220171/66_periodogram.png>] [23 </home/jovyan/S\n",
      "RMP-JMAG/output/TIC 293220171/65_plot.png> </home/jovyan/SRMP-JMAG/output/TIC 2\n",
      "93220171/65_river.png> </home/jovyan/SRMP-JMAG/output/TIC 293220171/65_periodog\n",
      "ram.png>] [24 </home/jovyan/SRMP-JMAG/output/TIC 293220171/61_plot.png> </home/\n",
      "jovyan/SRMP-JMAG/output/TIC 293220171/61_river.png> </home/jovyan/SRMP-JMAG/out\n",
      "put/TIC 293220171/61_periodogram.png>] [25 </home/jovyan/SRMP-JMAG/output/TIC 2\n",
      "93220171/69_plot.png> </home/jovyan/SRMP-JMAG/output/TIC 293220171/69_river.png\n",
      "> </home/jovyan/SRMP-JMAG/output/TIC 293220171/69_periodogram.png>] [26 </home/\n",
      "jovyan/SRMP-JMAG/output/TIC 293220171/63_plot.png> </home/jovyan/SRMP-JMAG/outp\n",
      "ut/TIC 293220171/63_river.png> </home/jovyan/SRMP-JMAG/output/TIC 293220171/63_\n",
      "periodogram.png>] [27 </home/jovyan/SRMP-JMAG/output/TIC 293220171/62_plot.png>\n",
      " </home/jovyan/SRMP-JMAG/output/TIC 293220171/62_river.png> </home/jovyan/SRMP-\n",
      "JMAG/output/TIC 293220171/62_periodogram.png>] [28 </home/jovyan/SRMP-JMAG/outp\n",
      "ut/TIC 293220171/64_plot.png> </home/jovyan/SRMP-JMAG/output/TIC 293220171/64_r\n",
      "iver.png> </home/jovyan/SRMP-JMAG/output/TIC 293220171/64_periodogram.png>]\n",
      "[29 </home/jovyan/SRMP-JMAG/output/TIC 262874398/68_plot.png> </home/jovyan/SRM\n",
      "P-JMAG/output/TIC 262874398/68_river.png> </home/jovyan/SRMP-JMAG/output/TIC 26\n",
      "2874398/68_periodogram.png>] [30] [31 </home/jovyan/SRMP-JMAG/output/TIC 262874\n",
      "398/69_plot.png> </home/jovyan/SRMP-JMAG/output/TIC 262874398/69_river.png> </h\n",
      "ome/jovyan/SRMP-JMAG/output/TIC 262874398/69_periodogram.png>] [32 </home/jovya\n",
      "n/SRMP-JMAG/output/TIC 262874398/64_plot.png> </home/jovyan/SRMP-JMAG/output/TI\n",
      "C 262874398/64_river.png> </home/jovyan/SRMP-JMAG/output/TIC 262874398/64_perio\n",
      "dogram.png>] [33 </home/jovyan/SRMP-JMAG/output/TIC 261417900/68_plot.png> </ho\n",
      "me/jovyan/SRMP-JMAG/output/TIC 261417900/68_river.png> </home/jovyan/SRMP-JMAG/\n",
      "output/TIC 261417900/68_periodogram.png>] [34 </home/jovyan/SRMP-JMAG/output/TI\n",
      "C 261417900/67_plot.png> </home/jovyan/SRMP-JMAG/output/TIC 261417900/67_river.\n",
      "png> </home/jovyan/SRMP-JMAG/output/TIC 261417900/67_periodogram.png>] [35 </ho\n",
      "me/jovyan/SRMP-JMAG/output/TIC 261417900/61_plot.png> </home/jovyan/SRMP-JMAG/o\n",
      "utput/TIC 261417900/61_river.png> </home/jovyan/SRMP-JMAG/output/TIC 261417900/\n",
      "61_periodogram.png>] [36 </home/jovyan/SRMP-JMAG/output/TIC 261417900/65_plot.p\n",
      "ng> </home/jovyan/SRMP-JMAG/output/TIC 261417900/65_river.png> </home/jovyan/SR\n",
      "MP-JMAG/output/TIC 261417900/65_periodogram.png>] [37 </home/jovyan/SRMP-JMAG/o\n",
      "utput/TIC 261417900/66_plot.png> </home/jovyan/SRMP-JMAG/output/TIC 261417900/6\n",
      "6_river.png> </home/jovyan/SRMP-JMAG/output/TIC 261417900/66_periodogram.png>]\n",
      "[38 </home/jovyan/SRMP-JMAG/output/TIC 261417900/62_plot.png> </home/jovyan/SRM\n",
      "P-JMAG/output/TIC 261417900/62_river.png> </home/jovyan/SRMP-JMAG/output/TIC 26\n",
      "1417900/62_periodogram.png>] [39 </home/jovyan/SRMP-JMAG/output/TIC 261417900/6\n",
      "3_plot.png> </home/jovyan/SRMP-JMAG/output/TIC 261417900/63_river.png> </home/j\n",
      "ovyan/SRMP-JMAG/output/TIC 261417900/63_periodogram.png>] [40 </home/jovyan/SRM\n",
      "P-JMAG/output/TIC 261417900/64_plot.png> </home/jovyan/SRMP-JMAG/output/TIC 261\n",
      "417900/64_river.png> </home/jovyan/SRMP-JMAG/output/TIC 261417900/64_periodogra\n",
      "m.png>] [41 </home/jovyan/SRMP-JMAG/output/TIC 260607779/68_plot.png> </home/jo\n",
      "vyan/SRMP-JMAG/output/TIC 260607779/68_river.png> </home/jovyan/SRMP-JMAG/outpu\n",
      "t/TIC 260607779/68_periodogram.png>] [42 </home/jovyan/SRMP-JMAG/output/TIC 260\n",
      "607779/61_plot.png> </home/jovyan/SRMP-JMAG/output/TIC 260607779/61_river.png> \n",
      "</home/jovyan/SRMP-JMAG/output/TIC 260607779/61_periodogram.png>] [43 </home/jo\n",
      "vyan/SRMP-JMAG/output/TIC 260607779/65_plot.png> </home/jovyan/SRMP-JMAG/output\n",
      "/TIC 260607779/65_river.png> </home/jovyan/SRMP-JMAG/output/TIC 260607779/65_pe\n",
      "riodogram.png>] [44 </home/jovyan/SRMP-JMAG/output/TIC 260607779/66_plot.png> <\n",
      "/home/jovyan/SRMP-JMAG/output/TIC 260607779/66_river.png> </home/jovyan/SRMP-JM\n",
      "AG/output/TIC 260607779/66_periodogram.png>] [45 </home/jovyan/SRMP-JMAG/output\n",
      "/TIC 260607779/67_plot.png> </home/jovyan/SRMP-JMAG/output/TIC 260607779/67_riv\n",
      "er.png> </home/jovyan/SRMP-JMAG/output/TIC 260607779/67_periodogram.png>]\n",
      "[46 </home/jovyan/SRMP-JMAG/output/TIC 260607779/69_plot.png> </home/jovyan/SRM\n",
      "P-JMAG/output/TIC 260607779/69_river.png> </home/jovyan/SRMP-JMAG/output/TIC 26\n",
      "0607779/69_periodogram.png>] [47 </home/jovyan/SRMP-JMAG/output/TIC 260607779/6\n",
      "2_plot.png> </home/jovyan/SRMP-JMAG/output/TIC 260607779/62_river.png> </home/j\n",
      "ovyan/SRMP-JMAG/output/TIC 260607779/62_periodogram.png>] [48 </home/jovyan/SRM\n",
      "P-JMAG/output/TIC 237883499/68_plot.png> </home/jovyan/SRMP-JMAG/output/TIC 237\n",
      "883499/68_river.png> </home/jovyan/SRMP-JMAG/output/TIC 237883499/68_periodogra\n",
      "m.png>] [49 </home/jovyan/SRMP-JMAG/output/TIC 237883499/69_plot.png> </home/jo\n",
      "vyan/SRMP-JMAG/output/TIC 237883499/69_river.png> </home/jovyan/SRMP-JMAG/outpu\n",
      "t/TIC 237883499/69_periodogram.png>] [50 </home/jovyan/SRMP-JMAG/output/TIC 231\n",
      "907750/68_plot.png> </home/jovyan/SRMP-JMAG/output/TIC 231907750/68_river.png> \n",
      "</home/jovyan/SRMP-JMAG/output/TIC 231907750/68_periodogram.png>] [51 </home/jo\n",
      "vyan/SRMP-JMAG/output/TIC 231907750/69_plot.png> </home/jovyan/SRMP-JMAG/output\n",
      "/TIC 231907750/69_river.png> </home/jovyan/SRMP-JMAG/output/TIC 231907750/69_pe\n",
      "riodogram.png>] [52 </home/jovyan/SRMP-JMAG/output/TIC 231494945/61_plot.png> <\n",
      "/home/jovyan/SRMP-JMAG/output/TIC 231494945/61_river.png> </home/jovyan/SRMP-JM\n",
      "AG/output/TIC 231494945/61_periodogram.png>] [53 </home/jovyan/SRMP-JMAG/output\n",
      "/TIC 219212901/68_plot.png> </home/jovyan/SRMP-JMAG/output/TIC 219212901/68_riv\n",
      "er.png> </home/jovyan/SRMP-JMAG/output/TIC 219212901/68_periodogram.png>]\n",
      "[54 </home/jovyan/SRMP-JMAG/output/TIC 219212901/61_plot.png> </home/jovyan/SRM\n",
      "P-JMAG/output/TIC 219212901/61_river.png> </home/jovyan/SRMP-JMAG/output/TIC 21\n",
      "9212901/61_periodogram.png>] [55 </home/jovyan/SRMP-JMAG/output/TIC 219212901/6\n",
      "5_plot.png> </home/jovyan/SRMP-JMAG/output/TIC 219212901/65_river.png> </home/j\n",
      "ovyan/SRMP-JMAG/output/TIC 219212901/65_periodogram.png>] [56 </home/jovyan/SRM\n",
      "P-JMAG/output/TIC 219212901/66_plot.png> </home/jovyan/SRMP-JMAG/output/TIC 219\n",
      "212901/66_river.png> </home/jovyan/SRMP-JMAG/output/TIC 219212901/66_periodogra\n",
      "m.png>] [57 </home/jovyan/SRMP-JMAG/output/TIC 219212901/67_plot.png> </home/jo\n",
      "vyan/SRMP-JMAG/output/TIC 219212901/67_river.png> </home/jovyan/SRMP-JMAG/outpu\n",
      "t/TIC 219212901/67_periodogram.png>] [58 </home/jovyan/SRMP-JMAG/output/TIC 219\n",
      "212901/69_plot.png> </home/jovyan/SRMP-JMAG/output/TIC 219212901/69_river.png> \n",
      "</home/jovyan/SRMP-JMAG/output/TIC 219212901/69_periodogram.png>] [59 </home/jo\n",
      "vyan/SRMP-JMAG/output/TIC 219167848/68_plot.png> </home/jovyan/SRMP-JMAG/output\n",
      "/TIC 219167848/68_river.png> </home/jovyan/SRMP-JMAG/output/TIC 219167848/68_pe\n",
      "riodogram.png>] [60 </home/jovyan/SRMP-JMAG/output/TIC 219167848/61_plot.png> <\n",
      "/home/jovyan/SRMP-JMAG/output/TIC 219167848/61_river.png> </home/jovyan/SRMP-JM\n",
      "AG/output/TIC 219167848/61_periodogram.png>] [61 </home/jovyan/SRMP-JMAG/output\n",
      "/TIC 167655367/68_plot.png> </home/jovyan/SRMP-JMAG/output/TIC 167655367/68_riv\n",
      "er.png> </home/jovyan/SRMP-JMAG/output/TIC 167655367/68_periodogram.png>]\n",
      "[62 </home/jovyan/SRMP-JMAG/output/TIC 167655367/67_plot.png> </home/jovyan/SRM\n",
      "P-JMAG/output/TIC 167655367/67_river.png> </home/jovyan/SRMP-JMAG/output/TIC 16\n",
      "7655367/67_periodogram.png>] [63 </home/jovyan/SRMP-JMAG/output/TIC 167655367/6\n",
      "6_plot.png> </home/jovyan/SRMP-JMAG/output/TIC 167655367/66_river.png> </home/j\n",
      "ovyan/SRMP-JMAG/output/TIC 167655367/66_periodogram.png>] [64 </home/jovyan/SRM\n",
      "P-JMAG/output/TIC 167655367/65_plot.png> </home/jovyan/SRMP-JMAG/output/TIC 167\n",
      "655367/65_river.png> </home/jovyan/SRMP-JMAG/output/TIC 167655367/65_periodogra\n",
      "m.png>] [65 </home/jovyan/SRMP-JMAG/output/TIC 167655367/61_plot.png> </home/jo\n",
      "vyan/SRMP-JMAG/output/TIC 167655367/61_river.png> </home/jovyan/SRMP-JMAG/outpu\n",
      "t/TIC 167655367/61_periodogram.png>] [66 </home/jovyan/SRMP-JMAG/output/TIC 167\n",
      "655367/69_plot.png> </home/jovyan/SRMP-JMAG/output/TIC 167655367/69_river.png> \n",
      "</home/jovyan/SRMP-JMAG/output/TIC 167655367/69_periodogram.png>] [67 </home/jo\n",
      "vyan/SRMP-JMAG/output/TIC 167655367/63_plot.png> </home/jovyan/SRMP-JMAG/output\n",
      "/TIC 167655367/63_river.png> </home/jovyan/SRMP-JMAG/output/TIC 167655367/63_pe\n",
      "riodogram.png>] [68 </home/jovyan/SRMP-JMAG/output/TIC 167655367/62_plot.png> <\n",
      "/home/jovyan/SRMP-JMAG/output/TIC 167655367/62_river.png> </home/jovyan/SRMP-JM\n",
      "AG/output/TIC 167655367/62_periodogram.png>] [69 </home/jovyan/SRMP-JMAG/output\n",
      "/TIC 167655367/64_plot.png> </home/jovyan/SRMP-JMAG/output/TIC 167655367/64_riv\n",
      "er.png> </home/jovyan/SRMP-JMAG/output/TIC 167655367/64_periodogram.png>]\n",
      "[70 </home/jovyan/SRMP-JMAG/output/TIC 167169329/68_plot.png> </home/jovyan/SRM\n",
      "P-JMAG/output/TIC 167169329/68_river.png> </home/jovyan/SRMP-JMAG/output/TIC 16\n",
      "7169329/68_periodogram.png>] [71 </home/jovyan/SRMP-JMAG/output/TIC 167169329/6\n",
      "1_plot.png> </home/jovyan/SRMP-JMAG/output/TIC 167169329/61_river.png> </home/j\n",
      "ovyan/SRMP-JMAG/output/TIC 167169329/61_periodogram.png>] [72 </home/jovyan/SRM\n",
      "P-JMAG/output/TIC 167169329/65_plot.png> </home/jovyan/SRMP-JMAG/output/TIC 167\n",
      "169329/65_river.png> </home/jovyan/SRMP-JMAG/output/TIC 167169329/65_periodogra\n",
      "m.png>] [73 </home/jovyan/SRMP-JMAG/output/TIC 167169329/66_plot.png> </home/jo\n",
      "vyan/SRMP-JMAG/output/TIC 167169329/66_river.png> </home/jovyan/SRMP-JMAG/outpu\n",
      "t/TIC 167169329/66_periodogram.png>] [74 </home/jovyan/SRMP-JMAG/output/TIC 167\n",
      "169329/67_plot.png> </home/jovyan/SRMP-JMAG/output/TIC 167169329/67_river.png> \n",
      "</home/jovyan/SRMP-JMAG/output/TIC 167169329/67_periodogram.png>] [75 </home/jo\n",
      "vyan/SRMP-JMAG/output/TIC 167169329/69_plot.png> </home/jovyan/SRMP-JMAG/output\n",
      "/TIC 167169329/69_river.png> </home/jovyan/SRMP-JMAG/output/TIC 167169329/69_pe\n",
      "riodogram.png>] [76 </home/jovyan/SRMP-JMAG/output/TIC 167169329/63_plot.png> <\n",
      "/home/jovyan/SRMP-JMAG/output/TIC 167169329/63_river.png> </home/jovyan/SRMP-JM\n",
      "AG/output/TIC 167169329/63_periodogram.png>] [77 </home/jovyan/SRMP-JMAG/output\n",
      "/TIC 167169329/64_plot.png> </home/jovyan/SRMP-JMAG/output/TIC 167169329/64_riv\n",
      "er.png> </home/jovyan/SRMP-JMAG/output/TIC 167169329/64_periodogram.png>]\n",
      "[78 </home/jovyan/SRMP-JMAG/output/TIC 150249278/68_plot.png> </home/jovyan/SRM\n",
      "P-JMAG/output/TIC 150249278/68_river.png> </home/jovyan/SRMP-JMAG/output/TIC 15\n",
      "0249278/68_periodogram.png>] [79 </home/jovyan/SRMP-JMAG/output/TIC 150249278/6\n",
      "7_plot.png> </home/jovyan/SRMP-JMAG/output/TIC 150249278/67_river.png> </home/j\n",
      "ovyan/SRMP-JMAG/output/TIC 150249278/67_periodogram.png>] [80 </home/jovyan/SRM\n",
      "P-JMAG/output/TIC 150249278/66_plot.png> </home/jovyan/SRMP-JMAG/output/TIC 150\n",
      "249278/66_river.png> </home/jovyan/SRMP-JMAG/output/TIC 150249278/66_periodogra\n",
      "m.png>] [81 </home/jovyan/SRMP-JMAG/output/TIC 150249278/65_plot.png> </home/jo\n",
      "vyan/SRMP-JMAG/output/TIC 150249278/65_river.png> </home/jovyan/SRMP-JMAG/outpu\n",
      "t/TIC 150249278/65_periodogram.png>] [82 </home/jovyan/SRMP-JMAG/output/TIC 150\n",
      "249278/61_plot.png> </home/jovyan/SRMP-JMAG/output/TIC 150249278/61_river.png> \n",
      "</home/jovyan/SRMP-JMAG/output/TIC 150249278/61_periodogram.png>] [83 </home/jo\n",
      "vyan/SRMP-JMAG/output/TIC 150249278/69_plot.png> </home/jovyan/SRMP-JMAG/output\n",
      "/TIC 150249278/69_river.png> </home/jovyan/SRMP-JMAG/output/TIC 150249278/69_pe\n",
      "riodogram.png>] [84 </home/jovyan/SRMP-JMAG/output/TIC 150249278/63_plot.png> <\n",
      "/home/jovyan/SRMP-JMAG/output/TIC 150249278/63_river.png> </home/jovyan/SRMP-JM\n",
      "AG/output/TIC 150249278/63_periodogram.png>] [85 </home/jovyan/SRMP-JMAG/output\n",
      "/TIC 150249278/62_plot.png> </home/jovyan/SRMP-JMAG/output/TIC 150249278/62_riv\n",
      "er.png> </home/jovyan/SRMP-JMAG/output/TIC 150249278/62_periodogram.png>]\n",
      "[86 </home/jovyan/SRMP-JMAG/output/TIC 150249278/64_plot.png> </home/jovyan/SRM\n",
      "P-JMAG/output/TIC 150249278/64_river.png> </home/jovyan/SRMP-JMAG/output/TIC 15\n",
      "0249278/64_periodogram.png>] [87 </home/jovyan/SRMP-JMAG/output/TIC 149930020/6\n",
      "8_plot.png> </home/jovyan/SRMP-JMAG/output/TIC 149930020/68_river.png> </home/j\n",
      "ovyan/SRMP-JMAG/output/TIC 149930020/68_periodogram.png>] [88 </home/jovyan/SRM\n",
      "P-JMAG/output/TIC 149930020/65_plot.png> </home/jovyan/SRMP-JMAG/output/TIC 149\n",
      "930020/65_river.png> </home/jovyan/SRMP-JMAG/output/TIC 149930020/65_periodogra\n",
      "m.png>] [89 </home/jovyan/SRMP-JMAG/output/TIC 149930020/66_plot.png> </home/jo\n",
      "vyan/SRMP-JMAG/output/TIC 149930020/66_river.png> </home/jovyan/SRMP-JMAG/outpu\n",
      "t/TIC 149930020/66_periodogram.png>] [90 </home/jovyan/SRMP-JMAG/output/TIC 149\n",
      "930020/67_plot.png> </home/jovyan/SRMP-JMAG/output/TIC 149930020/67_river.png> \n",
      "</home/jovyan/SRMP-JMAG/output/TIC 149930020/67_periodogram.png>] [91] [92 </ho\n",
      "me/jovyan/SRMP-JMAG/output/TIC 149930020/69_plot.png> </home/jovyan/SRMP-JMAG/o\n",
      "utput/TIC 149930020/69_river.png> </home/jovyan/SRMP-JMAG/output/TIC 149930020/\n",
      "69_periodogram.png>] [93 </home/jovyan/SRMP-JMAG/output/TIC 149930020/62_plot.p\n",
      "ng> </home/jovyan/SRMP-JMAG/output/TIC 149930020/62_river.png> </home/jovyan/SR\n",
      "MP-JMAG/output/TIC 149930020/62_periodogram.png>] [94 </home/jovyan/SRMP-JMAG/o\n",
      "utput/TIC 149930020/64_plot.png> </home/jovyan/SRMP-JMAG/output/TIC 149930020/6\n",
      "4_river.png> </home/jovyan/SRMP-JMAG/output/TIC 149930020/64_periodogram.png>]\n",
      "[95 </home/jovyan/SRMP-JMAG/output/TIC 149570686/68_plot.png> </home/jovyan/SRM\n",
      "P-JMAG/output/TIC 149570686/68_river.png> </home/jovyan/SRMP-JMAG/output/TIC 14\n",
      "9570686/68_periodogram.png>] [96 </home/jovyan/SRMP-JMAG/output/TIC 149570686/6\n",
      "5_plot.png> </home/jovyan/SRMP-JMAG/output/TIC 149570686/65_river.png> </home/j\n",
      "ovyan/SRMP-JMAG/output/TIC 149570686/65_periodogram.png>] [97 </home/jovyan/SRM\n",
      "P-JMAG/output/TIC 149570686/66_plot.png> </home/jovyan/SRMP-JMAG/output/TIC 149\n",
      "570686/66_river.png> </home/jovyan/SRMP-JMAG/output/TIC 149570686/66_periodogra\n",
      "m.png>] [98 </home/jovyan/SRMP-JMAG/output/TIC 149570686/61_plot.png> </home/jo\n",
      "vyan/SRMP-JMAG/output/TIC 149570686/61_river.png> </home/jovyan/SRMP-JMAG/outpu\n",
      "t/TIC 149570686/61_periodogram.png>] [99 </home/jovyan/SRMP-JMAG/output/TIC 149\n",
      "570686/69_plot.png> </home/jovyan/SRMP-JMAG/output/TIC 149570686/69_river.png> \n",
      "</home/jovyan/SRMP-JMAG/output/TIC 149570686/69_periodogram.png>] [100 </home/j\n",
      "ovyan/SRMP-JMAG/output/TIC 149570686/62_plot.png> </home/jovyan/SRMP-JMAG/outpu\n",
      "t/TIC 149570686/62_river.png> </home/jovyan/SRMP-JMAG/output/TIC 149570686/62_p\n",
      "eriodogram.png>] [101 </home/jovyan/SRMP-JMAG/output/TIC 149570686/64_plot.png>\n",
      " </home/jovyan/SRMP-JMAG/output/TIC 149570686/64_river.png> </home/jovyan/SRMP-\n",
      "JMAG/output/TIC 149570686/64_periodogram.png>]\n",
      "Chapter 2.\n",
      "[102]\n",
      "\n",
      "Package lastpage Warning: Rerun to get the references right on input line 3304.\n",
      "\n",
      "\n",
      "\n",
      "AED: lastpage setting LastPage\n",
      "[103 </home/jovyan/SRMP-JMAG/output/TIC 149930020/63_plot.png> </home/jovyan/SR\n",
      "MP-JMAG/output/TIC 149930020/63_river.png> </home/jovyan/SRMP-JMAG/output/TIC 1\n",
      "49930020/63_periodogram.png>] (./main.aux)\n",
      "\n",
      "Package rerunfilecheck Warning: File `main.out' has changed.\n",
      "(rerunfilecheck)                Rerun to get outlines right\n",
      "(rerunfilecheck)                or use package `bookmark'.\n",
      "\n",
      "\n",
      "LaTeX Warning: Label(s) may have changed. Rerun to get cross-references right.\n",
      "\n",
      " )\n",
      "(see the transcript file for additional information){/usr/share/texmf/fonts/enc\n",
      "/dvips/cm-super/cm-super-t1.enc}</usr/share/texmf/fonts/type1/public/cm-super/s\n",
      "fbx1200.pfb></usr/share/texmf/fonts/type1/public/cm-super/sfbx1440.pfb></usr/sh\n",
      "are/texmf/fonts/type1/public/cm-super/sfbx2074.pfb></usr/share/texmf/fonts/type\n",
      "1/public/cm-super/sfbx2488.pfb></usr/share/texmf/fonts/type1/public/cm-super/sf\n",
      "rm1000.pfb></usr/share/texmf/fonts/type1/public/cm-super/sfrm1200.pfb></usr/sha\n",
      "re/texmf/fonts/type1/public/cm-super/sfrm1728.pfb>\n",
      "Output written on main.pdf (104 pages, 17943312 bytes).\n",
      "Transcript written on main.log.\n",
      "This is pdfTeX, Version 3.14159265-2.6-1.40.20 (TeX Live 2019/Debian) (preloaded format=pdflatex)\n",
      " restricted \\write18 enabled.\n",
      "entering extended mode\n",
      "(./main.tex\n",
      "LaTeX2e <2020-02-02> patch level 2\n",
      "L3 programming layer <2020-02-14>\n",
      "(/usr/share/texlive/texmf-dist/tex/latex/base/report.cls\n",
      "Document Class: report 2019/12/20 v1.4l Standard LaTeX document class\n",
      "(/usr/share/texlive/texmf-dist/tex/latex/base/size10.clo))\n",
      "(/usr/share/texlive/texmf-dist/tex/latex/base/fontenc.sty)\n",
      "(/usr/share/texlive/texmf-dist/tex/latex/base/inputenc.sty)\n",
      "(/usr/share/texlive/texmf-dist/tex/latex/base/textcomp.sty)\n",
      "(/usr/share/texlive/texmf-dist/tex/latex/lastpage/lastpage.sty)\n",
      "(/usr/share/texlive/texmf-dist/tex/latex/geometry/geometry.sty\n",
      "(/usr/share/texlive/texmf-dist/tex/latex/graphics/keyval.sty)\n",
      "(/usr/share/texlive/texmf-dist/tex/generic/iftex/ifvtex.sty\n",
      "(/usr/share/texlive/texmf-dist/tex/generic/iftex/iftex.sty)))\n",
      "(/usr/share/texlive/texmf-dist/tex/latex/graphics/graphicx.sty\n",
      "(/usr/share/texlive/texmf-dist/tex/latex/graphics/graphics.sty\n",
      "(/usr/share/texlive/texmf-dist/tex/latex/graphics/trig.sty)\n",
      "(/usr/share/texlive/texmf-dist/tex/latex/graphics-cfg/graphics.cfg)\n",
      "(/usr/share/texlive/texmf-dist/tex/latex/graphics-def/pdftex.def)))\n",
      "(/usr/share/texlive/texmf-dist/tex/latex/float/float.sty)\n",
      "(/usr/share/texlive/texmf-dist/tex/latex/hyperref/hyperref.sty\n",
      "(/usr/share/texlive/texmf-dist/tex/generic/ltxcmds/ltxcmds.sty)\n",
      "(/usr/share/texlive/texmf-dist/tex/latex/pdftexcmds/pdftexcmds.sty\n",
      "(/usr/share/texlive/texmf-dist/tex/generic/infwarerr/infwarerr.sty))\n",
      "(/usr/share/texlive/texmf-dist/tex/generic/kvsetkeys/kvsetkeys.sty)\n",
      "(/usr/share/texlive/texmf-dist/tex/generic/kvdefinekeys/kvdefinekeys.sty)\n",
      "(/usr/share/texlive/texmf-dist/tex/generic/pdfescape/pdfescape.sty)\n",
      "(/usr/share/texlive/texmf-dist/tex/latex/hycolor/hycolor.sty)\n",
      "(/usr/share/texlive/texmf-dist/tex/latex/letltxmacro/letltxmacro.sty)\n",
      "(/usr/share/texlive/texmf-dist/tex/latex/auxhook/auxhook.sty)\n",
      "(/usr/share/texlive/texmf-dist/tex/latex/kvoptions/kvoptions.sty)\n",
      "(/usr/share/texlive/texmf-dist/tex/latex/hyperref/pd1enc.def)\n",
      "(/usr/share/texlive/texmf-dist/tex/generic/intcalc/intcalc.sty)\n",
      "(/usr/share/texlive/texmf-dist/tex/generic/etexcmds/etexcmds.sty)\n",
      "(/usr/share/texlive/texmf-dist/tex/latex/url/url.sty)\n",
      "(/usr/share/texlive/texmf-dist/tex/generic/bitset/bitset.sty\n",
      "(/usr/share/texlive/texmf-dist/tex/generic/bigintcalc/bigintcalc.sty))\n",
      "(/usr/share/texlive/texmf-dist/tex/generic/atbegshi/atbegshi.sty))\n",
      "(/usr/share/texlive/texmf-dist/tex/latex/hyperref/hpdftex.def\n",
      "(/usr/share/texlive/texmf-dist/tex/latex/atveryend/atveryend.sty)\n",
      "(/usr/share/texlive/texmf-dist/tex/latex/rerunfilecheck/rerunfilecheck.sty\n",
      "(/usr/share/texlive/texmf-dist/tex/generic/uniquecounter/uniquecounter.sty)))\n",
      "(/usr/share/texlive/texmf-dist/tex/latex/l3backend/l3backend-pdfmode.def)\n",
      "(./main.aux\n",
      "\n",
      "LaTeX Warning: Label `sec:TIC149930020' multiply defined.\n",
      "\n",
      ")\n",
      "*geometry* driver: auto-detecting\n",
      "*geometry* detected driver: pdftex\n",
      "(/usr/share/texlive/texmf-dist/tex/context/base/mkii/supp-pdf.mkii\n",
      "[Loading MPS to PDF converter (version 2006.09.02).]\n",
      ") (/usr/share/texlive/texmf-dist/tex/latex/epstopdf-pkg/epstopdf-base.sty\n",
      "(/usr/share/texlive/texmf-dist/tex/latex/latexconfig/epstopdf-sys.cfg))\n",
      "(/usr/share/texlive/texmf-dist/tex/latex/graphics/color.sty\n",
      "(/usr/share/texlive/texmf-dist/tex/latex/graphics-cfg/color.cfg))\n",
      "(/usr/share/texlive/texmf-dist/tex/latex/hyperref/nameref.sty\n",
      "(/usr/share/texlive/texmf-dist/tex/latex/refcount/refcount.sty)\n",
      "(/usr/share/texlive/texmf-dist/tex/generic/gettitlestring/gettitlestring.sty))\n",
      "(./main.out) (./main.out)\n",
      "\n",
      "LaTeX Warning: No \\author given.\n",
      "\n",
      "[1{/var/lib/texmf/fonts/map/pdftex/updmap/pdftex.map}] (./main.tocpdfTeX warnin\n",
      "g (ext4): destination with the same identifier (name{page.1}) has been already \n",
      "used, duplicate ignored\n",
      "<to be read again> \n",
      "                   \\relax \n",
      "l.50 ...ne {1.6.5}Sector 67}{45}{subsection.1.6.5}\n",
      "                                                  % [1] [2]) [3]\n",
      "Chapter 1.\n",
      "[4] [5 </home/jovyan/SRMP-JMAG/output/TIC 33736757/68_plot.png> </home/jovyan/S\n",
      "RMP-JMAG/output/TIC 33736757/68_river.png> </home/jovyan/SRMP-JMAG/output/TIC 3\n",
      "3736757/68_periodogram.png>] [6 </home/jovyan/SRMP-JMAG/output/TIC 33736757/67_\n",
      "plot.png> </home/jovyan/SRMP-JMAG/output/TIC 33736757/67_river.png> </home/jovy\n",
      "an/SRMP-JMAG/output/TIC 33736757/67_periodogram.png>] [7 </home/jovyan/SRMP-JMA\n",
      "G/output/TIC 33736757/66_plot.png> </home/jovyan/SRMP-JMAG/output/TIC 33736757/\n",
      "66_river.png> </home/jovyan/SRMP-JMAG/output/TIC 33736757/66_periodogram.png>]\n",
      "[8 </home/jovyan/SRMP-JMAG/output/TIC 33736757/65_plot.png> </home/jovyan/SRMP-\n",
      "JMAG/output/TIC 33736757/65_river.png> </home/jovyan/SRMP-JMAG/output/TIC 33736\n",
      "757/65_periodogram.png>] [9 </home/jovyan/SRMP-JMAG/output/TIC 33736757/61_plot\n",
      ".png> </home/jovyan/SRMP-JMAG/output/TIC 33736757/61_river.png> </home/jovyan/S\n",
      "RMP-JMAG/output/TIC 33736757/61_periodogram.png>] [10 </home/jovyan/SRMP-JMAG/o\n",
      "utput/TIC 33736757/69_plot.png> </home/jovyan/SRMP-JMAG/output/TIC 33736757/69_\n",
      "river.png> </home/jovyan/SRMP-JMAG/output/TIC 33736757/69_periodogram.png>]\n",
      "[11 </home/jovyan/SRMP-JMAG/output/TIC 33736757/63_plot.png> </home/jovyan/SRMP\n",
      "-JMAG/output/TIC 33736757/63_river.png> </home/jovyan/SRMP-JMAG/output/TIC 3373\n",
      "6757/63_periodogram.png>] [12 </home/jovyan/SRMP-JMAG/output/TIC 33736757/62_pl\n",
      "ot.png> </home/jovyan/SRMP-JMAG/output/TIC 33736757/62_river.png> </home/jovyan\n",
      "/SRMP-JMAG/output/TIC 33736757/62_periodogram.png>] [13 </home/jovyan/SRMP-JMAG\n",
      "/output/TIC 33736757/64_plot.png> </home/jovyan/SRMP-JMAG/output/TIC 33736757/6\n",
      "4_river.png> </home/jovyan/SRMP-JMAG/output/TIC 33736757/64_periodogram.png>]\n",
      "[14 </home/jovyan/SRMP-JMAG/output/TIC 30760081/68_plot.png> </home/jovyan/SRMP\n",
      "-JMAG/output/TIC 30760081/68_river.png> </home/jovyan/SRMP-JMAG/output/TIC 3076\n",
      "0081/68_periodogram.png>] [15 </home/jovyan/SRMP-JMAG/output/TIC 30760081/65_pl\n",
      "ot.png> </home/jovyan/SRMP-JMAG/output/TIC 30760081/65_river.png> </home/jovyan\n",
      "/SRMP-JMAG/output/TIC 30760081/65_periodogram.png>] [16 </home/jovyan/SRMP-JMAG\n",
      "/output/TIC 30760081/66_plot.png> </home/jovyan/SRMP-JMAG/output/TIC 30760081/6\n",
      "6_river.png> </home/jovyan/SRMP-JMAG/output/TIC 30760081/66_periodogram.png>]\n",
      "[17 </home/jovyan/SRMP-JMAG/output/TIC 30760081/67_plot.png> </home/jovyan/SRMP\n",
      "-JMAG/output/TIC 30760081/67_river.png> </home/jovyan/SRMP-JMAG/output/TIC 3076\n",
      "0081/67_periodogram.png>] [18 </home/jovyan/SRMP-JMAG/output/TIC 30760081/61_pl\n",
      "ot.png> </home/jovyan/SRMP-JMAG/output/TIC 30760081/61_river.png> </home/jovyan\n",
      "/SRMP-JMAG/output/TIC 30760081/61_periodogram.png>] [19 </home/jovyan/SRMP-JMAG\n",
      "/output/TIC 30760081/69_plot.png> </home/jovyan/SRMP-JMAG/output/TIC 30760081/6\n",
      "9_river.png> </home/jovyan/SRMP-JMAG/output/TIC 30760081/69_periodogram.png>]\n",
      "[20 </home/jovyan/SRMP-JMAG/output/TIC 30760081/62_plot.png> </home/jovyan/SRMP\n",
      "-JMAG/output/TIC 30760081/62_river.png> </home/jovyan/SRMP-JMAG/output/TIC 3076\n",
      "0081/62_periodogram.png>] [21 </home/jovyan/SRMP-JMAG/output/TIC 30760081/63_pl\n",
      "ot.png> </home/jovyan/SRMP-JMAG/output/TIC 30760081/63_river.png> </home/jovyan\n",
      "/SRMP-JMAG/output/TIC 30760081/63_periodogram.png>] [22 </home/jovyan/SRMP-JMAG\n",
      "/output/TIC 293220171/68_plot.png> </home/jovyan/SRMP-JMAG/output/TIC 293220171\n",
      "/68_river.png> </home/jovyan/SRMP-JMAG/output/TIC 293220171/68_periodogram.png>\n",
      "] [23 </home/jovyan/SRMP-JMAG/output/TIC 293220171/67_plot.png> </home/jovyan/S\n",
      "RMP-JMAG/output/TIC 293220171/67_river.png> </home/jovyan/SRMP-JMAG/output/TIC \n",
      "293220171/67_periodogram.png>] [24 </home/jovyan/SRMP-JMAG/output/TIC 293220171\n",
      "/66_plot.png> </home/jovyan/SRMP-JMAG/output/TIC 293220171/66_river.png> </home\n",
      "/jovyan/SRMP-JMAG/output/TIC 293220171/66_periodogram.png>] [25 </home/jovyan/S\n",
      "RMP-JMAG/output/TIC 293220171/65_plot.png> </home/jovyan/SRMP-JMAG/output/TIC 2\n",
      "93220171/65_river.png> </home/jovyan/SRMP-JMAG/output/TIC 293220171/65_periodog\n",
      "ram.png>] [26 </home/jovyan/SRMP-JMAG/output/TIC 293220171/61_plot.png> </home/\n",
      "jovyan/SRMP-JMAG/output/TIC 293220171/61_river.png> </home/jovyan/SRMP-JMAG/out\n",
      "put/TIC 293220171/61_periodogram.png>] [27 </home/jovyan/SRMP-JMAG/output/TIC 2\n",
      "93220171/69_plot.png> </home/jovyan/SRMP-JMAG/output/TIC 293220171/69_river.png\n",
      "> </home/jovyan/SRMP-JMAG/output/TIC 293220171/69_periodogram.png>] [28 </home/\n",
      "jovyan/SRMP-JMAG/output/TIC 293220171/63_plot.png> </home/jovyan/SRMP-JMAG/outp\n",
      "ut/TIC 293220171/63_river.png> </home/jovyan/SRMP-JMAG/output/TIC 293220171/63_\n",
      "periodogram.png>] [29 </home/jovyan/SRMP-JMAG/output/TIC 293220171/62_plot.png>\n",
      " </home/jovyan/SRMP-JMAG/output/TIC 293220171/62_river.png> </home/jovyan/SRMP-\n",
      "JMAG/output/TIC 293220171/62_periodogram.png>] [30 </home/jovyan/SRMP-JMAG/outp\n",
      "ut/TIC 293220171/64_plot.png> </home/jovyan/SRMP-JMAG/output/TIC 293220171/64_r\n",
      "iver.png> </home/jovyan/SRMP-JMAG/output/TIC 293220171/64_periodogram.png>]\n",
      "[31 </home/jovyan/SRMP-JMAG/output/TIC 262874398/68_plot.png> </home/jovyan/SRM\n",
      "P-JMAG/output/TIC 262874398/68_river.png> </home/jovyan/SRMP-JMAG/output/TIC 26\n",
      "2874398/68_periodogram.png>] [32] [33 </home/jovyan/SRMP-JMAG/output/TIC 262874\n",
      "398/69_plot.png> </home/jovyan/SRMP-JMAG/output/TIC 262874398/69_river.png> </h\n",
      "ome/jovyan/SRMP-JMAG/output/TIC 262874398/69_periodogram.png>] [34 </home/jovya\n",
      "n/SRMP-JMAG/output/TIC 262874398/64_plot.png> </home/jovyan/SRMP-JMAG/output/TI\n",
      "C 262874398/64_river.png> </home/jovyan/SRMP-JMAG/output/TIC 262874398/64_perio\n",
      "dogram.png>] [35 </home/jovyan/SRMP-JMAG/output/TIC 261417900/68_plot.png> </ho\n",
      "me/jovyan/SRMP-JMAG/output/TIC 261417900/68_river.png> </home/jovyan/SRMP-JMAG/\n",
      "output/TIC 261417900/68_periodogram.png>] [36 </home/jovyan/SRMP-JMAG/output/TI\n",
      "C 261417900/67_plot.png> </home/jovyan/SRMP-JMAG/output/TIC 261417900/67_river.\n",
      "png> </home/jovyan/SRMP-JMAG/output/TIC 261417900/67_periodogram.png>] [37 </ho\n",
      "me/jovyan/SRMP-JMAG/output/TIC 261417900/61_plot.png> </home/jovyan/SRMP-JMAG/o\n",
      "utput/TIC 261417900/61_river.png> </home/jovyan/SRMP-JMAG/output/TIC 261417900/\n",
      "61_periodogram.png>] [38 </home/jovyan/SRMP-JMAG/output/TIC 261417900/65_plot.p\n",
      "ng> </home/jovyan/SRMP-JMAG/output/TIC 261417900/65_river.png> </home/jovyan/SR\n",
      "MP-JMAG/output/TIC 261417900/65_periodogram.png>] [39 </home/jovyan/SRMP-JMAG/o\n",
      "utput/TIC 261417900/66_plot.png> </home/jovyan/SRMP-JMAG/output/TIC 261417900/6\n",
      "6_river.png> </home/jovyan/SRMP-JMAG/output/TIC 261417900/66_periodogram.png>]\n",
      "[40 </home/jovyan/SRMP-JMAG/output/TIC 261417900/62_plot.png> </home/jovyan/SRM\n",
      "P-JMAG/output/TIC 261417900/62_river.png> </home/jovyan/SRMP-JMAG/output/TIC 26\n",
      "1417900/62_periodogram.png>] [41 </home/jovyan/SRMP-JMAG/output/TIC 261417900/6\n",
      "3_plot.png> </home/jovyan/SRMP-JMAG/output/TIC 261417900/63_river.png> </home/j\n",
      "ovyan/SRMP-JMAG/output/TIC 261417900/63_periodogram.png>] [42 </home/jovyan/SRM\n",
      "P-JMAG/output/TIC 261417900/64_plot.png> </home/jovyan/SRMP-JMAG/output/TIC 261\n",
      "417900/64_river.png> </home/jovyan/SRMP-JMAG/output/TIC 261417900/64_periodogra\n",
      "m.png>] [43 </home/jovyan/SRMP-JMAG/output/TIC 260607779/68_plot.png> </home/jo\n",
      "vyan/SRMP-JMAG/output/TIC 260607779/68_river.png> </home/jovyan/SRMP-JMAG/outpu\n",
      "t/TIC 260607779/68_periodogram.png>] [44 </home/jovyan/SRMP-JMAG/output/TIC 260\n",
      "607779/61_plot.png> </home/jovyan/SRMP-JMAG/output/TIC 260607779/61_river.png> \n",
      "</home/jovyan/SRMP-JMAG/output/TIC 260607779/61_periodogram.png>] [45 </home/jo\n",
      "vyan/SRMP-JMAG/output/TIC 260607779/65_plot.png> </home/jovyan/SRMP-JMAG/output\n",
      "/TIC 260607779/65_river.png> </home/jovyan/SRMP-JMAG/output/TIC 260607779/65_pe\n",
      "riodogram.png>] [46 </home/jovyan/SRMP-JMAG/output/TIC 260607779/66_plot.png> <\n",
      "/home/jovyan/SRMP-JMAG/output/TIC 260607779/66_river.png> </home/jovyan/SRMP-JM\n",
      "AG/output/TIC 260607779/66_periodogram.png>] [47 </home/jovyan/SRMP-JMAG/output\n",
      "/TIC 260607779/67_plot.png> </home/jovyan/SRMP-JMAG/output/TIC 260607779/67_riv\n",
      "er.png> </home/jovyan/SRMP-JMAG/output/TIC 260607779/67_periodogram.png>]\n",
      "[48 </home/jovyan/SRMP-JMAG/output/TIC 260607779/69_plot.png> </home/jovyan/SRM\n",
      "P-JMAG/output/TIC 260607779/69_river.png> </home/jovyan/SRMP-JMAG/output/TIC 26\n",
      "0607779/69_periodogram.png>] [49 </home/jovyan/SRMP-JMAG/output/TIC 260607779/6\n",
      "2_plot.png> </home/jovyan/SRMP-JMAG/output/TIC 260607779/62_river.png> </home/j\n",
      "ovyan/SRMP-JMAG/output/TIC 260607779/62_periodogram.png>] [50 </home/jovyan/SRM\n",
      "P-JMAG/output/TIC 237883499/68_plot.png> </home/jovyan/SRMP-JMAG/output/TIC 237\n",
      "883499/68_river.png> </home/jovyan/SRMP-JMAG/output/TIC 237883499/68_periodogra\n",
      "m.png>] [51 </home/jovyan/SRMP-JMAG/output/TIC 237883499/69_plot.png> </home/jo\n",
      "vyan/SRMP-JMAG/output/TIC 237883499/69_river.png> </home/jovyan/SRMP-JMAG/outpu\n",
      "t/TIC 237883499/69_periodogram.png>] [52 </home/jovyan/SRMP-JMAG/output/TIC 231\n",
      "907750/68_plot.png> </home/jovyan/SRMP-JMAG/output/TIC 231907750/68_river.png> \n",
      "</home/jovyan/SRMP-JMAG/output/TIC 231907750/68_periodogram.png>] [53 </home/jo\n",
      "vyan/SRMP-JMAG/output/TIC 231907750/69_plot.png> </home/jovyan/SRMP-JMAG/output\n",
      "/TIC 231907750/69_river.png> </home/jovyan/SRMP-JMAG/output/TIC 231907750/69_pe\n",
      "riodogram.png>] [54 </home/jovyan/SRMP-JMAG/output/TIC 231494945/61_plot.png> <\n",
      "/home/jovyan/SRMP-JMAG/output/TIC 231494945/61_river.png> </home/jovyan/SRMP-JM\n",
      "AG/output/TIC 231494945/61_periodogram.png>] [55 </home/jovyan/SRMP-JMAG/output\n",
      "/TIC 219212901/68_plot.png> </home/jovyan/SRMP-JMAG/output/TIC 219212901/68_riv\n",
      "er.png> </home/jovyan/SRMP-JMAG/output/TIC 219212901/68_periodogram.png>]\n",
      "[56 </home/jovyan/SRMP-JMAG/output/TIC 219212901/61_plot.png> </home/jovyan/SRM\n",
      "P-JMAG/output/TIC 219212901/61_river.png> </home/jovyan/SRMP-JMAG/output/TIC 21\n",
      "9212901/61_periodogram.png>] [57 </home/jovyan/SRMP-JMAG/output/TIC 219212901/6\n",
      "5_plot.png> </home/jovyan/SRMP-JMAG/output/TIC 219212901/65_river.png> </home/j\n",
      "ovyan/SRMP-JMAG/output/TIC 219212901/65_periodogram.png>] [58 </home/jovyan/SRM\n",
      "P-JMAG/output/TIC 219212901/66_plot.png> </home/jovyan/SRMP-JMAG/output/TIC 219\n",
      "212901/66_river.png> </home/jovyan/SRMP-JMAG/output/TIC 219212901/66_periodogra\n",
      "m.png>] [59 </home/jovyan/SRMP-JMAG/output/TIC 219212901/67_plot.png> </home/jo\n",
      "vyan/SRMP-JMAG/output/TIC 219212901/67_river.png> </home/jovyan/SRMP-JMAG/outpu\n",
      "t/TIC 219212901/67_periodogram.png>] [60 </home/jovyan/SRMP-JMAG/output/TIC 219\n",
      "212901/69_plot.png> </home/jovyan/SRMP-JMAG/output/TIC 219212901/69_river.png> \n",
      "</home/jovyan/SRMP-JMAG/output/TIC 219212901/69_periodogram.png>] [61 </home/jo\n",
      "vyan/SRMP-JMAG/output/TIC 219167848/68_plot.png> </home/jovyan/SRMP-JMAG/output\n",
      "/TIC 219167848/68_river.png> </home/jovyan/SRMP-JMAG/output/TIC 219167848/68_pe\n",
      "riodogram.png>] [62 </home/jovyan/SRMP-JMAG/output/TIC 219167848/61_plot.png> <\n",
      "/home/jovyan/SRMP-JMAG/output/TIC 219167848/61_river.png> </home/jovyan/SRMP-JM\n",
      "AG/output/TIC 219167848/61_periodogram.png>] [63 </home/jovyan/SRMP-JMAG/output\n",
      "/TIC 167655367/68_plot.png> </home/jovyan/SRMP-JMAG/output/TIC 167655367/68_riv\n",
      "er.png> </home/jovyan/SRMP-JMAG/output/TIC 167655367/68_periodogram.png>]\n",
      "[64 </home/jovyan/SRMP-JMAG/output/TIC 167655367/67_plot.png> </home/jovyan/SRM\n",
      "P-JMAG/output/TIC 167655367/67_river.png> </home/jovyan/SRMP-JMAG/output/TIC 16\n",
      "7655367/67_periodogram.png>] [65 </home/jovyan/SRMP-JMAG/output/TIC 167655367/6\n",
      "6_plot.png> </home/jovyan/SRMP-JMAG/output/TIC 167655367/66_river.png> </home/j\n",
      "ovyan/SRMP-JMAG/output/TIC 167655367/66_periodogram.png>] [66 </home/jovyan/SRM\n",
      "P-JMAG/output/TIC 167655367/65_plot.png> </home/jovyan/SRMP-JMAG/output/TIC 167\n",
      "655367/65_river.png> </home/jovyan/SRMP-JMAG/output/TIC 167655367/65_periodogra\n",
      "m.png>] [67 </home/jovyan/SRMP-JMAG/output/TIC 167655367/61_plot.png> </home/jo\n",
      "vyan/SRMP-JMAG/output/TIC 167655367/61_river.png> </home/jovyan/SRMP-JMAG/outpu\n",
      "t/TIC 167655367/61_periodogram.png>] [68 </home/jovyan/SRMP-JMAG/output/TIC 167\n",
      "655367/69_plot.png> </home/jovyan/SRMP-JMAG/output/TIC 167655367/69_river.png> \n",
      "</home/jovyan/SRMP-JMAG/output/TIC 167655367/69_periodogram.png>] [69 </home/jo\n",
      "vyan/SRMP-JMAG/output/TIC 167655367/63_plot.png> </home/jovyan/SRMP-JMAG/output\n",
      "/TIC 167655367/63_river.png> </home/jovyan/SRMP-JMAG/output/TIC 167655367/63_pe\n",
      "riodogram.png>] [70 </home/jovyan/SRMP-JMAG/output/TIC 167655367/62_plot.png> <\n",
      "/home/jovyan/SRMP-JMAG/output/TIC 167655367/62_river.png> </home/jovyan/SRMP-JM\n",
      "AG/output/TIC 167655367/62_periodogram.png>] [71 </home/jovyan/SRMP-JMAG/output\n",
      "/TIC 167655367/64_plot.png> </home/jovyan/SRMP-JMAG/output/TIC 167655367/64_riv\n",
      "er.png> </home/jovyan/SRMP-JMAG/output/TIC 167655367/64_periodogram.png>]\n",
      "[72 </home/jovyan/SRMP-JMAG/output/TIC 167169329/68_plot.png> </home/jovyan/SRM\n",
      "P-JMAG/output/TIC 167169329/68_river.png> </home/jovyan/SRMP-JMAG/output/TIC 16\n",
      "7169329/68_periodogram.png>] [73 </home/jovyan/SRMP-JMAG/output/TIC 167169329/6\n",
      "1_plot.png> </home/jovyan/SRMP-JMAG/output/TIC 167169329/61_river.png> </home/j\n",
      "ovyan/SRMP-JMAG/output/TIC 167169329/61_periodogram.png>] [74 </home/jovyan/SRM\n",
      "P-JMAG/output/TIC 167169329/65_plot.png> </home/jovyan/SRMP-JMAG/output/TIC 167\n",
      "169329/65_river.png> </home/jovyan/SRMP-JMAG/output/TIC 167169329/65_periodogra\n",
      "m.png>] [75 </home/jovyan/SRMP-JMAG/output/TIC 167169329/66_plot.png> </home/jo\n",
      "vyan/SRMP-JMAG/output/TIC 167169329/66_river.png> </home/jovyan/SRMP-JMAG/outpu\n",
      "t/TIC 167169329/66_periodogram.png>] [76 </home/jovyan/SRMP-JMAG/output/TIC 167\n",
      "169329/67_plot.png> </home/jovyan/SRMP-JMAG/output/TIC 167169329/67_river.png> \n",
      "</home/jovyan/SRMP-JMAG/output/TIC 167169329/67_periodogram.png>] [77 </home/jo\n",
      "vyan/SRMP-JMAG/output/TIC 167169329/69_plot.png> </home/jovyan/SRMP-JMAG/output\n",
      "/TIC 167169329/69_river.png> </home/jovyan/SRMP-JMAG/output/TIC 167169329/69_pe\n",
      "riodogram.png>] [78 </home/jovyan/SRMP-JMAG/output/TIC 167169329/63_plot.png> <\n",
      "/home/jovyan/SRMP-JMAG/output/TIC 167169329/63_river.png> </home/jovyan/SRMP-JM\n",
      "AG/output/TIC 167169329/63_periodogram.png>] [79 </home/jovyan/SRMP-JMAG/output\n",
      "/TIC 167169329/64_plot.png> </home/jovyan/SRMP-JMAG/output/TIC 167169329/64_riv\n",
      "er.png> </home/jovyan/SRMP-JMAG/output/TIC 167169329/64_periodogram.png>]\n",
      "[80 </home/jovyan/SRMP-JMAG/output/TIC 150249278/68_plot.png> </home/jovyan/SRM\n",
      "P-JMAG/output/TIC 150249278/68_river.png> </home/jovyan/SRMP-JMAG/output/TIC 15\n",
      "0249278/68_periodogram.png>] [81 </home/jovyan/SRMP-JMAG/output/TIC 150249278/6\n",
      "7_plot.png> </home/jovyan/SRMP-JMAG/output/TIC 150249278/67_river.png> </home/j\n",
      "ovyan/SRMP-JMAG/output/TIC 150249278/67_periodogram.png>] [82 </home/jovyan/SRM\n",
      "P-JMAG/output/TIC 150249278/66_plot.png> </home/jovyan/SRMP-JMAG/output/TIC 150\n",
      "249278/66_river.png> </home/jovyan/SRMP-JMAG/output/TIC 150249278/66_periodogra\n",
      "m.png>] [83 </home/jovyan/SRMP-JMAG/output/TIC 150249278/65_plot.png> </home/jo\n",
      "vyan/SRMP-JMAG/output/TIC 150249278/65_river.png> </home/jovyan/SRMP-JMAG/outpu\n",
      "t/TIC 150249278/65_periodogram.png>] [84 </home/jovyan/SRMP-JMAG/output/TIC 150\n",
      "249278/61_plot.png> </home/jovyan/SRMP-JMAG/output/TIC 150249278/61_river.png> \n",
      "</home/jovyan/SRMP-JMAG/output/TIC 150249278/61_periodogram.png>] [85 </home/jo\n",
      "vyan/SRMP-JMAG/output/TIC 150249278/69_plot.png> </home/jovyan/SRMP-JMAG/output\n",
      "/TIC 150249278/69_river.png> </home/jovyan/SRMP-JMAG/output/TIC 150249278/69_pe\n",
      "riodogram.png>] [86 </home/jovyan/SRMP-JMAG/output/TIC 150249278/63_plot.png> <\n",
      "/home/jovyan/SRMP-JMAG/output/TIC 150249278/63_river.png> </home/jovyan/SRMP-JM\n",
      "AG/output/TIC 150249278/63_periodogram.png>] [87 </home/jovyan/SRMP-JMAG/output\n",
      "/TIC 150249278/62_plot.png> </home/jovyan/SRMP-JMAG/output/TIC 150249278/62_riv\n",
      "er.png> </home/jovyan/SRMP-JMAG/output/TIC 150249278/62_periodogram.png>]\n",
      "[88 </home/jovyan/SRMP-JMAG/output/TIC 150249278/64_plot.png> </home/jovyan/SRM\n",
      "P-JMAG/output/TIC 150249278/64_river.png> </home/jovyan/SRMP-JMAG/output/TIC 15\n",
      "0249278/64_periodogram.png>] [89 </home/jovyan/SRMP-JMAG/output/TIC 149930020/6\n",
      "8_plot.png> </home/jovyan/SRMP-JMAG/output/TIC 149930020/68_river.png> </home/j\n",
      "ovyan/SRMP-JMAG/output/TIC 149930020/68_periodogram.png>] [90 </home/jovyan/SRM\n",
      "P-JMAG/output/TIC 149930020/65_plot.png> </home/jovyan/SRMP-JMAG/output/TIC 149\n",
      "930020/65_river.png> </home/jovyan/SRMP-JMAG/output/TIC 149930020/65_periodogra\n",
      "m.png>] [91 </home/jovyan/SRMP-JMAG/output/TIC 149930020/66_plot.png> </home/jo\n",
      "vyan/SRMP-JMAG/output/TIC 149930020/66_river.png> </home/jovyan/SRMP-JMAG/outpu\n",
      "t/TIC 149930020/66_periodogram.png>] [92 </home/jovyan/SRMP-JMAG/output/TIC 149\n",
      "930020/67_plot.png> </home/jovyan/SRMP-JMAG/output/TIC 149930020/67_river.png> \n",
      "</home/jovyan/SRMP-JMAG/output/TIC 149930020/67_periodogram.png>] [93] [94 </ho\n",
      "me/jovyan/SRMP-JMAG/output/TIC 149930020/69_plot.png> </home/jovyan/SRMP-JMAG/o\n",
      "utput/TIC 149930020/69_river.png> </home/jovyan/SRMP-JMAG/output/TIC 149930020/\n",
      "69_periodogram.png>] [95 </home/jovyan/SRMP-JMAG/output/TIC 149930020/62_plot.p\n",
      "ng> </home/jovyan/SRMP-JMAG/output/TIC 149930020/62_river.png> </home/jovyan/SR\n",
      "MP-JMAG/output/TIC 149930020/62_periodogram.png>] [96 </home/jovyan/SRMP-JMAG/o\n",
      "utput/TIC 149930020/64_plot.png> </home/jovyan/SRMP-JMAG/output/TIC 149930020/6\n",
      "4_river.png> </home/jovyan/SRMP-JMAG/output/TIC 149930020/64_periodogram.png>]\n",
      "[97 </home/jovyan/SRMP-JMAG/output/TIC 149570686/68_plot.png> </home/jovyan/SRM\n",
      "P-JMAG/output/TIC 149570686/68_river.png> </home/jovyan/SRMP-JMAG/output/TIC 14\n",
      "9570686/68_periodogram.png>] [98 </home/jovyan/SRMP-JMAG/output/TIC 149570686/6\n",
      "5_plot.png> </home/jovyan/SRMP-JMAG/output/TIC 149570686/65_river.png> </home/j\n",
      "ovyan/SRMP-JMAG/output/TIC 149570686/65_periodogram.png>] [99 </home/jovyan/SRM\n",
      "P-JMAG/output/TIC 149570686/66_plot.png> </home/jovyan/SRMP-JMAG/output/TIC 149\n",
      "570686/66_river.png> </home/jovyan/SRMP-JMAG/output/TIC 149570686/66_periodogra\n",
      "m.png>] [100 </home/jovyan/SRMP-JMAG/output/TIC 149570686/61_plot.png> </home/j\n",
      "ovyan/SRMP-JMAG/output/TIC 149570686/61_river.png> </home/jovyan/SRMP-JMAG/outp\n",
      "ut/TIC 149570686/61_periodogram.png>] [101 </home/jovyan/SRMP-JMAG/output/TIC 1\n",
      "49570686/69_plot.png> </home/jovyan/SRMP-JMAG/output/TIC 149570686/69_river.png\n",
      "> </home/jovyan/SRMP-JMAG/output/TIC 149570686/69_periodogram.png>] [102 </home\n",
      "/jovyan/SRMP-JMAG/output/TIC 149570686/62_plot.png> </home/jovyan/SRMP-JMAG/out\n",
      "put/TIC 149570686/62_river.png> </home/jovyan/SRMP-JMAG/output/TIC 149570686/62\n",
      "_periodogram.png>] [103 </home/jovyan/SRMP-JMAG/output/TIC 149570686/64_plot.pn\n",
      "g> </home/jovyan/SRMP-JMAG/output/TIC 149570686/64_river.png> </home/jovyan/SRM\n",
      "P-JMAG/output/TIC 149570686/64_periodogram.png>]\n",
      "Chapter 2.\n",
      "[104] \n",
      "AED: lastpage setting LastPage\n",
      "[105 </home/jovyan/SRMP-JMAG/output/TIC 149930020/63_plot.png> </home/jovyan/SR\n",
      "MP-JMAG/output/TIC 149930020/63_river.png> </home/jovyan/SRMP-JMAG/output/TIC 1\n",
      "49930020/63_periodogram.png>] (./main.aux)\n",
      "\n",
      "LaTeX Warning: There were multiply-defined labels.\n",
      "\n",
      " )\n",
      "(see the transcript file for additional information){/usr/share/texmf/fonts/enc\n",
      "/dvips/cm-super/cm-super-t1.enc}</usr/share/texmf/fonts/type1/public/cm-super/s\n",
      "fbx1000.pfb></usr/share/texmf/fonts/type1/public/cm-super/sfbx1200.pfb></usr/sh\n",
      "are/texmf/fonts/type1/public/cm-super/sfbx1440.pfb></usr/share/texmf/fonts/type\n",
      "1/public/cm-super/sfbx2074.pfb></usr/share/texmf/fonts/type1/public/cm-super/sf\n",
      "bx2488.pfb></usr/share/texmf/fonts/type1/public/cm-super/sfrm1000.pfb></usr/sha\n",
      "re/texmf/fonts/type1/public/cm-super/sfrm1200.pfb></usr/share/texmf/fonts/type1\n",
      "/public/cm-super/sfrm1728.pfb>\n",
      "Output written on main.pdf (106 pages, 17972666 bytes).\n",
      "Transcript written on main.log.\n"
     ]
    }
   ],
   "source": [
    "def make_chapter(title, data, doc):\n",
    "    with doc.create(Chapter(title)):\n",
    "        for tic in data.keys():\n",
    "            doc.append(NoEscape(r'\\newpage'))\n",
    "            with doc.create(Section(f\"{tic}\")):\n",
    "                for i, sector in enumerate(data[tic]):\n",
    "                    if i > 0:\n",
    "                        doc.append(NoEscape(r'\\newpage'))\n",
    "                    with doc.create(Subsection(f\"Sector {sector}\", label=f\"{tic}_{sector}\")):\n",
    "                        lc = load_lc(f\"{tic}\", sector)\n",
    "\n",
    "                        failed = []\n",
    "                        for plot_type in [\"plot\", \"river\", \"periodogram\"]:\n",
    "                            if not os.path.exists(f\"{OUTPUT_PATH}/{tic}/{sector}_{plot_type}.png\"):\n",
    "                                failed.append(plot_type)\n",
    "                                continue\n",
    "                            with doc.create(Figure(position=\"H\")) as plot:\n",
    "                                doc.append(NoEscape(r'\\begin{center}'))\n",
    "                                plot.add_image(f\"{OUTPUT_PATH}/{tic}/{sector}_{plot_type}.png\", width=NoEscape(r'0.5\\textwidth'))\n",
    "                                doc.append(NoEscape(r'\\end{center}'))\n",
    "\n",
    "                        if failed != []:\n",
    "                            doc.append(\"Failed to generate \" + \", \".join(failed) + f\" for {tic}.\")\n",
    "\n",
    "def make_pdf_report():\n",
    "    try:\n",
    "        shutil.rmtree(\"./build\")\n",
    "    except:\n",
    "        pass\n",
    "    os.mkdir(\"./build\")\n",
    "\n",
    "    doc = Document(documentclass=\"report\", lmodern=False, geometry_options={\"margin\": \"0.5in\", \"top\": \"0.5in\", \"bottom\": \"0.5in\"})\n",
    "\n",
    "    doc.preamble.append(Command(\"title\", \"JMAG Complex Rotator Pipeline Results\"))\n",
    "    doc.preamble.append(Command(\"date\", f\"Generated on {datetime.now().strftime('%x %X')}\"))\n",
    "    doc.preamble.append(NoEscape(r'\\usepackage{float}'))\n",
    "    doc.preamble.append(NoEscape(r'\\usepackage{hyperref}'))\n",
    "    doc.preamble.append(NoEscape(r'\\hypersetup{colorlinks=true}'))\n",
    "\n",
    "\n",
    "    doc.append(NoEscape(r'\\maketitle'))\n",
    "    doc.append(NoEscape(r'\\tableofcontents'))\n",
    "    \n",
    "    make_chapter(\"Complex Rotators\", complex, doc)\n",
    "    make_chapter(\"Non-Complex Rotators\", not_complex, doc)\n",
    "    doc.generate_tex(\"./build/main\")\n",
    "    \n",
    "    os.system(\"cd build && pdflatex -interaction=nonstopmode main.tex && pdflatex -interaction=nonstopmode main.tex\")\n",
    "    \n",
    "make_pdf_report()"
   ]
  }
 ],
 "metadata": {
  "kernelspec": {
   "display_name": "TESS Environment",
   "language": "python",
   "name": "tess"
  },
  "language_info": {
   "codemirror_mode": {
    "name": "ipython",
    "version": 3
   },
   "file_extension": ".py",
   "mimetype": "text/x-python",
   "name": "python",
   "nbconvert_exporter": "python",
   "pygments_lexer": "ipython3",
   "version": "3.11.0"
  }
 },
 "nbformat": 4,
 "nbformat_minor": 5
}
