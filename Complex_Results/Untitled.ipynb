{
 "cells": [
  {
   "cell_type": "code",
   "execution_count": 8,
   "id": "3c8a5bcb-66b8-43d6-9ba6-e966faf9a740",
   "metadata": {},
   "outputs": [
    {
     "name": "stdout",
     "output_type": "stream",
     "text": [
      "[51 52]\n"
     ]
    }
   ],
   "source": [
    "import numpy as np\n",
    "list = [50,51,52]\n",
    "list = np.array(list)\n",
    "print(str(list[list>50]))"
   ]
  },
  {
   "cell_type": "code",
   "execution_count": 5,
   "id": "10302f61-2789-4ad1-be33-6e8253c89f4d",
   "metadata": {},
   "outputs": [],
   "source": [
    "list = np.array(list)"
   ]
  },
  {
   "cell_type": "code",
   "execution_count": 6,
   "id": "1fa57a2c-433d-4e0f-abcf-d5d689cb4b76",
   "metadata": {},
   "outputs": [
    {
     "data": {
      "text/plain": [
       "array([51, 52])"
      ]
     },
     "execution_count": 6,
     "metadata": {},
     "output_type": "execute_result"
    }
   ],
   "source": [
    "list[list>50]"
   ]
  },
  {
   "cell_type": "code",
   "execution_count": null,
   "id": "aea0ad02-5b21-4398-9271-63770531129e",
   "metadata": {},
   "outputs": [],
   "source": []
  }
 ],
 "metadata": {
  "kernelspec": {
   "display_name": "Python 3 (ipykernel)",
   "language": "python",
   "name": "python3"
  },
  "language_info": {
   "codemirror_mode": {
    "name": "ipython",
    "version": 3
   },
   "file_extension": ".py",
   "mimetype": "text/x-python",
   "name": "python",
   "nbconvert_exporter": "python",
   "pygments_lexer": "ipython3",
   "version": "3.11.7"
  }
 },
 "nbformat": 4,
 "nbformat_minor": 5
}
