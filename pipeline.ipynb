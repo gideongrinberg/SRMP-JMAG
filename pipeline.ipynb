{
 "cells": [
  {
   "cell_type": "markdown",
   "id": "279b3c0d-613e-462e-9f5e-648365b21431",
   "metadata": {},
   "source": [
    "# Pipeline for Full-Frame Images\n",
    "1. Convert the cutout into a lightcurve\n",
    "2. Make a river plot of the lightcurve and draw a line at the extrema\n",
    "3. Produce a Lomb-Scargle periodogram and label the harmonics\n",
    "\n",
    "## Setup and Imports\n",
    "This cell imports all of the necessary libraries. It also sets up two important variables: `DOWNLOAD_PATH` and `OUTPUT_PATH`, where the cutouts are downloaded and the lightcurves are stored. On Colab, these need to be changed."
   ]
  },
  {
   "cell_type": "code",
   "execution_count": 17,
   "id": "97dbb093-ae41-46ce-b638-fd8717a6879d",
   "metadata": {},
   "outputs": [],
   "source": [
    "import os\n",
    "import json\n",
    "import random\n",
    "import tess_cpm\n",
    "import numpy as np\n",
    "import pandas as pd\n",
    "import lightkurve as lk\n",
    "\n",
    "import matplotlib\n",
    "import matplotlib.pyplot as plt\n",
    "\n",
    "from astropy import table\n",
    "from astropy import units as u\n",
    "from astroquery.mast import Tesscut\n",
    "from astroquery.mast.utils import parse_input_location\n",
    "\n",
    "from collections import OrderedDict\n",
    "\n",
    "%matplotlib inline\n",
    "\n",
    "DOWNLOAD_PATH = \"./data\"\n",
    "OUTPUT_PATH = \"./lightcurves\"\n",
    "PROCVER = \"v0.3.1\""
   ]
  },
  {
   "cell_type": "markdown",
   "id": "0915cec3-c75b-4dee-a36b-3b84fa677a0e",
   "metadata": {},
   "source": [
    "## Downloading and Processing Images\n",
    "\n",
    "This cell contains the code to download a TESS cutout and process it with `tess-cpm`. The resulting lightcurve is saved to a CSV. The name of the folder in which the lightcurve is saved is its TIC, and the filename is the sector number. \n",
    "\n",
    "**`download_object(coordinates=None, size=50, sector=None, inflate=True, objectname=None)`**\n",
    "\n",
    "Downloads a cutout for a given sector and returns the path. If the cutout has already been downloaded, only returns the path.\n",
    "\n",
    "**`process_sector(tic, sector)`**\n",
    "\n",
    "Generates a lightcurve from a full-frame image of the object with the given TIC during the given sector. Saves the lightcurve to a CSV and returns it.\n",
    "\n",
    "**`load_lc(tic, sector)`**\n",
    "\n",
    "Loads the lightcurve of the given object and sector. Downloads and processes the FFI for the sector if it does not already exist.\n"
   ]
  },
  {
   "cell_type": "code",
   "execution_count": 18,
   "id": "838a57f2-06ff-4dd9-8de3-9e054d868d84",
   "metadata": {},
   "outputs": [
    {
     "name": "stdout",
     "output_type": "stream",
     "text": [
      "OrderedDict([('SECTOR', 68), ('TESSID', '300651846'), ('TARGETID', '300651846'), ('LABEL', 'TIC 300651846'), ('OBJECT', 'TIC 300651846'), ('PROCVER', 'v0.3.1'), ('AUTHOR', 'TESS'), ('CREATOR', 'GIDEON')])\n"
     ]
    }
   ],
   "source": [
    "def download_object(coordinates=None, size=50, sector=None, inflate=True, objectname=None):\n",
    "    print(f\"Downloading {objectname}:{sector}\")\n",
    "    coords = parse_input_location(coordinates, objectname)\n",
    "    ra = f\"{coords.ra.value:.6f}\"\n",
    "    matched = [m for m in os.listdir(DOWNLOAD_PATH) if ra in m]\n",
    "    if len(matched) != 0:\n",
    "        return [f\"{DOWNLOAD_PATH}/{matched[0]}\"]\n",
    "    \n",
    "    path = Tesscut.download_cutouts(coordinates=coordinates, size=size, sector=sector, path=DOWNLOAD_PATH, inflate=inflate, objectname=objectname)\n",
    "    return [path[0][\"Local Path\"]]\n",
    "\n",
    "\n",
    "def process_sector(tic, sector):\n",
    "    if os.path.isfile(f\"{OUTPUT_PATH}/{tic.split()[1]}/Sector{sector}.csv\"):\n",
    "        return\n",
    "    \n",
    "    file = download_object(objectname=tic, sector=sector)\n",
    "    s = tess_cpm.Source(f\"{file[0]}\", remove_bad=True)\n",
    "    \n",
    "    s.set_aperture(rowlims=[25, 25], collims=[25, 25])\n",
    "    s.add_cpm_model(exclusion_size=5, n=64, predictor_method=\"similar_brightness\")\n",
    "\n",
    "    s.set_regs([0.1])\n",
    "    s.holdout_fit_predict(k=100)\n",
    "\n",
    "    apt_detrended_flux = s.get_aperture_lc(data_type=\"cpm_subtracted_flux\")\n",
    "\n",
    "    lc = lk.LightCurve(time=s.time, flux=apt_detrended_flux)\n",
    "\n",
    "    lc.meta[\"SECTOR\"] = sector\n",
    "    lc.meta[\"TESSID\"] = tic.split()[1]\n",
    "    lc.meta[\"TARGETID\"] = tic.split()[1]\n",
    "    lc.meta[\"LABEL\"] = tic\n",
    "    lc.meta[\"OBJECT\"] = tic\n",
    "    lc.meta[\"PROCVER\"] = PROCVER\n",
    "    lc.meta[\"AUTHOR\"] = \"TESS\"\n",
    "    lc.meta[\"CREATOR\"] = \"GIDEON\"\n",
    "    \n",
    "    if not os.path.isdir(f\"{OUTPUT_PATH}/{tic.split()[1]}/\"):\n",
    "        os.mkdir(f\"{OUTPUT_PATH}/{tic.split()[1]}/\")\n",
    "\n",
    "    with open(f\"{OUTPUT_PATH}/{tic.split()[1]}/Sector{sector}.meta\", \"w\") as f:\n",
    "        f.write(json.dumps(lc.meta))\n",
    "    \n",
    "    lc.to_csv(f\"{OUTPUT_PATH}/{tic.split()[1]}/Sector{sector}.csv\")\n",
    "    return lc\n",
    "\n",
    "def load_lc(tic, sector):\n",
    "    path = f\"{OUTPUT_PATH}/{tic.split()[1]}/Sector{sector}.csv\"\n",
    "    if not os.path.isfile(path):\n",
    "        process_sector(tic, sector)\n",
    "        \n",
    "    csv = pd.read_csv(path)\n",
    "    lc = lk.LightCurve(time=csv.time, flux=csv.flux) \n",
    "    with open(f\"{OUTPUT_PATH}/{tic.split()[1]}/Sector{sector}.meta\") as f:\n",
    "        lc.meta = json.loads(f.read(), object_pairs_hook=OrderedDict)\n",
    "    return lc"
   ]
  },
  {
   "cell_type": "markdown",
   "id": "214afe30-a98c-4d26-ae51-7fe2a6572819",
   "metadata": {},
   "source": [
    "## Graphing\n",
    "\n",
    "These functions produce stylized graphs based on the images Mark showed us. By default, they will fold the lightcurve unless `fold` is set to `False`."
   ]
  },
  {
   "cell_type": "code",
   "execution_count": 26,
   "id": "bb228d11-b945-4169-a33c-e48917714cdf",
   "metadata": {},
   "outputs": [],
   "source": [
    "def graph_lc(lc, ylim=None, fold=True):\n",
    "    if fold:\n",
    "        lc = lc.fold(lc.to_periodogram().period_at_max_power, epoch_time=lc.time[0])\n",
    "    lc = lc.remove_outliers(sigma=3)\n",
    "    \n",
    "    blc = lc.bin(u.Quantity(25, u.s))\n",
    "    \n",
    "    plt.style.use(\"seaborn-v0_8-notebook\")\n",
    "    fig, ax = plt.subplots()\n",
    "    \n",
    "    ax.scatter(lc[\"time\"].value, lc[\"flux\"], 4, \"#1f77b4\", alpha=0.1)\n",
    "    ax.scatter(blc[\"time\"].value, blc[\"flux\"], 6, \"#1f77b4\", alpha=1)\n",
    "    \n",
    "    ax.set_title(\"TIC 300651846\")\n",
    "    ax.set_xlabel(\"Phase\")\n",
    "    ax.set_ylabel(\"Flux\")\n",
    "\n",
    "    if ylim is not None:\n",
    "        ax.set_ylim(-ylim, ylim)\n",
    "\n",
    "    return ax"
   ]
  },
  {
   "cell_type": "code",
   "execution_count": 31,
   "id": "191c3662-14fc-40ae-828c-5fa0dae96093",
   "metadata": {},
   "outputs": [],
   "source": [
    "def graph_lc_paper(lc, ylim=None, fold=True):\n",
    "    if fold:\n",
    "        lc = lc.fold(lc.to_periodogram().period_at_max_power)\n",
    "    lc = lc.remove_outliers(sigma=3)\n",
    "    \n",
    "    blc = lc.bin(u.Quantity(20, u.s))\n",
    "    \n",
    "    plt.style.use(\"seaborn-v0_8-paper\")\n",
    "    fig, ax = plt.subplots()\n",
    "    \n",
    "    ax.scatter(lc[\"time\"].value, lc[\"flux\"], 14, \"#d3d3d3\", alpha=0.7)\n",
    "    ax.scatter(blc[\"time\"].value, blc[\"flux\"], 20, \"#1f77b4\", alpha=1)\n",
    "    \n",
    "    ax.set_title(\"TIC 300651846\")\n",
    "    ax.set_xlabel(\"Phase\")\n",
    "    ax.set_ylabel(\"Flux\")\n",
    "\n",
    "    if ylim is not None:\n",
    "        ax.set_ylim(-ylim, ylim)\n",
    "\n",
    "    return ax"
   ]
  },
  {
   "cell_type": "markdown",
   "id": "ee299dea-3f64-4d74-ad10-f3511d2208ab",
   "metadata": {},
   "source": [
    "## River Plot\n",
    "\n",
    "Generates an annotated river plot of the given lightcurve and returns the matplotlib axes."
   ]
  },
  {
   "cell_type": "code",
   "execution_count": 1,
   "id": "33537c27-7ed4-4429-87d5-7dac9d349b74",
   "metadata": {},
   "outputs": [],
   "source": [
    "def river_plot(lc):\n",
    "    lc = lc.fold(lc.to_periodogram().period_at_max_power, epoch_time=lc.time[0])    \n",
    "    blc = lc.bin(u.Quantity(lc.to_periodogram().period_at_max_power/200, u.d))\n",
    "    blc.sort(\"flux\")\n",
    "\n",
    "    min = blc[0][0].value/lc.period.value\n",
    "    max = blc[-1][0].value/lc.period.value\n",
    "\n",
    "    ax = lc.plot_river()\n",
    "    ax.axvline(min, 0, 1, color=\"red\")\n",
    "    ax.axvline(max, 0, 1, color=\"red\")\n",
    "    \n",
    "    return ax"
   ]
  }
 ],
 "metadata": {
  "kernelspec": {
   "display_name": "TESS Environment",
   "language": "python",
   "name": "tess"
  },
  "language_info": {
   "codemirror_mode": {
    "name": "ipython",
    "version": 3
   },
   "file_extension": ".py",
   "mimetype": "text/x-python",
   "name": "python",
   "nbconvert_exporter": "python",
   "pygments_lexer": "ipython3",
   "version": "3.11.0"
  }
 },
 "nbformat": 4,
 "nbformat_minor": 5
}
