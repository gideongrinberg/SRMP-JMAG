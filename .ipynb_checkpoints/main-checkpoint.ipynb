{
 "cells": [
  {
   "cell_type": "code",
   "execution_count": 18,
   "id": "c28b65c7-e91e-4ae3-884c-c853ebf44cfd",
   "metadata": {},
   "outputs": [],
   "source": [
    "import pandas as pd\n",
    "import lightkurve as lk \n",
    "\n",
    "from tqdm.notebook import tqdm\n",
    "from multiprocessing import cpu_count, Pool\n",
    "\n",
    "%run pipeline.ipynb"
   ]
  },
  {
   "cell_type": "code",
   "execution_count": 8,
   "id": "b24f8ac4-c12d-41ba-a0cc-04425c82877c",
   "metadata": {},
   "outputs": [
    {
     "data": {
      "application/vnd.jupyter.widget-view+json": {
       "model_id": "7a9b0af5b3f14c8ba7419cb99dba5079",
       "version_major": 2,
       "version_minor": 0
      },
      "text/plain": [
       "  0%|          | 0/52 [00:00<?, ?it/s]"
      ]
     },
     "metadata": {},
     "output_type": "display_data"
    }
   ],
   "source": [
    "def get_sectors(tic):\n",
    "    sectors = []\n",
    "    for result in lk.search_tesscut(\"TIC \" + str(tic)):\n",
    "        sectors.append(int(result.mission[0].split(\" \")[2]))\n",
    "        \n",
    "    return sectors\n",
    "\n",
    "def get_targets(tics):\n",
    "    targets = {}\n",
    "\n",
    "    with tqdm(total=len(tics)) as pbar:\n",
    "        for tic in tics:\n",
    "            targets[tic] = get_sectors(tic)\n",
    "            pbar.update()\n",
    "    return targets\n",
    "\n",
    "targets = get_targets(pd.read_csv(\"./stars.csv\")[\"TIC\"])"
   ]
  },
  {
   "cell_type": "code",
   "execution_count": 19,
   "id": "7c9080d8-7d2b-42e8-a9d4-c5e89cacf81e",
   "metadata": {},
   "outputs": [],
   "source": [
    "targets = {142173958: [10, 37], 67768181: [42]}\n",
    "total = sum([len(targets[target]) for target in targets])"
   ]
  },
  {
   "cell_type": "code",
   "execution_count": 24,
   "id": "d3b68364-4483-40ee-a321-92f9cfb973f0",
   "metadata": {},
   "outputs": [],
   "source": [
    "with tqdm(total=total) as pbar:\n",
    "    for target in targets:\n",
    "        for sector in targets[target]:\n",
    "            lc = load_lc(f\"TIC {target}\", sector)\n",
    "\n",
    "            # Process lightcurves here!\n",
    "            \n",
    "            pbar.update()"
   ]
  },
  {
   "cell_type": "code",
   "execution_count": 23,
   "id": "04a81b14-4e68-4029-a452-dfb42a6ad565",
   "metadata": {},
   "outputs": [],
   "source": [
    "plt.close(\"all\")"
   ]
  }
 ],
 "metadata": {
  "kernelspec": {
   "display_name": "TESS Environment",
   "language": "python",
   "name": "tess"
  },
  "language_info": {
   "codemirror_mode": {
    "name": "ipython",
    "version": 3
   },
   "file_extension": ".py",
   "mimetype": "text/x-python",
   "name": "python",
   "nbconvert_exporter": "python",
   "pygments_lexer": "ipython3",
   "version": "3.11.0"
  }
 },
 "nbformat": 4,
 "nbformat_minor": 5
}
